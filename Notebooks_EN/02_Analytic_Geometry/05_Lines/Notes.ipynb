{
  "nbformat": 4,
  "nbformat_minor": 0,
  "metadata": {
    "colab": {
      "provenance": []
    },
    "kernelspec": {
      "name": "python3",
      "display_name": "Python 3"
    },
    "language_info": {
      "name": "python"
    }
  },
  "cells": [
    {
      "cell_type": "markdown",
      "source": [
        "# **EXERCISES**"
      ],
      "metadata": {
        "id": "hZM0acz9AFK-"
      }
    },
    {
      "cell_type": "code",
      "source": [
        "#The line passes through points A(1,2) B(3,4) Find the equation of the line.\n"
      ],
      "metadata": {
        "id": "-IryCG5_AKVM"
      },
      "execution_count": null,
      "outputs": []
    },
    {
      "cell_type": "markdown",
      "source": [
        "![image.png](data:image/png;base64,iVBORw0KGgoAAAANSUhEUgAAAIMAAAAqCAIAAAAf7H8XAAAB+UlEQVR4Ae1VQZLDMAjrn/L/t2UP3tFowAazTVuyVU+ABcjIpI9Tvx4TePSgIRanlOjyCKSElOgygS48tBNSossEuvDQTkiJLhPowkM7ISW6TKALD+2ElOgygTKPg37l5HWCdmI9m/DkOI7wvHwoJX5HVp1sFZ8qIyWkRPpI3gsovfHxT3EtwXwnpl1LvKuMubjpjj9LX5ORbHvkNMJNpwAODnBAhsGbdqIE+MEYdY272WwHNr0kgqhgCMBlDRBEVmBUwYxnO2gRH0VKcAO2z/M0LnrgmcQG8N4YlU19nu9IYcDU5qDv4iMlvAEb1xffiURKIN90Mi5gFxqmhXHjp7BDI34oOJ2WmpLxwWluEPxSJfxE9kfpkT7i66eRXAnfxkfQBq8pNoCfGr6+iRiXiwRHDPP2fqJH+oivn0bKSowRp3WfAZiLGZc/TeMIlAzSuDGlfbBBGjfuEpzWlMCdg4rPH5m7GRdKIM4G2yUmSEyzGMl2mhgDciXGzaHBhb1XzEwL444sEwQ9sF0VX8VNwRUM3bljDN483VICtS5vj8ofN0pKvIJtrgRTZPsVbL65ZqIERv+Pt6GJ/IkSf/7sNrnejWjkStzoMremKiW6yCclpESXCXThoZ2QEl0m0IWHdkJKdJlAFx7aCSnRZQJdeGgnpESXCXTh8QNYaYx1eaHQggAAAABJRU5ErkJggg==) the formula"
      ],
      "metadata": {
        "id": "szVzpiCLA9W_"
      }
    },
    {
      "cell_type": "code",
      "source": [
        "import sympy as sp\n",
        "A = (1,2)\n",
        "B = (3,4)\n",
        "m = (B[1]-A[1])/(B[0]-A[0])\n",
        "m"
      ],
      "metadata": {
        "id": "KAlruu18A_9o",
        "outputId": "4f699afe-a02d-4e46-fa9a-f14ab733bd0c",
        "colab": {
          "base_uri": "https://localhost:8080/"
        }
      },
      "execution_count": 6,
      "outputs": [
        {
          "output_type": "execute_result",
          "data": {
            "text/plain": [
              "1.0"
            ]
          },
          "metadata": {},
          "execution_count": 6
        }
      ]
    },
    {
      "cell_type": "code",
      "source": [
        "b = A[1]-m*A[0]\n",
        "b"
      ],
      "metadata": {
        "id": "FWYMCmv_CSht",
        "outputId": "5eca7cb7-4394-48b9-ad62-f2d7f919f169",
        "colab": {
          "base_uri": "https://localhost:8080/"
        }
      },
      "execution_count": 7,
      "outputs": [
        {
          "output_type": "execute_result",
          "data": {
            "text/plain": [
              "1.0"
            ]
          },
          "metadata": {},
          "execution_count": 7
        }
      ]
    },
    {
      "cell_type": "code",
      "source": [
        "print (f'y = {m}x + {b}')"
      ],
      "metadata": {
        "id": "yrXO1TewCwGx",
        "outputId": "7a9bf18a-fc09-489e-b2bb-7a844e77bc82",
        "colab": {
          "base_uri": "https://localhost:8080/"
        }
      },
      "execution_count": 8,
      "outputs": [
        {
          "output_type": "stream",
          "name": "stdout",
          "text": [
            "y = 1.0x + 1.0\n"
          ]
        }
      ]
    },
    {
      "cell_type": "code",
      "source": [
        "#The line passes through point A(1,2) and is parallel to the line y = 2x+3 Find the equation of the line."
      ],
      "metadata": {
        "id": "L8_uKh7KBTkP"
      },
      "execution_count": 8,
      "outputs": []
    },
    {
      "cell_type": "code",
      "source": [
        "A = (1,2)\n",
        "m = 2\n",
        "b = A[1]-m*A[0]\n",
        "print (f'y = {m}x + {b}')\n"
      ],
      "metadata": {
        "id": "i5_0pMAbC_SM",
        "outputId": "8edc21f2-9d1f-473b-dcbf-31bf5ef23d42",
        "colab": {
          "base_uri": "https://localhost:8080/"
        }
      },
      "execution_count": 10,
      "outputs": [
        {
          "output_type": "stream",
          "name": "stdout",
          "text": [
            "y = 2x + 0\n"
          ]
        }
      ]
    },
    {
      "cell_type": "code",
      "source": [
        "#The line passes through point A(1,2) and is perpendicular to the line y = 2x+3 Find the equation of the line."
      ],
      "metadata": {
        "id": "JwFP90MWEF9A"
      },
      "execution_count": null,
      "outputs": []
    },
    {
      "cell_type": "code",
      "source": [
        "A=(1,2)\n",
        "m = -1/2\n",
        "b = A[1]-m*A[0]\n",
        "print (f'y = {m}x + {b}')"
      ],
      "metadata": {
        "id": "tHla8PqhFj27",
        "outputId": "eeb786a1-c9f0-486c-dbd7-c1163b94c9d1",
        "colab": {
          "base_uri": "https://localhost:8080/"
        }
      },
      "execution_count": 11,
      "outputs": [
        {
          "output_type": "stream",
          "name": "stdout",
          "text": [
            "y = -0.5x + 2.5\n"
          ]
        }
      ]
    },
    {
      "cell_type": "code",
      "source": [
        "#We have two lines y = 2x+3 and y = 3x+2 Find the intersection point of these lines and calculate the angle between them."
      ],
      "metadata": {
        "id": "YjeGSHsoGDNA"
      },
      "execution_count": null,
      "outputs": []
    },
    {
      "cell_type": "code",
      "source": [
        "import math\n",
        "m1 = 2\n",
        "m2 = 3\n",
        "x = (3-2) / (3-2)\n",
        "x"
      ],
      "metadata": {
        "id": "EHzDl3QoGRqN",
        "outputId": "42ce143f-aaf0-4181-98eb-aa5cd5df341d",
        "colab": {
          "base_uri": "https://localhost:8080/"
        }
      },
      "execution_count": 19,
      "outputs": [
        {
          "output_type": "execute_result",
          "data": {
            "text/plain": [
              "1.0"
            ]
          },
          "metadata": {},
          "execution_count": 19
        }
      ]
    },
    {
      "cell_type": "code",
      "source": [
        "y = 2*x + 3\n",
        "y"
      ],
      "metadata": {
        "id": "veZSpbSQITID",
        "outputId": "a8338d3f-e6b4-4148-a017-5a33047b190a",
        "colab": {
          "base_uri": "https://localhost:8080/"
        }
      },
      "execution_count": 21,
      "outputs": [
        {
          "output_type": "execute_result",
          "data": {
            "text/plain": [
              "5.0"
            ]
          },
          "metadata": {},
          "execution_count": 21
        }
      ]
    },
    {
      "cell_type": "code",
      "source": [
        "# intersection point is (1,5)"
      ],
      "metadata": {
        "id": "B0CYCAMuJ84j"
      },
      "execution_count": null,
      "outputs": []
    },
    {
      "cell_type": "code",
      "source": [
        "tan_theta = abs((m2 - m1) / (1 + m1 * m2))\n",
        "theta = math.degrees(math.atan(tan_theta))\n",
        "theta #defines angle between them"
      ],
      "metadata": {
        "id": "y_7iYAb0KMp8",
        "outputId": "80a92c69-56df-483c-fa2f-3c536c24d754",
        "colab": {
          "base_uri": "https://localhost:8080/"
        }
      },
      "execution_count": 24,
      "outputs": [
        {
          "output_type": "execute_result",
          "data": {
            "text/plain": [
              "8.130102354155978"
            ]
          },
          "metadata": {},
          "execution_count": 24
        }
      ]
    },
    {
      "cell_type": "code",
      "source": [
        "#Write the equation of the line passing through point A(1,2) and parallel to the vector v = [2,3]"
      ],
      "metadata": {
        "id": "YBtpwkKHKi6C"
      },
      "execution_count": null,
      "outputs": []
    },
    {
      "cell_type": "code",
      "source": [
        "x1 , y1 = 1,2\n",
        "m = 3/2\n",
        "#formula is y - y1 = m*(x-x1)\n",
        "b = y1 - m * x1\n",
        "b"
      ],
      "metadata": {
        "id": "s7Vs-MjZKsia",
        "outputId": "30b24ec3-31d4-4173-c0e4-ffd0ddec6003",
        "colab": {
          "base_uri": "https://localhost:8080/"
        }
      },
      "execution_count": 26,
      "outputs": [
        {
          "output_type": "execute_result",
          "data": {
            "text/plain": [
              "0.5"
            ]
          },
          "metadata": {},
          "execution_count": 26
        }
      ]
    },
    {
      "cell_type": "code",
      "source": [
        "print(f\"y={m}x+{b}\")"
      ],
      "metadata": {
        "id": "YcwRKAGAQ_kv",
        "outputId": "a5f85c96-6cad-49c2-8584-51922014457e",
        "colab": {
          "base_uri": "https://localhost:8080/"
        }
      },
      "execution_count": 27,
      "outputs": [
        {
          "output_type": "stream",
          "name": "stdout",
          "text": [
            "y=1.5x+0.5\n"
          ]
        }
      ]
    },
    {
      "cell_type": "code",
      "source": [
        "#We have the line y=2x+3 Find an example of a line perpendicular and parallel to it."
      ],
      "metadata": {
        "id": "FUvcjp-VRrUh"
      },
      "execution_count": null,
      "outputs": []
    },
    {
      "cell_type": "code",
      "source": [
        "import random\n",
        "m=2\n",
        "b=random.randint(1,9)\n",
        "print(f\"y={m}x+{b}\")"
      ],
      "metadata": {
        "id": "tLAIEnQvRylg",
        "outputId": "bca9a7c4-4e4b-4610-8c9f-9274a88cc2ec",
        "colab": {
          "base_uri": "https://localhost:8080/"
        }
      },
      "execution_count": 41,
      "outputs": [
        {
          "output_type": "stream",
          "name": "stdout",
          "text": [
            "y=2x+7\n"
          ]
        }
      ]
    },
    {
      "cell_type": "code",
      "source": [
        "mperpendicular = -1/m\n",
        "bperpendicular = random.randint(1,9)\n",
        "print(f\"y={mperpendicular}x+{bperpendicular}\")"
      ],
      "metadata": {
        "id": "hc4MX76VTpKR",
        "outputId": "d20c0072-bc7f-413e-8de5-f657bacbc319",
        "colab": {
          "base_uri": "https://localhost:8080/"
        }
      },
      "execution_count": 44,
      "outputs": [
        {
          "output_type": "stream",
          "name": "stdout",
          "text": [
            "y=-0.5x+9\n"
          ]
        }
      ]
    },
    {
      "cell_type": "code",
      "source": [
        "#We have the line y=2x+3 and point A(1,2) Find the distance from point A to the line."
      ],
      "metadata": {
        "id": "vrl57CpVT6ZN"
      },
      "execution_count": null,
      "outputs": []
    },
    {
      "cell_type": "markdown",
      "source": [
        "![image.png](data:image/png;base64,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) the formula"
      ],
      "metadata": {
        "id": "hCW6hvGUUxh1"
      }
    },
    {
      "cell_type": "code",
      "source": [
        "A= 2\n",
        "B= -1\n",
        "C= 3\n",
        "x1= 1\n",
        "y1 = 2\n",
        "denominator = math.sqrt(A**2 + B**2)\n",
        "d = (2*1 - 1*2 + 3) / denominator\n",
        "d"
      ],
      "metadata": {
        "id": "ktJb5SL1UFrB",
        "outputId": "0b2b07ac-f484-4ec7-f9de-8fa689b487d6",
        "colab": {
          "base_uri": "https://localhost:8080/"
        }
      },
      "execution_count": 45,
      "outputs": [
        {
          "output_type": "execute_result",
          "data": {
            "text/plain": [
              "1.3416407864998738"
            ]
          },
          "metadata": {},
          "execution_count": 45
        }
      ]
    },
    {
      "cell_type": "code",
      "source": [
        "#The line intersects the coordinate axes at points A(2,0) and B(0,3) Find the equation of the line."
      ],
      "metadata": {
        "id": "hSRl6oo1VckF"
      },
      "execution_count": null,
      "outputs": []
    },
    {
      "cell_type": "code",
      "source": [
        "x1 ,y1 = 2, 0\n",
        "x2 ,y2 = 0, 3\n",
        "m = (y2-y1)/(x2-x1)\n",
        "m"
      ],
      "metadata": {
        "id": "iy8KvPirXjLA",
        "outputId": "16b3820b-d62a-42d3-c220-737837f06e63",
        "colab": {
          "base_uri": "https://localhost:8080/"
        }
      },
      "execution_count": 46,
      "outputs": [
        {
          "output_type": "execute_result",
          "data": {
            "text/plain": [
              "-1.5"
            ]
          },
          "metadata": {},
          "execution_count": 46
        }
      ]
    },
    {
      "cell_type": "code",
      "source": [
        "b = y1 -m *x1 # Calculates y intercept\n",
        "b\n",
        "print(f\"y = {m}x + {b}\")"
      ],
      "metadata": {
        "id": "3mCVp34kXjFo",
        "outputId": "bc2dfb43-1874-4ead-81d3-e856b03c4246",
        "colab": {
          "base_uri": "https://localhost:8080/"
        }
      },
      "execution_count": 47,
      "outputs": [
        {
          "output_type": "stream",
          "name": "stdout",
          "text": [
            "y = -1.5x + 3.0\n"
          ]
        }
      ]
    },
    {
      "cell_type": "code",
      "source": [
        "#Calculate the angle between the line y = x+3 and the 0x axis\n",
        "m=1\n",
        "#tan=m tan=1=45 degree\n",
        "theta = math.degrees(math.atan(m))\n",
        "theta"
      ],
      "metadata": {
        "id": "UKUYyqUpX6Pg",
        "outputId": "582766ce-d2a6-476f-c4af-8ea2af269386",
        "colab": {
          "base_uri": "https://localhost:8080/"
        }
      },
      "execution_count": 49,
      "outputs": [
        {
          "output_type": "execute_result",
          "data": {
            "text/plain": [
              "45.0"
            ]
          },
          "metadata": {},
          "execution_count": 49
        }
      ]
    },
    {
      "cell_type": "code",
      "source": [
        "#Provide a vector perpendicular to the line x+y+1=0\n",
        "A,B = [1,1]\n",
        "vector = [-B,A]\n",
        "vector"
      ],
      "metadata": {
        "id": "Uh1qCeDaZE5R",
        "outputId": "acc273e4-a3b7-469b-8c57-ec4539598dbd",
        "colab": {
          "base_uri": "https://localhost:8080/"
        }
      },
      "execution_count": 50,
      "outputs": [
        {
          "output_type": "execute_result",
          "data": {
            "text/plain": [
              "[-1, 1]"
            ]
          },
          "metadata": {},
          "execution_count": 50
        }
      ]
    }
  ]
}