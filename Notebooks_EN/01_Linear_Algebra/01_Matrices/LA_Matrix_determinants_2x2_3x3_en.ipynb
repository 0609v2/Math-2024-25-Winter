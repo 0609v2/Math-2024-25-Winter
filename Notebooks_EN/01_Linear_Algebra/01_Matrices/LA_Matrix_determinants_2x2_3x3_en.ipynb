{
  "cells": [
    {
      "cell_type": "markdown",
      "metadata": {
        "id": "gTSGRXGrK407"
      },
      "source": [
        "# Determinants of 2x2 and 3x3 matrices\n",
        "\n",
        "### Determinant of a 2x2 Matrix\n",
        "\n",
        "The general formula for the determinant of a 2x2 matrix, where the matrix looks as follows:\n",
        "\n",
        "$$\n",
        "\\mathbf{A} =\n",
        "\\begin{pmatrix}\n",
        "a_{11} & a_{12} \\\\\n",
        "a_{21} & a_{22}\n",
        "\\end{pmatrix}\n",
        "$$\n",
        "\n",
        "The determinant of a 2x2 matrix is calculated using the formula:\n",
        "\n",
        "$$\n",
        "\\text{det}(A) = a_{11} \\cdot a_{22} - a_{12} \\cdot a_{21}\n",
        "$$\n",
        "\n",
        "### Determinant of a 3x3 Matrix\n",
        "\n",
        "The general formula for the determinant of a 3x3 matrix, where the matrix looks as follows:\n",
        "\n",
        "$$\n",
        "\\mathbf{B} =\n",
        "\\begin{pmatrix}\n",
        "a_{11} & a_{12} & a_{13} \\\\\n",
        "a_{21} & a_{22} & a_{23} \\\\\n",
        "a_{31} & a_{32} & a_{33}\n",
        "\\end{pmatrix}\n",
        "$$\n",
        "\n",
        "The determinant of a 3x3 matrix can be calculated using Sarrus' rule or Laplace expansion. Here, we will use Sarrus' rule:\n",
        "\n",
        "$$\n",
        "\\text{det}(B) = a_{11} \\cdot a_{22} \\cdot a_{33} + a_{12} \\cdot a_{23} \\cdot a_{31} + a_{13} \\cdot a_{21} \\cdot a_{32}\n",
        "- a_{13} \\cdot a_{22} \\cdot a_{31} - a_{12} \\cdot a_{21} \\cdot a_{33} - a_{11} \\cdot a_{23} \\cdot a_{32}\n",
        "$$\n",
        "\n",
        "<img src=\"https://upload.wikimedia.org/wikipedia/commons/c/c0/Sarrus_rule1.svg\" alt=\"Image description\" width=\"300\" align=\"center\"/>\n",
        "\n",
        "Note: Sarrus' rule does not work for matrices larger than 3x3.\n",
        "\n",
        "### Calculating Determinants in Python using SymPy\n",
        "\n",
        "Now, using the SymPy library, we will calculate the determinants for 2x2 and 3x3 matrices."
      ]
    },
    {
      "cell_type": "code",
      "execution_count": null,
      "metadata": {
        "id": "54yvr5MrK408",
        "outputId": "f88aa960-2097-42fd-e228-9091c067d0c1"
      },
      "outputs": [
        {
          "data": {
            "text/latex": [
              "$\\displaystyle \\left[\\begin{matrix}2 & 3\\\\1 & 4\\end{matrix}\\right]$"
            ],
            "text/plain": [
              "Matrix([\n",
              "[2, 3],\n",
              "[1, 4]])"
            ]
          },
          "execution_count": 1,
          "metadata": {},
          "output_type": "execute_result"
        }
      ],
      "source": [
        "import sympy as sp\n",
        "\n",
        "# Define the matrix\n",
        "A = sp.Matrix([[2, 3], [1, 4]])\n",
        "A # display the matrix"
      ]
    },
    {
      "cell_type": "code",
      "execution_count": null,
      "metadata": {
        "notebookRunGroups": {
          "groupValue": "2"
        },
        "id": "amrUXtPcK409",
        "outputId": "e481b6cf-89ff-4eaf-c747-3fb03099e92d"
      },
      "outputs": [
        {
          "data": {
            "text/plain": [
              "True"
            ]
          },
          "execution_count": 2,
          "metadata": {},
          "output_type": "execute_result"
        }
      ],
      "source": [
        "# Verify the correctness of the calculations\n",
        "(2*4 - 3*1) == A.det()"
      ]
    },
    {
      "cell_type": "code",
      "execution_count": null,
      "metadata": {
        "id": "5VRhHOEoK409",
        "outputId": "e47e48dd-26a9-401c-bb85-6d2f6071dc5f"
      },
      "outputs": [
        {
          "data": {
            "text/latex": [
              "$\\displaystyle \\left[\\begin{matrix}2 & 3 & 1\\\\1 & 4 & 5\\\\3 & 2 & 1\\end{matrix}\\right]$"
            ],
            "text/plain": [
              "Matrix([\n",
              "[2, 3, 1],\n",
              "[1, 4, 5],\n",
              "[3, 2, 1]])"
            ]
          },
          "execution_count": 3,
          "metadata": {},
          "output_type": "execute_result"
        }
      ],
      "source": [
        "# 3x3 Matrix\n",
        "B = sp.Matrix([[2, 3, 1], [1, 4, 5], [3, 2, 1]])\n",
        "B"
      ]
    },
    {
      "cell_type": "code",
      "execution_count": null,
      "metadata": {
        "id": "FLcAs2lvK409",
        "outputId": "027bc3c9-76f4-411d-ea0a-2f81518070e7"
      },
      "outputs": [
        {
          "data": {
            "text/plain": [
              "True"
            ]
          },
          "execution_count": 4,
          "metadata": {},
          "output_type": "execute_result"
        }
      ],
      "source": [
        "# Verify the correctness of the calculations\n",
        "(2*4*1 + 3*5*3 + 1*1*2 - 1*4*3 - 5*2*2 - 3*1*1) == B.det()"
      ]
    },
    {
      "cell_type": "markdown",
      "metadata": {
        "id": "UmWCs1C4K40-"
      },
      "source": [
        "---\n",
        "\n",
        "## Exercises for Students\n",
        "\n",
        "Calculate the determinants for the 2x2 and 3x3 matrices given below.\n",
        "\n",
        "1. 2x2 Matrices:\n",
        "\n",
        "$$\n",
        "\\mathbf{A} =\n",
        "\\begin{pmatrix}\n",
        "2 & 3 \\\\\n",
        "1 & 4\n",
        "\\end{pmatrix}\n",
        ", \\qquad\n",
        "\\mathbf{B} =\n",
        "\\begin{pmatrix}\n",
        "5 & 6 \\\\\n",
        "7 & 8\n",
        "\\end{pmatrix}\n",
        ", \\qquad\n",
        "\\mathbf{C} =\n",
        "\\begin{pmatrix}\n",
        "-1 & 2 \\\\\n",
        "3 & 0\n",
        "\\end{pmatrix}\n",
        "$$\n",
        "\n",
        "2. 3x3 Matrices:\n",
        "\n",
        "\n",
        "$$\n",
        "\\mathbf{D} =\n",
        "\\begin{pmatrix}\n",
        "1 & 0 & 2 \\\\\n",
        "-1 & 3 & 1 \\\\\n",
        "2 & 4 & -2\n",
        "\\end{pmatrix}\n",
        ", \\qquad\n",
        "\\mathbf{E} =\n",
        "\\begin{pmatrix}\n",
        "3 & 1 & -1 \\\\\n",
        "0 & 2 & 4 \\\\\n",
        "5 & 3 & 2\n",
        "\\end{pmatrix}\n",
        ", \\qquad\n",
        "\\mathbf{F} =\n",
        "\\begin{pmatrix}\n",
        "2 & -3 & 1 \\\\\n",
        "1 & 4 & -2 \\\\\n",
        "1 & 5 & 3\n",
        "\\end{pmatrix}\n",
        "$$"
      ]
    },
    {
      "cell_type": "code",
      "source": [
        "import sympy as sp\n",
        "A = sp.Matrix([[2, 3], [1, 4]])\n",
        "A"
      ],
      "metadata": {
        "id": "Q8zLsU6vOyLT",
        "outputId": "b9af36fc-7936-4c69-e596-a4994f0714a7",
        "colab": {
          "base_uri": "https://localhost:8080/",
          "height": 58
        }
      },
      "execution_count": 2,
      "outputs": [
        {
          "output_type": "execute_result",
          "data": {
            "text/plain": [
              "Matrix([\n",
              "[2, 3],\n",
              "[1, 4]])"
            ],
            "text/latex": "$\\displaystyle \\left[\\begin{matrix}2 & 3\\\\1 & 4\\end{matrix}\\right]$"
          },
          "metadata": {},
          "execution_count": 2
        }
      ]
    },
    {
      "cell_type": "code",
      "source": [
        "A.det() == (2*4-3*1)\n",
        "A.det()"
      ],
      "metadata": {
        "id": "-UOp77mYPVer",
        "outputId": "4fd521bd-9c5a-4b32-fb8a-90bc8b75398a",
        "colab": {
          "base_uri": "https://localhost:8080/",
          "height": 37
        }
      },
      "execution_count": 4,
      "outputs": [
        {
          "output_type": "execute_result",
          "data": {
            "text/plain": [
              "5"
            ],
            "text/latex": "$\\displaystyle 5$"
          },
          "metadata": {},
          "execution_count": 4
        }
      ]
    },
    {
      "cell_type": "code",
      "source": [
        "B = sp.Matrix([[5, 6], [7, 8]])\n",
        "B"
      ],
      "metadata": {
        "id": "TtYCoL0dP-4A",
        "outputId": "e702d9f4-4534-4b56-f0f6-dfd49dbd2521",
        "colab": {
          "base_uri": "https://localhost:8080/",
          "height": 58
        }
      },
      "execution_count": 5,
      "outputs": [
        {
          "output_type": "execute_result",
          "data": {
            "text/plain": [
              "Matrix([\n",
              "[5, 6],\n",
              "[7, 8]])"
            ],
            "text/latex": "$\\displaystyle \\left[\\begin{matrix}5 & 6\\\\7 & 8\\end{matrix}\\right]$"
          },
          "metadata": {},
          "execution_count": 5
        }
      ]
    },
    {
      "cell_type": "code",
      "source": [
        "B.det() == (5*8-6*7)\n",
        "B.det()"
      ],
      "metadata": {
        "id": "dltvIEnBQEuV",
        "outputId": "9274e65e-d9de-4128-c64d-9059d885e593",
        "colab": {
          "base_uri": "https://localhost:8080/",
          "height": 37
        }
      },
      "execution_count": 6,
      "outputs": [
        {
          "output_type": "execute_result",
          "data": {
            "text/plain": [
              "-2"
            ],
            "text/latex": "$\\displaystyle -2$"
          },
          "metadata": {},
          "execution_count": 6
        }
      ]
    },
    {
      "cell_type": "code",
      "source": [
        "C = sp.Matrix([[-1, 2], [3, 0]])\n",
        "C"
      ],
      "metadata": {
        "id": "DJPKTwACQKeR",
        "outputId": "c009ec7b-4967-4514-e0eb-0bb28cd72f84",
        "colab": {
          "base_uri": "https://localhost:8080/",
          "height": 58
        }
      },
      "execution_count": 7,
      "outputs": [
        {
          "output_type": "execute_result",
          "data": {
            "text/plain": [
              "Matrix([\n",
              "[-1, 2],\n",
              "[ 3, 0]])"
            ],
            "text/latex": "$\\displaystyle \\left[\\begin{matrix}-1 & 2\\\\3 & 0\\end{matrix}\\right]$"
          },
          "metadata": {},
          "execution_count": 7
        }
      ]
    },
    {
      "cell_type": "code",
      "source": [
        "C.det() == (-1*0-2*3)\n",
        "C.det()"
      ],
      "metadata": {
        "id": "UWDoI9nYQNUV",
        "outputId": "e0deb653-3c78-4507-f62f-67071d1d6b9e",
        "colab": {
          "base_uri": "https://localhost:8080/",
          "height": 37
        }
      },
      "execution_count": 10,
      "outputs": [
        {
          "output_type": "execute_result",
          "data": {
            "text/plain": [
              "-6"
            ],
            "text/latex": "$\\displaystyle -6$"
          },
          "metadata": {},
          "execution_count": 10
        }
      ]
    },
    {
      "cell_type": "code",
      "source": [
        "D = sp.Matrix([[1, 0, 2], [-1, 3, 1], [2, 4, -2]])\n",
        "D"
      ],
      "metadata": {
        "id": "3XDtUVdyQdJy",
        "outputId": "e8847e40-4e8a-454a-bda1-7d42eca2811d",
        "colab": {
          "base_uri": "https://localhost:8080/",
          "height": 78
        }
      },
      "execution_count": 9,
      "outputs": [
        {
          "output_type": "execute_result",
          "data": {
            "text/plain": [
              "Matrix([\n",
              "[ 1, 0,  2],\n",
              "[-1, 3,  1],\n",
              "[ 2, 4, -2]])"
            ],
            "text/latex": "$\\displaystyle \\left[\\begin{matrix}1 & 0 & 2\\\\-1 & 3 & 1\\\\2 & 4 & -2\\end{matrix}\\right]$"
          },
          "metadata": {},
          "execution_count": 9
        }
      ]
    },
    {
      "cell_type": "code",
      "source": [
        "D.det() == (1*3*(-2) + 0*1*2 + 2*(-1)*4 - 2*3*2 - 0*(-1)*(-2) - 1*1*4)\n",
        "D.det()"
      ],
      "metadata": {
        "id": "Wtg06swuQ7wn",
        "outputId": "bce97a4f-2954-4d41-8a52-eb76b1faedc2",
        "colab": {
          "base_uri": "https://localhost:8080/",
          "height": 37
        }
      },
      "execution_count": 15,
      "outputs": [
        {
          "output_type": "execute_result",
          "data": {
            "text/plain": [
              "-30"
            ],
            "text/latex": "$\\displaystyle -30$"
          },
          "metadata": {},
          "execution_count": 15
        }
      ]
    },
    {
      "cell_type": "code",
      "source": [
        "E = sp.Matrix([[3, 1, -1], [0, 2, 4], [5, 3, 2]])\n",
        "E"
      ],
      "metadata": {
        "id": "BHPu51dGVzIQ",
        "outputId": "15b5b63b-177e-4405-b174-32189dab4a55",
        "colab": {
          "base_uri": "https://localhost:8080/",
          "height": 78
        }
      },
      "execution_count": 14,
      "outputs": [
        {
          "output_type": "execute_result",
          "data": {
            "text/plain": [
              "Matrix([\n",
              "[3, 1, -1],\n",
              "[0, 2,  4],\n",
              "[5, 3,  2]])"
            ],
            "text/latex": "$\\displaystyle \\left[\\begin{matrix}3 & 1 & -1\\\\0 & 2 & 4\\\\5 & 3 & 2\\end{matrix}\\right]$"
          },
          "metadata": {},
          "execution_count": 14
        }
      ]
    },
    {
      "cell_type": "code",
      "source": [
        "E.det() == (3*2*2 + 1*4*5 + (-1)*0*3 - (-1)*2*5 - 1*0*2 - 3*4*3)\n",
        "E.det()"
      ],
      "metadata": {
        "id": "wjts75xHV5bH",
        "outputId": "480aecb7-2c46-4723-a341-260c755dae68",
        "colab": {
          "base_uri": "https://localhost:8080/",
          "height": 37
        }
      },
      "execution_count": 16,
      "outputs": [
        {
          "output_type": "execute_result",
          "data": {
            "text/plain": [
              "6"
            ],
            "text/latex": "$\\displaystyle 6$"
          },
          "metadata": {},
          "execution_count": 16
        }
      ]
    },
    {
      "cell_type": "code",
      "source": [
        "F = sp.Matrix([[2, -3, 1], [1, 4, -2], [1, 5, 3]])\n",
        "F"
      ],
      "metadata": {
        "id": "KreRkMc1XbC0",
        "outputId": "08041a54-34b7-44b7-e087-6a109a3b6d68",
        "colab": {
          "base_uri": "https://localhost:8080/",
          "height": 78
        }
      },
      "execution_count": 17,
      "outputs": [
        {
          "output_type": "execute_result",
          "data": {
            "text/plain": [
              "Matrix([\n",
              "[2, -3,  1],\n",
              "[1,  4, -2],\n",
              "[1,  5,  3]])"
            ],
            "text/latex": "$\\displaystyle \\left[\\begin{matrix}2 & -3 & 1\\\\1 & 4 & -2\\\\1 & 5 & 3\\end{matrix}\\right]$"
          },
          "metadata": {},
          "execution_count": 17
        }
      ]
    },
    {
      "cell_type": "code",
      "source": [
        "F.det() == (2*4*3 + (-3)*(-2)*1 + 1*1*5 - 1*4*1 - (-3)*1*3 - 2*(-2)*5)\n",
        "F.det()"
      ],
      "metadata": {
        "id": "4wHcDIyEXfZT",
        "outputId": "cddaea9a-480a-4be6-e7d9-df3fe9becd6c",
        "colab": {
          "base_uri": "https://localhost:8080/",
          "height": 37
        }
      },
      "execution_count": 18,
      "outputs": [
        {
          "output_type": "execute_result",
          "data": {
            "text/plain": [
              "60"
            ],
            "text/latex": "$\\displaystyle 60$"
          },
          "metadata": {},
          "execution_count": 18
        }
      ]
    }
  ],
  "metadata": {
    "kernelspec": {
      "display_name": "Python 3",
      "language": "python",
      "name": "python3"
    },
    "language_info": {
      "codemirror_mode": {
        "name": "ipython",
        "version": 3
      },
      "file_extension": ".py",
      "mimetype": "text/x-python",
      "name": "python",
      "nbconvert_exporter": "python",
      "pygments_lexer": "ipython3",
      "version": "3.11.9"
    },
    "colab": {
      "provenance": []
    }
  },
  "nbformat": 4,
  "nbformat_minor": 0
}