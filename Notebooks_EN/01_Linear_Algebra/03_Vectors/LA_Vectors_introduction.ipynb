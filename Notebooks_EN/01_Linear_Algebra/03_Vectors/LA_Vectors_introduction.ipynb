{
  "cells": [
    {
      "cell_type": "markdown",
      "metadata": {
        "id": "ztyqndfsG6xV"
      },
      "source": [
        "# Vectors - Introduction\n",
        "\n",
        "**Vectors** are quantities that have both magnitude and direction in space. They are used to describe various physical quantities such as velocity, force, or electric field intensity. Unlike scalars, which have only magnitude (e.g., mass, temperature), vectors require a direction to be specified.\n",
        "\n",
        "A vector is represented with an arrow above the symbol $\\vec{a}$ or in bold type $\\mathbf{a}$.\n",
        "- The magnitude of a vector can be written as $\\vec{a}|$ or $a$.\n",
        "- A vector of length 1 is called a unit vector and is denoted by $\\hat{\\mathbf{a}} = \\frac{\\vec{a}}{|\\vec{a}|}$.\n",
        "\n",
        "**Example:**\n",
        "\n",
        "The vector $\\mathbf{a}= [3, 4]$ has a magnitude $a = 5$, and the corresponding unit vector (unit vector along the direction of vector $\\mathbf{a}$) is expressed as $\\hat{\\mathbf{a}} = \\left[\\frac{3}{5}, \\frac{4}{5}\\right]$.\n"
      ]
    },
    {
      "cell_type": "code",
      "execution_count": 53,
      "metadata": {
        "id": "q4v24YS2G6xW",
        "outputId": "1e3c56cf-8e95-4ca3-d62f-aadcbe78cd49",
        "colab": {
          "base_uri": "https://localhost:8080/",
          "height": 48
        }
      },
      "outputs": [
        {
          "output_type": "execute_result",
          "data": {
            "text/plain": [
              "sqrt(a_x**2 + a_y**2)"
            ],
            "text/latex": "$\\displaystyle \\sqrt{a_{x}^{2} + a_{y}^{2}}$"
          },
          "metadata": {},
          "execution_count": 53
        }
      ],
      "source": [
        "import sympy as sp  # import the sympy module\n",
        "\n",
        "# For vector $\\mathbf{a} = [a_x, a_y]$, the magnitude is given by the formula:\n",
        "# $$ |\\mathbf{a}| = a = \\sqrt{a_x^2 + a_y^2} $$\n",
        "\n",
        "a_x, a_y = sp.symbols('a_x a_y')  # Step 1: Define symbolic variables a_x and a_y\n",
        "magnitude_a = sp.sqrt(a_x**2 + a_y**2)  # Step 2: Create the formula for the magnitude of vector a\n",
        "magnitude_a  # Step 3: Display the result"
      ]
    },
    {
      "cell_type": "code",
      "execution_count": 54,
      "metadata": {
        "id": "3VMrfdgzG6xX",
        "outputId": "493a0de9-4e10-4707-a3d5-4b1dbae4b32b",
        "colab": {
          "base_uri": "https://localhost:8080/",
          "height": 37
        }
      },
      "outputs": [
        {
          "output_type": "execute_result",
          "data": {
            "text/plain": [
              "5.00000000000000"
            ],
            "text/latex": "$\\displaystyle 5.0$"
          },
          "metadata": {},
          "execution_count": 54
        }
      ],
      "source": [
        "# Assign values to a_x and a_y\n",
        "a_x = 3  # x component of the vector\n",
        "a_y = 4  # y component of the vector\n",
        "\n",
        "magnitude_a = sp.sqrt(a_x**2 + a_y**2)  # Calculate the magnitude of the vector for a_x = 3 and a_y = 4\n",
        "magnitude_a.evalf()  # Numerically calculate the magnitude of the vector (expected result: 5)"
      ]
    },
    {
      "cell_type": "markdown",
      "metadata": {
        "id": "L-xuh7vHG6xX"
      },
      "source": [
        "## Vector Addition\n",
        "\n",
        "Vector addition involves adding the corresponding components of vectors of the same length.\n",
        "\n",
        "For two vectors $\\mathbf{a}$ and $\\mathbf{b}$ in the space $\\mathbb{R}^n$, where:\n",
        "\n",
        "$$\n",
        "\\mathbf{a} = [a_1, a_2, \\dots, a_n], \\quad \\mathbf{b} = [b_1, b_2, \\dots, b_n]\n",
        "$$\n",
        "\n",
        "Vector addition is defined as follows:\n",
        "\n",
        "$$\n",
        "\\mathbf{a} + \\mathbf{b} = [a_1 + b_1, a_2 + b_2, \\dots, a_n + b_n]\n",
        "$$\n",
        "\n",
        "## Scalar Multiplication of a Vector\n",
        "\n",
        "Scalar multiplication of a vector involves multiplying each component of the vector by the same number.\n",
        "\n",
        "For a vector $\\mathbf{a}$ and a scalar $k$:\n",
        "\n",
        "$$\n",
        "k \\mathbf{a} = [k a_1, k a_2, \\dots, k a_n]\n",
        "$$\n",
        "\n",
        "## Vectors in the Plane and Space\n",
        "\n",
        "**Vectors in 2D:**\n",
        "\n",
        "If $\\mathbf{a} = [a_x, a_y]$, then the magnitude is given by the formula $|\\mathbf{a}| = a = \\sqrt{a_x^2 + a_y^2}$.\n",
        "\n",
        "**Vectors in 3D:**\n",
        "\n",
        "If $\\mathbf{a} = [a_x, a_y, a_z]$, then the magnitude of the vector is $|\\mathbf{a}| = a = \\sqrt{a_x^2 + a_y^2 + a_z^2}$.\n",
        "\n",
        "## Plotting a Vector"
      ]
    },
    {
      "cell_type": "code",
      "execution_count": 55,
      "metadata": {
        "id": "2yB16m7aG6xY",
        "outputId": "900affcf-6607-442f-e04d-6467078e5481",
        "colab": {
          "base_uri": "https://localhost:8080/",
          "height": 435
        }
      },
      "outputs": [
        {
          "output_type": "display_data",
          "data": {
            "text/plain": [
              "<Figure size 640x480 with 1 Axes>"
            ],
            "image/png": "[encoded data removed]"
          },
          "metadata": {}
        }
      ],
      "source": [
        "import matplotlib.pyplot as plt # import the matplotlib.pyplot module\n",
        "\n",
        "plt.figure() # create a new figure\n",
        "plt.quiver(0, 0, 3, 4, angles='xy', scale_units='xy', scale=1, color='r') # quick way to plot a vector quiver(x_start, y_start, x_end, y_end)\n",
        "plt.xlim(0, 5) # set x-axis range\n",
        "plt.ylim(0, 5) # set y-axis range\n",
        "plt.grid(True) # enable grid\n",
        "plt.gca().set_aspect('equal') # set equal scaling on x and y axes\n",
        "plt.show()"
      ]
    },
    {
      "cell_type": "markdown",
      "metadata": {
        "id": "FCCu7nTXG6xY"
      },
      "source": [
        "## Example of Simple Vector Implementation in Python\n",
        "\n",
        "Given vectors $\\mathbf{a}=[1, 2]$ and $\\mathbf{b}=[3, 4]$, we want to calculate their sum $\\mathbf{c}=\\mathbf{a}+\\mathbf{b}= [1+3, 2+4] = [4, 6]$"
      ]
    },
    {
      "cell_type": "code",
      "execution_count": 56,
      "metadata": {
        "id": "jWWbiwJWG6xY",
        "outputId": "61891723-0c6a-4d69-cbff-a541cf9c5518",
        "colab": {
          "base_uri": "https://localhost:8080/"
        }
      },
      "outputs": [
        {
          "output_type": "execute_result",
          "data": {
            "text/plain": [
              "[4, 6]"
            ]
          },
          "metadata": {},
          "execution_count": 56
        }
      ],
      "source": [
        "import sympy as sp # import the sympy module\n",
        "\n",
        "a=[1, 2] # vector a\n",
        "b=[3, 4] # vector b\n",
        "c = [a[0] + b[0], a[1] + b[1]] # sum of vectors a and b\n",
        "c # display the result"
      ]
    },
    {
      "cell_type": "markdown",
      "metadata": {
        "id": "uhfEwMvZG6xY"
      },
      "source": [
        "## Example of Better Vector Implementation in Python\n",
        "\n",
        "Vectors are represented as column matrices. Then vector addition is the same as matrix addition."
      ]
    },
    {
      "cell_type": "code",
      "execution_count": 57,
      "metadata": {
        "id": "1xhOyrZ_G6xY",
        "outputId": "d26f5f33-26e3-42f4-d9fe-366e53b24e1a",
        "colab": {
          "base_uri": "https://localhost:8080/",
          "height": 78
        }
      },
      "outputs": [
        {
          "output_type": "execute_result",
          "data": {
            "text/plain": [
              "Matrix([\n",
              "[12],\n",
              "[ 5],\n",
              "[18]])"
            ],
            "text/latex": "$\\displaystyle \\left[\\begin{matrix}12\\\\5\\\\18\\end{matrix}\\right]$"
          },
          "metadata": {},
          "execution_count": 57
        }
      ],
      "source": [
        "import sympy as sp\n",
        "\n",
        "# Vector definitions\n",
        "a = sp.Matrix([1, 2, 3])\n",
        "b = sp.Matrix([4, 5, 6])\n",
        "c = sp.Matrix([7, 0, 9])\n",
        "d = sp.Matrix([0, 2, 0])\n",
        "\n",
        "a + b + c - d # An operation involving addition and subtraction of vectors"
      ]
    },
    {
      "cell_type": "markdown",
      "metadata": {
        "id": "74rcukivG6xY"
      },
      "source": [
        "## Plotting Vector Addition\n",
        "\n",
        "Example: $\\mathbf{a}=[2,1]$ and $\\mathbf{b}=[1,2]$ results in vector $\\mathbf{c}=\\mathbf{a}+\\mathbf{b}=[3,3]$."
      ]
    },
    {
      "cell_type": "code",
      "execution_count": 58,
      "metadata": {
        "id": "2vktPkMeG6xY",
        "outputId": "a7dc2169-fb10-438c-cc28-85c92ab08266",
        "colab": {
          "base_uri": "https://localhost:8080/",
          "height": 435
        }
      },
      "outputs": [
        {
          "output_type": "display_data",
          "data": {
            "text/plain": [
              "<Figure size 640x480 with 1 Axes>"
            ],
            "image/png": "[encoded data removed]"
          },
          "metadata": {}
        }
      ],
      "source": [
        "import matplotlib.pyplot as plt # import the matplotlib.pyplot module #example of vector addition in two-dimensional space\n",
        "\n",
        "plt.figure() # create a new figure\n",
        "plt.quiver(0, 0, 2, 1, angles='xy', scale_units='xy', scale=1, color='r') # quick way to plot vectors quiver(x_start, y_start, x_end, y_end)\n",
        "plt.quiver(0, 0, 1, 2, angles='xy', scale_units='xy', scale=1, color='b') # quick way to plot vectors quiver(x_start, y_start, x_end, y_end)\n",
        "plt.quiver(0, 0, 3, 3, angles='xy', scale_units='xy', scale=1, color='g') # quick way to plot vectors quiver(x_start, y_start, x_end, y_end)\n",
        "plt.xlim(-1, 4) # set x-axis range\n",
        "plt.ylim(-1, 4) # set y-axis range\n",
        "plt.grid(True) # enable grid\n",
        "plt.gca().set_aspect('equal') # set equal scaling on x and y axes\n",
        "plt.show()"
      ]
    },
    {
      "cell_type": "markdown",
      "metadata": {
        "id": "o6N9MRHoG6xY"
      },
      "source": [
        "## Coordinate Systems in the Plane and Space\n",
        "\n",
        "**Cartesian Coordinate System** is the basic coordinate system in which points in space are specified by their distances from fixed axes: $x$, $y$ (for 2D) and $z$ (for 3D).\n",
        "\n",
        "- In 2D, each point can be written as $(x, y)$.\n",
        "- In 3D, points are of the form $(x, y, z)$.\n",
        "\n",
        "**Polar Coordinate System** is used in 2D and defines a point by its distance from the origin (r) and the angle (θ) relative to the reference axis.\n",
        "\n",
        "**Spherical Coordinate System** is used in 3D and defines a point by its distance from the origin (r), azimuth angle (θ), and elevation angle (φ).\n",
        "\n",
        "Vectors can be represented using components in the Cartesian coordinate system, where each component corresponds to the distance of the point from the respective coordinate axis.\n",
        "\n",
        "- For a vector in two-dimensional space: $\\mathbf{a} = [a_x, a_y] = a_x\\hat{\\mathbf{i}} + a_y\\hat{\\mathbf{j}}$\n",
        "- For a vector in three-dimensional space: $\\mathbf{a} = [a_x, a_y, a_z] = a_x\\hat{\\mathbf{i}} + a_y\\hat{\\mathbf{j}} + a_z\\hat{\\mathbf{k}}$\n",
        "\n",
        "## Basis\n",
        "\n",
        "**Basis** of vectors is a set of vectors that spans a vector space. In Cartesian space, the standard basis vectors are $\\hat{\\mathbf{i}}, \\hat{\\mathbf{j}}, \\hat{\\mathbf{k}}$.\n",
        "\n",
        "For 2D:\n",
        "\n",
        "$$\n",
        "\\hat{\\mathbf{i}} = [1, 0], \\quad \\hat{\\mathbf{j}} = [0, 1]\n",
        "$$\n",
        "\n",
        "For 3D:\n",
        "\n",
        "$$\n",
        "\\hat{\\mathbf{i}} = [1, 0, 0], \\quad \\hat{\\mathbf{j}} = [0, 1, 0], \\quad \\hat{\\mathbf{k}} = [0, 0, 1]\n",
        "$$\n",
        "\n",
        "These basis vectors are unit vectors and are perpendicular to each other.\n",
        "\n",
        "### Finding the Coordinates of a Vector in a New Basis\n",
        "\n",
        "To find the coordinates of vector $\\mathbf{v}$ in a new basis $\\{\\mathbf{b_1}, \\mathbf{b_2}, \\mathbf{b_3}\\}$, express $\\mathbf{v}$ as a linear combination of the basis vectors.\n",
        "\n",
        "$$\n",
        "\\mathbf{v} = c_1 \\mathbf{b_1} + c_2 \\mathbf{b_2} + c_3 \\mathbf{b_3}\n",
        "$$\n",
        "\n",
        "The coefficients $c_1, c_2, c_3$ are the coordinates of vector $\\mathbf{v}$ in the new basis.\n",
        "\n",
        "---\n",
        "\n",
        "## Student Exercises\n",
        "\n",
        "A. By what number should vector $\\mathbf{a} = [3, 4]$ be multiplied so that its length is equal to 1?\n",
        "\n",
        "B. Calculate the length of vector $\\mathbf{b} = [1, 1]$ and find the unit vector of this vector.\n",
        "\n",
        "C. Plot the vector and the unit vector from the previous exercise.\n",
        "\n",
        "D. Calculate the length of vector $\\mathbf{c} = [1, 2, 3]$ and find the unit vector of this vector.\n",
        "\n",
        "E. Find the Cartesian coordinates of vector $\\mathbf{v} = [2, 3, 4]$ in the basis $\\{\\mathbf{b_1} = [1, 0, 1], \\mathbf{b_2} = [0, 1, 0], \\mathbf{b_3} = [1, 0, -1]\\}$."
      ]
    },
    {
      "cell_type": "code",
      "source": [
        "import sympy as sp\n",
        "#A\n",
        "a_x, a_y = sp.symbols('a_x a_y')\n",
        "magnitude_a = sp.sqrt(a_x**2 + a_y**2)\n",
        "magnitude_a"
      ],
      "metadata": {
        "id": "5_Xjk8WuHUtr",
        "outputId": "f531e4c8-136b-4583-8544-4e8aa19348b5",
        "colab": {
          "base_uri": "https://localhost:8080/",
          "height": 48
        }
      },
      "execution_count": 59,
      "outputs": [
        {
          "output_type": "execute_result",
          "data": {
            "text/plain": [
              "sqrt(a_x**2 + a_y**2)"
            ],
            "text/latex": "$\\displaystyle \\sqrt{a_{x}^{2} + a_{y}^{2}}$"
          },
          "metadata": {},
          "execution_count": 59
        }
      ]
    },
    {
      "cell_type": "code",
      "source": [
        "a_x = 3\n",
        "a_y = 4\n",
        "magnitude_a = sp.sqrt(a_x**2 + a_y**2)\n",
        "magnitude_a.evalf()"
      ],
      "metadata": {
        "id": "-sBiGtBzHVri",
        "outputId": "dbfb5281-09e7-4b41-bdd9-71dfb6940c81",
        "colab": {
          "base_uri": "https://localhost:8080/",
          "height": 37
        }
      },
      "execution_count": 60,
      "outputs": [
        {
          "output_type": "execute_result",
          "data": {
            "text/plain": [
              "5.00000000000000"
            ],
            "text/latex": "$\\displaystyle 5.0$"
          },
          "metadata": {},
          "execution_count": 60
        }
      ]
    },
    {
      "cell_type": "code",
      "source": [
        "x = sp.Symbol('x')\n",
        "sp.solve(x*5-1,x)\n",
        "#x"
      ],
      "metadata": {
        "id": "wBWkaJ1GHkoS",
        "outputId": "829afd8e-0186-4369-fa51-4509a4a34cff",
        "colab": {
          "base_uri": "https://localhost:8080/"
        }
      },
      "execution_count": 61,
      "outputs": [
        {
          "output_type": "execute_result",
          "data": {
            "text/plain": [
              "[1/5]"
            ]
          },
          "metadata": {},
          "execution_count": 61
        }
      ]
    },
    {
      "cell_type": "code",
      "source": [
        "#B\n",
        "import sympy as sp\n",
        "b_x = 1\n",
        "b_y = 1\n",
        "magnitude_b = sp.sqrt(b_x**2 + b_y**2)\n",
        "display(magnitude_b)"
      ],
      "metadata": {
        "id": "yhKWpttcIKQ1",
        "outputId": "aa241163-1e06-4d7f-afd2-194f227a3946",
        "colab": {
          "base_uri": "https://localhost:8080/",
          "height": 39
        }
      },
      "execution_count": 64,
      "outputs": [
        {
          "output_type": "display_data",
          "data": {
            "text/plain": [
              "sqrt(2)"
            ],
            "text/latex": "$\\displaystyle \\sqrt{2}$"
          },
          "metadata": {}
        }
      ]
    },
    {
      "cell_type": "code",
      "source": [
        "unit_vector_b = [b_x / magnitude_b, b_y / magnitude_b]\n",
        "display(unit_vector_b)"
      ],
      "metadata": {
        "id": "z4y3BTo7L-tc",
        "outputId": "3d8a2570-8448-4e25-a261-73985c85e18a",
        "colab": {
          "base_uri": "https://localhost:8080/",
          "height": 34
        }
      },
      "execution_count": 65,
      "outputs": [
        {
          "output_type": "display_data",
          "data": {
            "text/plain": [
              "[sqrt(2)/2, sqrt(2)/2]"
            ]
          },
          "metadata": {}
        }
      ]
    },
    {
      "cell_type": "code",
      "source": [
        "#C\n",
        "#vector itself\n",
        "b_x = 1\n",
        "b_y = 1\n",
        "plt.figure()\n",
        "plt.quiver(0, 0, b_x, b_y, angles='xy', scale_units='xy', scale=1, color='r')\n",
        "plt.xlim(0, 2)\n",
        "plt.ylim(0, 2)\n",
        "plt.grid(True)\n",
        "plt.gca().set_aspect('equal')\n",
        "plt.show()"
      ],
      "metadata": {
        "id": "YNyij86VM7oe",
        "outputId": "cbf3aa8f-6a32-49ee-e8f3-7e7eeb490252",
        "colab": {
          "base_uri": "https://localhost:8080/",
          "height": 435
        }
      },
      "execution_count": 67,
      "outputs": [
        {
          "output_type": "display_data",
          "data": {
            "text/plain": [
              "<Figure size 640x480 with 1 Axes>"
            ],
            "image/png": "[encoded data removed]"
          },
          "metadata": {}
        }
      ]
    },
    {
      "cell_type": "code",
      "source": [
        "#unit vector\n",
        "import numpy as np\n",
        "magnitude_b = np.sqrt(b_x**2 + b_y**2)\n",
        "unit_vector_b_x = b_x / magnitude_b\n",
        "unit_vector_b_y = b_y / magnitude_b\n",
        "plt.figure()\n",
        "plt.quiver(0, 0, unit_vector_b_x, unit_vector_b_y, angles='xy', scale_units='xy', scale=1, color='b')\n",
        "plt.xlim(0, 2)\n",
        "plt.ylim(0, 2)\n",
        "plt.grid(True)\n",
        "plt.gca().set_aspect('equal')\n",
        "plt.show()"
      ],
      "metadata": {
        "id": "PuE98QS6Nmr8",
        "outputId": "697d1802-02e8-4900-b2d9-65f8ed300595",
        "colab": {
          "base_uri": "https://localhost:8080/",
          "height": 435
        }
      },
      "execution_count": 72,
      "outputs": [
        {
          "output_type": "display_data",
          "data": {
            "text/plain": [
              "<Figure size 640x480 with 1 Axes>"
            ],
            "image/png": "[encoded data removed]"
          },
          "metadata": {}
        }
      ]
    },
    {
      "cell_type": "code",
      "source": [
        "#D\n",
        "import sympy as sp\n",
        "c_x = 1\n",
        "c_y = 2\n",
        "c_z = 3\n",
        "magnitude_c = sp.sqrt(c_x**2 + c_y**2 + c_z**2)\n",
        "display(magnitude_c) #length of the vector"
      ],
      "metadata": {
        "id": "j1e1drQXOwx1",
        "outputId": "6d5de607-2593-4bb3-9dfa-05e2c3c56127",
        "colab": {
          "base_uri": "https://localhost:8080/",
          "height": 39
        }
      },
      "execution_count": 75,
      "outputs": [
        {
          "output_type": "display_data",
          "data": {
            "text/plain": [
              "sqrt(14)"
            ],
            "text/latex": "$\\displaystyle \\sqrt{14}$"
          },
          "metadata": {}
        }
      ]
    },
    {
      "cell_type": "code",
      "source": [
        "unit_vector_c = [c_x / magnitude_c, c_y / magnitude_c, c_z/magnitude_c]\n",
        "display(unit_vector_c)"
      ],
      "metadata": {
        "id": "QOm1qIVmPQoZ",
        "outputId": "344fb3b7-6b39-448d-deb6-8dac1b0c6ce7",
        "colab": {
          "base_uri": "https://localhost:8080/",
          "height": 34
        }
      },
      "execution_count": 76,
      "outputs": [
        {
          "output_type": "display_data",
          "data": {
            "text/plain": [
              "[sqrt(14)/14, sqrt(14)/7, 3*sqrt(14)/14]"
            ]
          },
          "metadata": {}
        }
      ]
    },
    {
      "cell_type": "code",
      "source": [
        "#E\n",
        "b = sp.Matrix([[1, 0, 1], [0, 1, 0], [1, 0, -1]])\n",
        "v = sp.Matrix([2, 3, 4])\n",
        "c = b.inv() * v\n",
        "display(c)"
      ],
      "metadata": {
        "id": "Un1eOoYnQnSE",
        "outputId": "6fc614b3-fc5d-488b-f171-08074b9c3388",
        "colab": {
          "base_uri": "https://localhost:8080/",
          "height": 78
        }
      },
      "execution_count": 82,
      "outputs": [
        {
          "output_type": "display_data",
          "data": {
            "text/plain": [
              "Matrix([\n",
              "[ 3],\n",
              "[ 3],\n",
              "[-1]])"
            ],
            "text/latex": "$\\displaystyle \\left[\\begin{matrix}3\\\\3\\\\-1\\end{matrix}\\right]$"
          },
          "metadata": {}
        }
      ]
    }
  ],
  "metadata": {
    "kernelspec": {
      "display_name": ".venv",
      "language": "python",
      "name": "python3"
    },
    "language_info": {
      "codemirror_mode": {
        "name": "ipython",
        "version": 3
      },
      "file_extension": ".py",
      "mimetype": "text/x-python",
      "name": "python",
      "nbconvert_exporter": "python",
      "pygments_lexer": "ipython3",
      "version": "3.11.9"
    },
    "colab": {
      "provenance": []
    }
  },
  "nbformat": 4,
  "nbformat_minor": 0
}