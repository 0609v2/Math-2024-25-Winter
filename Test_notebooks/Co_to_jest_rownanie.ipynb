{
 "cells": [
  {
   "cell_type": "markdown",
   "metadata": {},
   "source": [
    "# Równania w matematyce\n",
    "\n",
    "## Definicja równania\n",
    "\n",
    "**Równanie** w matematyce to formalne wyrażenie, które określa, że dwie wartości bądź wyrażenia są sobie równe. Składa się z dwóch części: lewej i prawej strony, oddzielonych znakiem równości \"=\". Celem rozwiązywania równań jest znalezienie wartości zmiennych, które sprawiają, że obie strony równania mają tę samą wartość.\n",
    "\n"
   ]
  },
  {
   "cell_type": "markdown",
   "metadata": {},
   "source": [
    "\n",
    "**Przykład 1**\n",
    "\n",
    "Rozpatrzmy równanie $2x + 3 = 7$. W tym przypadku mamy jedną zmienną $x$. Rozwiązując równanie, chcemy znaleźć wartość $x$, dla której lewa strona równania jest równa prawej stronie. Czyli rozwiązanie równania jest to zbiór\n",
    "\n",
    "$$\n",
    "\\{x \\in \\mathbb{R} : 2x + 3 = 7\\} = \\{x \\in \\mathbb{R} : x = 2\\}= \\{2\\}\n",
    "$$\n",
    "\n",
    "co czytamy jako \"zbiór wszystkich liczb rzeczywistych $x$, dla których $2x + 3$ jest równe $7$\".\n",
    "\n"
   ]
  },
  {
   "cell_type": "markdown",
   "metadata": {},
   "source": [
    "\n",
    "\n",
    "**Przykład 2**\n",
    "\n",
    "Rozpatrzmy równanie $x^2 - 4 = 0$. W tym przypadku mamy jedną zmienną $x$. Rozwiązując równanie, chcemy znaleźć wartość $x$, dla której lewa strona równania jest równa prawej stronie. Czyli rozwiązanie równania jest to zbiór\n",
    "\n",
    "$$\n",
    "\\{x \\in \\mathbb{R} : x^2 - 4 = 0\\}= \\{x \\in \\mathbb{R} : x^2 = 4\\} = \\{x \\in \\mathbb{R} : x = 2 \\lor x = -2\\}\n",
    "$$\n",
    "\n",
    "co czytamy jako \"zbiór wszystkich liczb rzeczywistych $x$, dla których $x^2$ jest równe $4$\" czyli $x = 2$ lub $x = -2$.\n",
    "\n"
   ]
  },
  {
   "cell_type": "markdown",
   "metadata": {},
   "source": [
    "\n",
    "\n",
    "**Przykład 3**\n",
    "\n",
    "Prosta równań $y=2x+1$ jest równaniem liniowym. W tym przypadku mamy dwie zmienne $x$ i $y$. Rozwiązując równanie, chcemy znaleźć wartości $x$ i $y$, dla których lewa strona równania jest równa prawej stronie. Czyli rozwiązanie równania jest to zbiór\n",
    "\n",
    "$$\n",
    "\\{(x, y) \\in \\mathbb{R}^2 : (x \\in \\mathbb{R}) \\land (y = 2x + 1)\\} = \\{(x, 2x + 1) : x \\in \\mathbb{R}\\}\n",
    "$$\n",
    "\n"
   ]
  },
  {
   "cell_type": "markdown",
   "metadata": {},
   "source": [
    "\n",
    "\n",
    "**Przykład 4**\n",
    "\n",
    "Czasami mamy do czynienia z równaniami uwikłanymi $F(x,y)$, które nie można zapisać w postaci $y=f(x)$ lub $x=f(y)$. Rozwiązanie rówania tak jak wyżej sprowadza się do znaleznienia wszystkich par $(x,y)$ spełniających równanie $F(x,y)$ co zapisujemy\n",
    "\n",
    "$$\n",
    "\\{(x, y) \\in \\mathbb{R}^2 : F(x, y) = 0\\}\n",
    "$$\n",
    "\n",
    "Równanie okręgu $x^2 + y^2 = 1$ jest przykładem równania uwikłanego. Poszuakjmy jego rozwiązania.\n",
    "Rozpatrzmy następujące równości\n",
    "\n",
    "$$\n",
    "\\begin{cases}\n",
    "y_1=+\\sqrt{1-x^2}\\quad \\text{gdzie } x\\in[-1,1]\\\\\n",
    "y_1=-\\sqrt{1-x^2}\\quad \\text{gdzie } x\\in[-1,1]\\\\\n",
    "\\end{cases}\n",
    "$$\n",
    "\n",
    "w oby przypadkach mamy $y_1^2=1-x^2$ czyli $x^2+y_1^2=1$. Stąd rozwiązaniem równania $x^2+y^2=1$ jest zbiór\n",
    "\n",
    "$$\n",
    "\\{(x, y) \\in \\mathbb{R}^2 : x^2 + y^2 = 1\\} = \\{(x, \\sqrt{1-x^2}) : x \\in [-1, 1]\\}\\cup\\{(x,-\\sqrt{1-x^2})) : x \\in [-1, 1]\\}\n",
    "$$"
   ]
  },
  {
   "cell_type": "markdown",
   "metadata": {},
   "source": [
    "# Teraz zobaczymy jak możemy manipulować równaniami w Pythonie"
   ]
  },
  {
   "cell_type": "code",
   "execution_count": 2,
   "metadata": {},
   "outputs": [
    {
     "ename": "NameError",
     "evalue": "name 'z' is not defined",
     "output_type": "error",
     "traceback": [
      "\u001b[0;31m---------------------------------------------------------------------------\u001b[0m",
      "\u001b[0;31mNameError\u001b[0m                                 Traceback (most recent call last)",
      "Cell \u001b[0;32mIn[2], line 2\u001b[0m\n\u001b[1;32m      1\u001b[0m \u001b[38;5;66;03m# Jeśli odwołamy się do zmiennej niezdefiniowanej w funkcji, to Python zwróci błąd\u001b[39;00m\n\u001b[0;32m----> 2\u001b[0m \u001b[43mz\u001b[49m\n",
      "\u001b[0;31mNameError\u001b[0m: name 'z' is not defined"
     ]
    }
   ],
   "source": [
    "# Jeśli odwołamy się do zmiennej niezdefiniowanej w funkcji, to Python zwróci błąd\n",
    "z"
   ]
  },
  {
   "cell_type": "code",
   "execution_count": 3,
   "metadata": {},
   "outputs": [
    {
     "data": {
      "text/plain": [
       "10"
      ]
     },
     "execution_count": 3,
     "metadata": {},
     "output_type": "execute_result"
    }
   ],
   "source": [
    "# możemy zdefiniować zmienną z\n",
    "z = 10\n",
    "z"
   ]
  },
  {
   "cell_type": "code",
   "execution_count": 4,
   "metadata": {},
   "outputs": [
    {
     "ename": "NameError",
     "evalue": "name 'x' is not defined",
     "output_type": "error",
     "traceback": [
      "\u001b[0;31m---------------------------------------------------------------------------\u001b[0m",
      "\u001b[0;31mNameError\u001b[0m                                 Traceback (most recent call last)",
      "Cell \u001b[0;32mIn[4], line 2\u001b[0m\n\u001b[1;32m      1\u001b[0m \u001b[38;5;66;03m# możeny dodać 1 do z\u001b[39;00m\n\u001b[0;32m----> 2\u001b[0m z \u001b[38;5;241m=\u001b[39m \u001b[43mx\u001b[49m \u001b[38;5;241m+\u001b[39m \u001b[38;5;241m1\u001b[39m\n\u001b[1;32m      3\u001b[0m z\n",
      "\u001b[0;31mNameError\u001b[0m: name 'x' is not defined"
     ]
    }
   ],
   "source": [
    "# możeny dodać 1 do z\n",
    "z = x + 1\n",
    "z"
   ]
  },
  {
   "cell_type": "markdown",
   "metadata": {},
   "source": [
    "Problem z takim podejściem że nie pozwala nam na manipulowaniem symbolami! Powyższa definicja przypisuje do symbolu wartość numeryczną a nie symboliczną. W Pythonie mamy do dyspozycji bibliotekę `sympy` która pozwala na manipulowanie symbolami.\n",
    "Poniżej wprowadzimy kilka przykładów jak możemy manipulować symbolami, równaniami w Pythonie."
   ]
  },
  {
   "cell_type": "code",
   "execution_count": 5,
   "metadata": {},
   "outputs": [],
   "source": [
    "# Najpierw wczytujemy bibliotekę sympy (Symbolic Python)\n",
    "import sympy as sp\n",
    "\n",
    "# Definiujemy zmienne x i y jako symbole\n",
    "x, y = sp.symbols('x y')"
   ]
  },
  {
   "cell_type": "code",
   "execution_count": 6,
   "metadata": {},
   "outputs": [
    {
     "data": {
      "text/latex": [
       "$\\displaystyle x$"
      ],
      "text/plain": [
       "x"
      ]
     },
     "execution_count": 6,
     "metadata": {},
     "output_type": "execute_result"
    }
   ],
   "source": [
    "x # x jest teraz symbolem"
   ]
  },
  {
   "cell_type": "code",
   "execution_count": 7,
   "metadata": {},
   "outputs": [
    {
     "data": {
      "text/latex": [
       "$\\displaystyle x + y$"
      ],
      "text/plain": [
       "x + y"
      ]
     },
     "execution_count": 7,
     "metadata": {},
     "output_type": "execute_result"
    }
   ],
   "source": [
    "x+y # Python zwraca x + y jako wyrażenie nie jako wartość liczbową"
   ]
  },
  {
   "cell_type": "code",
   "execution_count": 8,
   "metadata": {},
   "outputs": [
    {
     "data": {
      "text/latex": [
       "$\\displaystyle \\left(x + y\\right)^{2}$"
      ],
      "text/plain": [
       "(x + y)**2"
      ]
     },
     "execution_count": 8,
     "metadata": {},
     "output_type": "execute_result"
    }
   ],
   "source": [
    "# Możemy wykonywać bardziej skomplikowane operacje na zmiennych\n",
    "expr1 = (x+y)**2\n",
    "expr1"
   ]
  },
  {
   "cell_type": "code",
   "execution_count": 9,
   "metadata": {},
   "outputs": [
    {
     "data": {
      "text/latex": [
       "$\\displaystyle x^{2} + 2 x y + y^{2}$"
      ],
      "text/plain": [
       "x**2 + 2*x*y + y**2"
      ]
     },
     "execution_count": 9,
     "metadata": {},
     "output_type": "execute_result"
    }
   ],
   "source": [
    "# Możemy rozwinąć powyższe wyrażenie\n",
    "sp.expand(expr1)"
   ]
  },
  {
   "cell_type": "code",
   "execution_count": 10,
   "metadata": {},
   "outputs": [
    {
     "data": {
      "text/latex": [
       "$\\displaystyle \\left(x + y\\right)^{5}$"
      ],
      "text/plain": [
       "(x + y)**5"
      ]
     },
     "execution_count": 10,
     "metadata": {},
     "output_type": "execute_result"
    }
   ],
   "source": [
    "# a co w przypadku jeszcze bardziej skomplikowanych wyrażeń?\n",
    "expr2=(x+y)**5\n",
    "expr2"
   ]
  },
  {
   "cell_type": "code",
   "execution_count": 11,
   "metadata": {},
   "outputs": [
    {
     "data": {
      "text/latex": [
       "$\\displaystyle x^{5} + 5 x^{4} y + 10 x^{3} y^{2} + 10 x^{2} y^{3} + 5 x y^{4} + y^{5}$"
      ],
      "text/plain": [
       "x**5 + 5*x**4*y + 10*x**3*y**2 + 10*x**2*y**3 + 5*x*y**4 + y**5"
      ]
     },
     "execution_count": 11,
     "metadata": {},
     "output_type": "execute_result"
    }
   ],
   "source": [
    "expr2_expanded = sp.expand(expr2)\n",
    "expr2_expanded"
   ]
  },
  {
   "cell_type": "code",
   "execution_count": 12,
   "metadata": {},
   "outputs": [
    {
     "data": {
      "text/latex": [
       "$\\displaystyle y^{5} + 10 y^{4} + 40 y^{3} + 80 y^{2} + 80 y + 32$"
      ],
      "text/plain": [
       "y**5 + 10*y**4 + 40*y**3 + 80*y**2 + 80*y + 32"
      ]
     },
     "execution_count": 12,
     "metadata": {},
     "output_type": "execute_result"
    }
   ],
   "source": [
    "# możemy podstawić konkretne wartości do zmiennych np x=2\n",
    "expr2_expanded.subs(x,2)"
   ]
  },
  {
   "cell_type": "code",
   "execution_count": 13,
   "metadata": {},
   "outputs": [
    {
     "data": {
      "text/latex": [
       "$\\displaystyle x^{2} = 1$"
      ],
      "text/plain": [
       "Eq(x**2, 1)"
      ]
     },
     "execution_count": 13,
     "metadata": {},
     "output_type": "execute_result"
    }
   ],
   "source": [
    "# W sympy możemy definiować równania\n",
    "eq1 = sp.Eq(x**2, 1)\n",
    "eq1"
   ]
  },
  {
   "cell_type": "code",
   "execution_count": 14,
   "metadata": {},
   "outputs": [
    {
     "data": {
      "text/plain": [
       "[-1, 1]"
      ]
     },
     "execution_count": 14,
     "metadata": {},
     "output_type": "execute_result"
    }
   ],
   "source": [
    "# możemy zapytać o rozwiązania równania\n",
    "sol_eq1 = sp.solve(eq1)\n",
    "sol_eq1"
   ]
  },
  {
   "cell_type": "code",
   "execution_count": 15,
   "metadata": {},
   "outputs": [
    {
     "data": {
      "text/latex": [
       "$\\displaystyle x^{2} - 4 x + 3 = 0$"
      ],
      "text/plain": [
       "Eq(x**2 - 4*x + 3, 0)"
      ]
     },
     "execution_count": 15,
     "metadata": {},
     "output_type": "execute_result"
    }
   ],
   "source": [
    "# przykład równania kwadratowego\n",
    "eq2 = sp.Eq(x**2 - 4*x + 3, 0)\n",
    "eq2"
   ]
  },
  {
   "cell_type": "code",
   "execution_count": 16,
   "metadata": {},
   "outputs": [
    {
     "data": {
      "text/plain": [
       "[1, 3]"
      ]
     },
     "execution_count": 16,
     "metadata": {},
     "output_type": "execute_result"
    }
   ],
   "source": [
    "# rozwiązania równania kwadratowego\n",
    "sol_eq2 = sp.solve(eq2)\n",
    "sol_eq2"
   ]
  },
  {
   "cell_type": "code",
   "execution_count": 17,
   "metadata": {},
   "outputs": [
    {
     "data": {
      "text/latex": [
       "$\\displaystyle x^{2} + y^{2} = 1$"
      ],
      "text/plain": [
       "Eq(x**2 + y**2, 1)"
      ]
     },
     "execution_count": 17,
     "metadata": {},
     "output_type": "execute_result"
    }
   ],
   "source": [
    "# równanie kwadratowe z dwoma niewiadomymi\n",
    "eq3 = sp.Eq(x**2 + y**2, 1)\n",
    "eq3"
   ]
  },
  {
   "cell_type": "code",
   "execution_count": 18,
   "metadata": {},
   "outputs": [
    {
     "data": {
      "text/plain": [
       "[-sqrt(1 - x**2), sqrt(1 - x**2)]"
      ]
     },
     "execution_count": 18,
     "metadata": {},
     "output_type": "execute_result"
    }
   ],
   "source": [
    "# rozwiązania równania kwadratowego z dwoma niewiadomymi\n",
    "sol_eq3 = sp.solve(eq3,y) # rozwiązania równania z y jako funkcja od x\n",
    "sol_eq3"
   ]
  },
  {
   "cell_type": "code",
   "execution_count": 19,
   "metadata": {},
   "outputs": [
    {
     "data": {
      "text/latex": [
       "$\\displaystyle - \\sqrt{1 - x^{2}}$"
      ],
      "text/plain": [
       "-sqrt(1 - x**2)"
      ]
     },
     "execution_count": 19,
     "metadata": {},
     "output_type": "execute_result"
    }
   ],
   "source": [
    "# możemy wyświetlić rozwiązania równania w bardziej czytelny sposób\n",
    "sol_eq3[0]\n"
   ]
  },
  {
   "cell_type": "code",
   "execution_count": 20,
   "metadata": {},
   "outputs": [
    {
     "data": {
      "text/latex": [
       "$\\displaystyle \\sqrt{1 - x^{2}}$"
      ],
      "text/plain": [
       "sqrt(1 - x**2)"
      ]
     },
     "execution_count": 20,
     "metadata": {},
     "output_type": "execute_result"
    }
   ],
   "source": [
    "sol_eq3[1]"
   ]
  },
  {
   "cell_type": "code",
   "execution_count": 21,
   "metadata": {},
   "outputs": [
    {
     "data": {
      "image/png": "[encoded data removed]",
      "text/plain": [
       "<Figure size 600x600 with 1 Axes>"
      ]
     },
     "metadata": {},
     "output_type": "display_data"
    },
    {
     "data": {
      "text/plain": [
       "<sympy.plotting.backends.matplotlibbackend.matplotlib.MatplotlibBackend at 0x74bb6beb7510>"
      ]
     },
     "execution_count": 21,
     "metadata": {},
     "output_type": "execute_result"
    }
   ],
   "source": [
    "import matplotlib.pyplot as plt\n",
    "plt.rcParams['figure.figsize'] = [6, 6] # ustawienie rozmiaru wykresu oraz aspect_ratio=1\n",
    "# Możemy również narysować rozwiązania równania na płaszczyźnie aspect_ratio=1\n",
    "sp.plot_implicit(eq3, (x, -2, 2), (y, -2, 2))"
   ]
  },
  {
   "cell_type": "code",
   "execution_count": 22,
   "metadata": {},
   "outputs": [
    {
     "data": {
      "text/latex": [
       "$\\displaystyle \\frac{x^{2}}{4} + y^{2} = 1$"
      ],
      "text/plain": [
       "Eq(x**2/4 + y**2, 1)"
      ]
     },
     "execution_count": 22,
     "metadata": {},
     "output_type": "execute_result"
    }
   ],
   "source": [
    "ellipse = sp.Eq(x**2/4 + y**2, 1)\n",
    "ellipse"
   ]
  },
  {
   "cell_type": "code",
   "execution_count": 23,
   "metadata": {},
   "outputs": [
    {
     "data": {
      "image/png": "[encoded data removed]",
      "text/plain": [
       "<Figure size 600x600 with 1 Axes>"
      ]
     },
     "metadata": {},
     "output_type": "display_data"
    },
    {
     "data": {
      "text/plain": [
       "<sympy.plotting.backends.matplotlibbackend.matplotlib.MatplotlibBackend at 0x74bb5e10c8d0>"
      ]
     },
     "execution_count": 23,
     "metadata": {},
     "output_type": "execute_result"
    }
   ],
   "source": [
    "# Możemy również narysować rozwiązania równania na płaszczyźnie aspect_ratio=1\n",
    "sp.plot_implicit(ellipse, (x, -3, 3), (y, -3, 3))"
   ]
  },
  {
   "cell_type": "code",
   "execution_count": 24,
   "metadata": {},
   "outputs": [
    {
     "data": {
      "image/png": "[encoded data removed]",
      "text/plain": [
       "<Figure size 600x600 with 1 Axes>"
      ]
     },
     "metadata": {},
     "output_type": "display_data"
    }
   ],
   "source": [
    "prosta = sp.Eq(y, 2*x-1)\n",
    "okrag = sp.Eq(x**2 + y**2, 1)\n",
    "# Rysowanie okręgu i elipsy na jednym wykresie\n",
    "p1 = sp.plot_implicit(prosta, (x, -2, 2), (y, -2, 2), show=False)\n",
    "p2 = sp.plot_implicit(okrag, (x, -2, 2), (y, -2, 2), show=False)\n",
    "\n",
    "# Dodanie wykresów do jednego\n",
    "p1.extend(p2)\n",
    "p1.show()"
   ]
  },
  {
   "cell_type": "code",
   "execution_count": 25,
   "metadata": {},
   "outputs": [
    {
     "data": {
      "text/plain": [
       "[{x: 0, y: -1}, {x: 4/5, y: 3/5}]"
      ]
     },
     "execution_count": 25,
     "metadata": {},
     "output_type": "execute_result"
    }
   ],
   "source": [
    "# Zobaczmy gdzie przecinają się okrąg i prosta\n",
    "sp.solve([prosta, okrag])"
   ]
  },
  {
   "cell_type": "code",
   "execution_count": 26,
   "metadata": {},
   "outputs": [
    {
     "data": {
      "text/latex": [
       "$\\displaystyle x + y = 1$"
      ],
      "text/plain": [
       "Eq(x + y, 1)"
      ]
     },
     "execution_count": 26,
     "metadata": {},
     "output_type": "execute_result"
    }
   ],
   "source": [
    "# Jak sprawdzić czy dwa równania są równoważne?\n",
    "# zapiszemy to samo w innej postaci\n",
    "\n",
    "r1=sp.Eq(x + y, 1)\n",
    "r1\n"
   ]
  },
  {
   "cell_type": "code",
   "execution_count": 27,
   "metadata": {},
   "outputs": [
    {
     "data": {
      "text/latex": [
       "$\\displaystyle 2 x - 2 = - 2 y$"
      ],
      "text/plain": [
       "Eq(2*x - 2, -2*y)"
      ]
     },
     "execution_count": 27,
     "metadata": {},
     "output_type": "execute_result"
    }
   ],
   "source": [
    "r2=sp.Eq(2*x - 2, -2*y)\n",
    "r2"
   ]
  },
  {
   "cell_type": "code",
   "execution_count": 28,
   "metadata": {},
   "outputs": [
    {
     "data": {
      "text/plain": [
       "False"
      ]
     },
     "execution_count": 28,
     "metadata": {},
     "output_type": "execute_result"
    }
   ],
   "source": [
    "# Nie możemy porównać w sposób naturalny dwóch równań, ale możemy sprawdzić czy są równoważne\n",
    "r1==r2"
   ]
  },
  {
   "cell_type": "code",
   "execution_count": 29,
   "metadata": {},
   "outputs": [
    {
     "data": {
      "text/latex": [
       "$\\displaystyle \\frac{x + y - 1}{2 x + 2 y - 2}$"
      ],
      "text/plain": [
       "(x + y - 1)/(2*x + 2*y - 2)"
      ]
     },
     "execution_count": 29,
     "metadata": {},
     "output_type": "execute_result"
    }
   ],
   "source": [
    "# Ale jeśli zrobimy wyrażenie\n",
    "ratio=(r1.lhs-r1.rhs)/(r2.lhs-r2.rhs)\n",
    "ratio"
   ]
  },
  {
   "cell_type": "code",
   "execution_count": 30,
   "metadata": {},
   "outputs": [
    {
     "data": {
      "text/latex": [
       "$\\displaystyle \\frac{1}{2}$"
      ],
      "text/plain": [
       "1/2"
      ]
     },
     "execution_count": 30,
     "metadata": {},
     "output_type": "execute_result"
    }
   ],
   "source": [
    "# stała oznacza, że równania są równoważne\n",
    "sp.simplify(ratio) "
   ]
  },
  {
   "cell_type": "code",
   "execution_count": null,
   "metadata": {},
   "outputs": [],
   "source": []
  },
  {
   "cell_type": "code",
   "execution_count": null,
   "metadata": {},
   "outputs": [],
   "source": []
  }
 ],
 "metadata": {
  "kernelspec": {
   "display_name": ".venv",
   "language": "python",
   "name": "python3"
  },
  "language_info": {
   "codemirror_mode": {
    "name": "ipython",
    "version": 3
   },
   "file_extension": ".py",
   "mimetype": "text/x-python",
   "name": "python",
   "nbconvert_exporter": "python",
   "pygments_lexer": "ipython3",
   "version": "3.11.9"
  }
 },
 "nbformat": 4,
 "nbformat_minor": 2
}
