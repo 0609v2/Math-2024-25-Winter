{
 "cells": [
  {
   "cell_type": "markdown",
   "metadata": {},
   "source": [
    "## Lista pojęć dotyczących krzywych i powierzchni drugiego rzędu:\n",
    "\n",
    "1. **Krzywe drugiego rzędu** – krzywe opisywane równaniami kwadratowymi w dwóch zmiennych, obejmujące okręgi, elipsy, hiperbole i parabole, które są definiowane przez swoje charakterystyczne właściwości geometryczne.\n",
    "\n",
    "2. **Równania kanoniczne okręgu, elipsy, hiperboli i paraboli** – standardowe równania opisujące krzywe drugiego rzędu w najprostszej postaci:\n",
    "   - Okrąg: $(x - h)^2 + (y - k)^2 = r^2$, gdzie $(h, k)$ to środek, a $r$ to promień.\n",
    "   - Elipsa: $\\frac{(x - h)^2}{a^2} + \\frac{(y - k)^2}{b^2} = 1$, gdzie $a$ i $b$ to półosie elipsy.\n",
    "   - Hiperbola: $\\frac{(x - h)^2}{a^2} - \\frac{(y - k)^2}{b^2} = 1$, gdzie $a$ i $b$ to odległości półosi od środka.\n",
    "   - Parabola: $(x - h)^2 = 4p(y - k)$ lub $(y - k)^2 = 4p(x - h)$, gdzie $(h, k)$ to wierzchołek, a $p$ określa ogniskową.\n",
    "\n",
    "3. **Równania krzywych drugiego rzędu z przesuniętym środkiem** – równania opisujące krzywe, których środki zostały przesunięte względem układu współrzędnych, co wpływa na ich położenie, ale nie zmienia kształtu.\n",
    "\n",
    "4. **Redukcja ogólnego równania krzywej drugiego rzędu do postaci kanonicznej** – proces przekształcania ogólnego równania kwadratowego $Ax^2 + Bxy + Cy^2 + Dx + Ey + F = 0$ do jednej z postaci kanonicznych, takich jak okrąg, elipsa, hiperbola czy parabola, poprzez odpowiednie przekształcenia algebraiczne.\n",
    "\n",
    "5. **Powierzchnie drugiego rzędu** – powierzchnie opisane równaniami kwadratowymi w trzech zmiennych, obejmujące formy takie jak elipsoidy, paraboloidy i hiperboloidy, które mają zastosowanie w geometrii analitycznej.\n",
    "\n",
    "6. **Równania ogólne elipsoidy, kuli, hiperboloidy** – równania opisujące najważniejsze powierzchnie drugiego rzędu:\n",
    "   - Elipsoida: $\\frac{x^2}{a^2} + \\frac{y^2}{b^2} + \\frac{z^2}{c^2} = 1$, gdzie $a$, $b$, $c$ to półosie elipsoidy.\n",
    "   - Kula: $(x - h)^2 + (y - k)^2 + (z - l)^2 = r^2$, gdzie $(h, k, l)$ to środek, a $r$ to promień.\n",
    "   - Hiperboloid: $\\frac{x^2}{a^2} + \\frac{y^2}{b^2} - \\frac{z^2}{c^2} = 1$ (jednopowłokowy) lub $\\frac{x^2}{a^2} - \\frac{y^2}{b^2} - \\frac{z^2}{c^2} = 1$ (dwupowłokowy).\n",
    "\n",
    "7. **Powierzchnie obrotowe** – powierzchnie powstające przez obrót krzywej (takiej jak parabola, elipsa, hiperbola) wokół osi, tworzące formy takie jak paraboloidy, hiperboloidy i stożki obrotowe, powszechnie stosowane w geometrii i inżynierii."
   ]
  },
  {
   "cell_type": "markdown",
   "metadata": {},
   "source": [
    "\n",
    "## 1. Krzywe drugiego rzędu\n",
    "\n",
    "Równanie ogólne: $Ax^2 + Bxy + Cy^2 + Dx + Ey + F = 0$:\n",
    "\n",
    "1. **Okrąg**: $x^2 + y^2 = r^2$.\n",
    "2. **Elipsa**: $\\frac{x^2}{a^2} + \\frac{y^2}{b^2} = 1$.\n",
    "3. **Hiperbola**: $\\frac{x^2}{a^2} - \\frac{y^2}{b^2} = 1$.\n",
    "4. **Parabola**: $y = ax^2 + bx + c$.\n",
    "5. **Elipsa (obrót)**: $\\frac{x^2}{a^2} + \\frac{y^2}{b^2} = 1$.\n",
    "8. **Elipsa (przesunięcie środka z $(0,0)$ do punktu $(h,k)$)**: $\\frac{(x - h)^2}{a^2} + \\frac{(y - k)^2}{b^2} = 1$.\n",
    "9. **Hiperbola (przesunięcie)**: $\\frac{(x - h)^2}{a^2} - \\frac{(y - k)^2}{b^2} = 1$.\n",
    "10. **Parabola (przesunięcie)**: $(x - h)^2 = 4p(y - k)$.\n",
    "\n",
    "### a) Formalne: Przykład ogólnego równania krzywej drugiego rzędu\n"
   ]
  },
  {
   "cell_type": "code",
   "execution_count": 4,
   "metadata": {},
   "outputs": [],
   "source": [
    "import sympy as sp"
   ]
  },
  {
   "cell_type": "code",
   "execution_count": 5,
   "metadata": {},
   "outputs": [
    {
     "data": {
      "text/latex": [
       "$\\displaystyle A x^{2} + B x y + C y^{2} + D x + E y + F = 0$"
      ],
      "text/plain": [
       "Eq(A*x**2 + B*x*y + C*y**2 + D*x + E*y + F, 0)"
      ]
     },
     "execution_count": 5,
     "metadata": {},
     "output_type": "execute_result"
    }
   ],
   "source": [
    "# Przykład równania ogólnej krzywej drugiego rzędu: Ax^2 + Bxy + Cy^2 + Dx + Ey + F = 0\n",
    "\n",
    "x, y, A, B, C, D, E, F = sp.symbols('x y A B C D E F')\n",
    "\n",
    "# Ogólne równanie krzywej drugiego rzędu\n",
    "rownanie = sp.Eq(A*x**2 + B*x*y + C*y**2 + D*x + E*y + F, 0)\n",
    "rownanie"
   ]
  },
  {
   "cell_type": "markdown",
   "metadata": {},
   "source": [
    "\n",
    "### b) Gdzie jest środek elipsy $4x^2 + 9y^2 - 36 = 0$?\n"
   ]
  },
  {
   "cell_type": "code",
   "execution_count": 12,
   "metadata": {},
   "outputs": [
    {
     "data": {
      "text/plain": [
       "[(-2*sqrt(9 - y**2)/3, y), (2*sqrt(9 - y**2)/3, y)]"
      ]
     },
     "execution_count": 12,
     "metadata": {},
     "output_type": "execute_result"
    }
   ],
   "source": [
    "\n",
    "### b) Gdzie jest środek elipsy $4x^2 + 9y^2 - 36 = 0$? $\\frac{(x - h)^2}{a^2} + \\frac{(y - k)^2}{b^2} = 1$\n",
    "\n",
    "# Przykład równania elipsy: $\\frac{x^2}{a^2} + \\frac{y^2}{b^2} = 1$\n",
    "\n",
    "a, b, k, h = sp.symbols('a b k h')\n",
    "\n",
    "# Ogólne równanie elipsy\n",
    "\n",
    "rownanie_elipsy = sp.Eq((x - h)**2/a**2 +(y - k)**2/b**2, 1)\n",
    "rownanie_elipsy\n",
    "\n",
    "# Porównanie obu równań\n",
    "rownanie_elipsy = rownanie_elipsy.subs({a: 2, b: 3, h: 0, k: 0})\n",
    "\n",
    "rownanie_elipsy\n",
    "\n",
    "# Wyznaczenie środka elipsy\n",
    "\n",
    "sp.solve(rownanie_elipsy, (x, y))\n",
    "\n",
    "\n"
   ]
  },
  {
   "cell_type": "markdown",
   "metadata": {},
   "source": [
    "\n",
    "## 2. Równania kanoniczne okręgu, elipsy, hiperboli i paraboli\n",
    "\n",
    "### a) Formalne: Przykład kanonicznego równania okręgu\n"
   ]
  },
  {
   "cell_type": "code",
   "execution_count": null,
   "metadata": {},
   "outputs": [],
   "source": [
    "\n",
    "# Kanoniczne równanie okręgu: (x - h)^2 + (y - k)^2 = r^2\n",
    "h, k, r = symbols('h k r')\n",
    "\n",
    "# Równanie okregu\n",
    "rownanie_okregu = Eq((x - h)**2 + (y - k)**2, r**2)\n",
    "rownanie_okregu\n"
   ]
  },
  {
   "cell_type": "markdown",
   "metadata": {},
   "source": [
    "\n",
    "### b) Konkretne wartości: Równanie elipsy $\\frac{x^2}{9} +\\frac{y^2}{4} = 1$\n"
   ]
  },
  {
   "cell_type": "code",
   "execution_count": null,
   "metadata": {},
   "outputs": [],
   "source": [
    "\n",
    "# Równanie elipsy: x^2/9 + y^2/4 = 1\n",
    "x, y = symbols('x y')\n",
    "\n",
    "# Kanoniczne równanie elipsy\n",
    "rownanie_elipsy = Eq(x**2/9 + y**2/4, 1)\n",
    "rownanie_elipsy\n"
   ]
  },
  {
   "cell_type": "markdown",
   "metadata": {},
   "source": [
    "\n",
    "### c) Nietrywialne: Przekształć równanie $x^2 - y^2 = 1$ do postaci kanonicznej hiperboli\n"
   ]
  },
  {
   "cell_type": "code",
   "execution_count": null,
   "metadata": {},
   "outputs": [],
   "source": [
    "\n",
    "# Przekształcenie równania x^2 - y^2 = 1 do postaci kanonicznej\n",
    "x, y = symbols('x y')\n",
    "\n",
    "# Równanie hiperboli\n",
    "rownanie_kanoniczne = Eq(x**2/1 - y**2/1, 1)\n",
    "rownanie_kanoniczne\n"
   ]
  },
  {
   "cell_type": "markdown",
   "metadata": {},
   "source": [
    "\n",
    "## 3. Równania krzywych drugiego rzędu z przesuniętym środkiem\n",
    "\n",
    "### a) Formalne: Przykład przesunięcia środka okręgu z $(0, 0)$ do $(h, k)$\n"
   ]
  },
  {
   "cell_type": "code",
   "execution_count": null,
   "metadata": {},
   "outputs": [],
   "source": [
    "\n",
    "# Przesunięcie środka okręgu: (x - h)^2 + (y - k)^2 = r^2\n",
    "h, k, r = symbols('h k r')\n",
    "\n",
    "# Równanie przesuniętego okregu\n",
    "rownanie_przesunietego_okregu = Eq((x - h)**2 + (y - k)**2, r**2)\n",
    "rownanie_przesunietego_okregu\n"
   ]
  },
  {
   "cell_type": "markdown",
   "metadata": {},
   "source": [
    "\n",
    "### b) Konkretne wartości: Równanie przesuniętej elipsy $\\frac{(x - 2)^2}{4} + \\frac{(y + 3)^2}{9} = 1$\n"
   ]
  },
  {
   "cell_type": "code",
   "execution_count": null,
   "metadata": {},
   "outputs": [],
   "source": [
    "\n",
    "# Przesunięta elipsa: ((x - 2)^2)/4 + ((y + 3)^2)/9 = 1\n",
    "x, y = symbols('x y')\n",
    "\n",
    "# Równanie przesuniętej elipsy\n",
    "rownanie_przesunietej_elipsy = Eq((x - 2)**2/4 + (y + 3)**2/9, 1)\n",
    "rownanie_przesunietej_elipsy\n"
   ]
  },
  {
   "cell_type": "markdown",
   "metadata": {},
   "source": [
    "\n",
    "### c) Nietrywialne: Określ wpływ przesunięcia środka hiperboli na jej równanie\n"
   ]
  },
  {
   "cell_type": "code",
   "execution_count": null,
   "metadata": {},
   "outputs": [],
   "source": [
    "\n",
    "# Określenie wpływu przesunięcia środka hiperboli\n",
    "x, y, h, k = symbols('x y h k')\n",
    "\n",
    "# Przesunięte równanie hiperboli\n",
    "rownanie_przesunietej_hiperboli = Eq((x - h)**2 - (y - k)**2, 1)\n",
    "rownanie_przesunietej_hiperboli\n"
   ]
  },
  {
   "cell_type": "markdown",
   "metadata": {},
   "source": [
    "\n",
    "## 4. Redukcja ogólnego równania krzywej drugiego rzędu do postaci kanonicznej\n",
    "\n",
    "### a) Formalne: Ogólny proces redukcji równania\n"
   ]
  },
  {
   "cell_type": "code",
   "execution_count": null,
   "metadata": {},
   "outputs": [],
   "source": [
    "\n",
    "# Ogólny proces redukcji równania Ax^2 + Bxy + Cy^2 + Dx + Ey + F = 0\n",
    "from sympy import symbols, Eq, simplify, expand\n",
    "\n",
    "x, y, A, B, C, D, E, F = symbols('x y A B C D E F')\n",
    "\n",
    "# Przykład redukcji równania\n",
    "ogolne_rownanie = A*x**2 + B*x*y + C*y**2 + D*x + E*y + F\n",
    "redukcja = simplify(expand(ogolne_rownanie))\n",
    "redukcja\n"
   ]
  },
  {
   "cell_type": "markdown",
   "metadata": {},
   "source": [
    "\n",
    "### b) Konkretne wartości: Redukcja równania $3x^2 + 4xy + 2y^2 - 6x - 4y + 1 = 0$\n"
   ]
  },
  {
   "cell_type": "code",
   "execution_count": null,
   "metadata": {},
   "outputs": [],
   "source": [
    "\n",
    "# Redukcja konkretnego równania do formy kanonicznej\n",
    "x, y = symbols('x y')\n",
    "\n",
    "rownanie = Eq(3*x**2 + 4*x*y + 2*y**2 - 6*x - 4*y + 1, 0)\n",
    "redukowane_rownanie = simplify(rownanie)\n",
    "redukowane_rownanie\n"
   ]
  },
  {
   "cell_type": "markdown",
   "metadata": {},
   "source": [
    "\n",
    "### c) Nietrywialne: Redukcja równania z obrotem osi układu współrzędnych\n"
   ]
  },
  {
   "cell_type": "code",
   "execution_count": null,
   "metadata": {},
   "outputs": [],
   "source": [
    "\n",
    "# Redukcja równania przy użyciu obrotu osi\n",
    "theta = symbols('theta')\n",
    "\n",
    "# Przekształcenie równania przez obrót\n",
    "obrot_rownanie = simplify(A*x**2 + B*x*y*cos(theta) + C*y**2)\n",
    "obrot_rownanie\n"
   ]
  },
  {
   "cell_type": "markdown",
   "metadata": {},
   "source": [
    "\n",
    "## 5. Powierzchnie drugiego rzędu\n",
    "\n",
    "### a) Formalne: Przykład równania elipsoidy\n"
   ]
  },
  {
   "cell_type": "code",
   "execution_count": null,
   "metadata": {},
   "outputs": [],
   "source": [
    "\n",
    "# Przykład równania elipsoidy: x^2/a^2 + y^2/b^2 + z^2/c^2 = 1\n",
    "x, y, z, a, b, c = symbols('x y z a b c')\n",
    "\n",
    "# Równanie elipsoidy\n",
    "rownanie_elipsoidy = Eq(x**2/a**2 + y**2/b**2 + z**2/c**2, 1)\n",
    "rownanie_elipsoidy\n"
   ]
  },
  {
   "cell_type": "markdown",
   "metadata": {},
   "source": [
    "\n",
    "### b) Konkretne wartości: Równanie kuli $(x - 1)^2 + (y + 2)^2 + (z - 3)^2 = 16$\n"
   ]
  },
  {
   "cell_type": "code",
   "execution_count": null,
   "metadata": {},
   "outputs": [],
   "source": [
    "\n",
    "# Konkretne równanie kuli: (x - 1)^2 + (y + 2)^2 + (z - 3)^2 = 16\n",
    "x, y, z = symbols('x y z')\n",
    "\n",
    "# Równanie kuli\n",
    "rownanie_kuli = Eq((x - 1)**2 + (y + 2)**2 + (z - 3)**2, 16)\n",
    "rownanie_kuli\n"
   ]
  },
  {
   "cell_type": "markdown",
   "metadata": {},
   "source": [
    "\n",
    "### c) Nietrywialne: Określ powierzchnię opisaną równaniem $\\frac{x^2}{4} - \\frac{y^2}{9} - \\frac{z^2}{16} = 1$\n"
   ]
  },
  {
   "cell_type": "code",
   "execution_count": null,
   "metadata": {},
   "outputs": [],
   "source": [
    "\n",
    "# Określenie rodzaju powierzchni z równania\n",
    "x, y, z = symbols('x y z')\n",
    "\n",
    "# Równanie hiperboloidy dwupowłokowej\n",
    "rownanie_hiperboloidy = Eq(x**2/4 - y**2/9 - z**2/16, 1)\n",
    "'Równanie opisuje hiperboloidę dwupowłokową' if rownanie_hiperboloidy else 'Nieznana powierzchnia'\n"
   ]
  },
  {
   "cell_type": "markdown",
   "metadata": {},
   "source": [
    "\n",
    "## 6. Równania ogólne elipsoidy, kuli, hiperboloidy\n",
    "\n",
    "### a) Formalne: Przykład ogólnego równania elipsoidy\n"
   ]
  },
  {
   "cell_type": "code",
   "execution_count": null,
   "metadata": {},
   "outputs": [],
   "source": [
    "\n",
    "# Ogólne równanie elipsoidy: x^2/a^2 + y^2/b^2 + z^2/c^2 = 1\n",
    "from sympy import symbols, Eq\n",
    "\n",
    "x, y, z, a, b, c = symbols('x y z a b c')\n",
    "\n",
    "# Równanie elipsoidy\n",
    "rownanie_elipsoidy = Eq(x**2/a**2 + y**2/b**2 + z**2/c**2, 1)\n",
    "rownanie_elipsoidy\n"
   ]
  },
  {
   "cell_type": "markdown",
   "metadata": {},
   "source": [
    "\n",
    "### b) Konkretne wartości: Równanie hiperboloidy jednopowłokowej $\\frac{x^2}{9} + \\frac{y^2}{4} - \\frac{z^2}{16} = 1$\n"
   ]
  },
  {
   "cell_type": "code",
   "execution_count": null,
   "metadata": {},
   "outputs": [],
   "source": [
    "\n",
    "# Równanie hiperboloidy jednopowłokowej\n",
    "x, y, z = symbols('x y z')\n",
    "\n",
    "# Konkretne równanie hiperboloidy\n",
    "rownanie_hiperboloidy = Eq(x**2/9 + y**2/4 - z**2/16, 1)\n",
    "rownanie_hiperboloidy\n"
   ]
  },
  {
   "cell_type": "markdown",
   "metadata": {},
   "source": [
    "\n",
    "### c) Nietrywialne: Przekształć ogólne równanie elipsoidy do formy kanonicznej\n"
   ]
  },
  {
   "cell_type": "code",
   "execution_count": null,
   "metadata": {},
   "outputs": [],
   "source": [
    "\n",
    "# Przekształcenie równania elipsoidy do formy kanonicznej\n",
    "x, y, z, h, k, l = symbols('x y z h k l')\n",
    "\n",
    "# Równanie elipsoidy z przesuniętym środkiem\n",
    "rownanie_przesunietej_elipsoidy = Eq((x - h)**2/a**2 + (y - k)**2/b**2 + (z - l)**2/c**2, 1)\n",
    "rownanie_przesunietej_elipsoidy\n"
   ]
  },
  {
   "cell_type": "markdown",
   "metadata": {},
   "source": [
    "\n",
    "## 7. Powierzchnie obrotowe\n",
    "\n",
    "### a) Formalne: Przykład powierzchni obrotowej paraboloidy\n"
   ]
  },
  {
   "cell_type": "code",
   "execution_count": null,
   "metadata": {},
   "outputs": [],
   "source": [
    "\n",
    "# Powierzchnia obrotowa paraboloidy: x^2 + y^2 = 2pz\n",
    "x, y, z, p = symbols('x y z p')\n",
    "\n",
    "# Równanie paraboloidy obrotowej\n",
    "rownanie_paraboloidy = Eq(x**2 + y**2, 2*p*z)\n",
    "rownanie_paraboloidy\n"
   ]
  },
  {
   "cell_type": "markdown",
   "metadata": {},
   "source": [
    "\n",
    "### b) Konkretne wartości: Równanie stożka obrotowego $x^2 + y^2 = z^2$\n"
   ]
  },
  {
   "cell_type": "code",
   "execution_count": null,
   "metadata": {},
   "outputs": [],
   "source": [
    "\n",
    "# Równanie stożka obrotowego: x^2 + y^2 = z^2\n",
    "x, y, z = symbols('x y z')\n",
    "\n",
    "# Równanie stożka\n",
    "rownanie_stozka = Eq(x**2 + y**2, z**2)\n",
    "rownanie_stozka\n"
   ]
  },
  {
   "cell_type": "markdown",
   "metadata": {},
   "source": [
    "\n",
    "### c) Nietrywialne: Przekształć równanie paraboloidy w inny układ współrzędnych\n"
   ]
  },
  {
   "cell_type": "code",
   "execution_count": null,
   "metadata": {},
   "outputs": [],
   "source": [
    "\n",
    "# Przekształcenie równania paraboloidy do innego układu współrzędnych\n",
    "from sympy import cos, simplify\n",
    "\n",
    "theta = symbols('theta')\n",
    "\n",
    "# Obrót równania paraboloidy wokół osi\n",
    "rownanie_obrotu = simplify(x**2 + y**2 - 2*p*z*cos(theta))\n",
    "rownanie_obrotu\n"
   ]
  }
 ],
 "metadata": {
  "kernelspec": {
   "display_name": "Python 3",
   "language": "python",
   "name": "python3"
  },
  "language_info": {
   "codemirror_mode": {
    "name": "ipython",
    "version": 3
   },
   "file_extension": ".py",
   "mimetype": "text/x-python",
   "name": "python",
   "nbconvert_exporter": "python",
   "pygments_lexer": "ipython3",
   "version": "3.11.9"
  }
 },
 "nbformat": 4,
 "nbformat_minor": 2
}
