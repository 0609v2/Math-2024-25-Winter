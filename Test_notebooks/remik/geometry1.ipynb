{
 "cells": [
  {
   "cell_type": "markdown",
   "id": "7d789e8b",
   "metadata": {},
   "source": [
    "## Przykłady zadań"
   ]
  },
  {
   "cell_type": "markdown",
   "id": "3465a47d",
   "metadata": {},
   "source": [
    "# Old\n",
    "Zadanie. Podaj wektor opisujacy środek ciężkości dla punktów P1(1,0), P2(2,3) i P3(3,-1).\n",
    "Zadanie. Gdzie umieścić 4ty punkt P4, aby środek ciężkości dla punktów P1(1,0), P2(2,3), P3(3,-1) i P4(x,y) był równy (2,1)?\n",
    "Zadanie 1. Policz środek ciężkości dla trójkąta dla P1(x1, y1), P2(x2, y2), P3(x3, y3):\n",
    "# policz środek ciężkości dla trójkąta dla P1(x1, y1), P2(x2, y2), P3(x3, y3):\n",
    "\n",
    "x1 = 0\n",
    "y1 = 0\n",
    "x2 = 0\n",
    "y2 = 4\n",
    "x3 = 4\n",
    "y3 = 0\n",
    "\n",
    "x = (x1 + x2 + x3) / 3\n",
    "y = (y1 + y2 + y3) / 3\n",
    "\n",
    "print(f'Środek ciężkości trójkąta o wierzchołkach P1({x1}, {y1}), P2({x2}, {y2}), P3({x3}, {y3}) to G({x}, {y})')\n",
    "\n",
    "# środek ciężkości trójkąta to punkt przecięcia jego median\n",
    "# mediany to odcinki łączące wierzchołki trójkąta z punktami przecięcia przeciwległych boków\n",
    "\n",
    "# współrzędne środka ciężkości to średnie arytmetyczne współrzędnych wierzchołków trójkąta\n",
    "# G(x, y) = (x1 + x2 + x3) / 3, (y1 + y2 + y3) / 3\n",
    "# G(x, y) = (0 + 0 + 4) / 3, (0 + 4 + 0) / 3\n",
    "# G(x, y) = 4 / 3, 4 / 3\n",
    "\n",
    "# G(4/3, 4/3)\n",
    "\n",
    "# G(1.33, 1.33)\n",
    "\n",
    "Wyznacz punkty przecięcia dwóch okręgów o zadanych promieniach i środkach. \n",
    "$$x^2 + y^2 = 4$$\n",
    "$$(x-4)^2 + (y-2)^2 = 4$$\n",
    "import sympy as sp\n",
    "import matplotlib.pyplot as plt\n",
    "\n",
    "# Definiowanie symboli\n",
    "x, y = sp.symbols('x y')\n",
    "\n",
    "# Definiowanie równań\n",
    "eq1 = x**2 + y**2 - 4  # Równanie pierwszego okręgu o środku (0, 0) i promieniu 2\n",
    "eq2 = (x-4)**2 + (y-2)**2 - 4  # Równanie drugiego okręgu o środku (4, 2) i promieniu 2\n",
    "\n",
    "# Rozwiązanie układu równań\n",
    "solutions = sp.solve((eq1, eq2), (x, y))\n",
    "print(\"Rozwiązania:\", solutions)\n",
    "\n",
    "# Wyodrębnienie rozwiązań\n",
    "# Sprawdzenie, czy rozwiązania są rzeczywiste przed konwersją do float, aby uniknąć błędów\n",
    "points = [(float(sol[0]), float(sol[1])) for sol in solutions if sol[0].is_real and sol[1].is_real]\n",
    "\n",
    "# Rysowanie okręgów i punktów przecięcia\n",
    "circle1 = plt.Circle((0, 0), 2, color='blue', fill=False, label=r'$x^2 + y^2 = 4$')  # Pierwszy okrąg\n",
    "circle2 = plt.Circle((4, 2), 2, color='red', fill=False, label=r'$(x-4)^2 + (y-2)^2 = 4$')  # Drugi okrąg\n",
    "\n",
    "# Tworzenie wykresu\n",
    "fig, ax = plt.subplots()\n",
    "ax.add_artist(circle1)\n",
    "ax.add_artist(circle2)\n",
    "\n",
    "# Rysowanie punktów przecięcia\n",
    "for point in points:\n",
    "    ax.plot(point[0], point[1], 'go', label='Punkt przecięcia')  # 'go' oznacza zielony kolor i okrągły marker\n",
    "\n",
    "# Ustawienie równych proporcji na wykresie\n",
    "ax.set_aspect('equal')\n",
    "ax.set_xlim(-3, 7)\n",
    "ax.set_ylim(-3, 7)\n",
    "ax.legend(loc='best')\n",
    "plt.xlabel('x')\n",
    "plt.ylabel('y')\n",
    "plt.title('Przecięcie dwóch okręgów')\n",
    "plt.grid(True)\n",
    "plt.show()\n"
   ]
  },
  {
   "cell_type": "markdown",
   "id": "46f7eb7c",
   "metadata": {},
   "source": [
    "Środek cieżkości na płaszczyźnie dla listy punktów $(x_i,y_i)$ zadany jest punktem o współrzędnych:\n",
    "\n",
    "$$\n",
    "\\left( \\frac{\\sum_{i=1}^{n} x_i}{n}, \\frac{\\sum_{i=1}^{n} y_i}{n} \\right).\n",
    "$$\n",
    "\n",
    "Środek cieżkości w przestrzeni 3D dla listy punktów $(x_i,y_i,z_i)$ zadany jest punktem o współrzędnych:  \n",
    "\n",
    "$$\n",
    "\\left( \\frac{\\sum_{i=1}^{n} x_i}{n}, \\frac{\\sum_{i=1}^{n} y_i}{n},\\frac{\\sum_{i=1}^{n} z_i}{n} \\right).\n",
    "$$\n",
    "\n",
    "Pokazanie środka cieżkości dla trzech punktów: P1(x1,y1), P2(x2,y2) i P3(x3,y3). Wzór na środek ciężkości to:\n",
    "\n",
    "$$\n",
    "\\left( \\frac{x_1 + x_2 + x_3}{3}, \\frac{y_1 + y_2 + y_3}{3} \\right)\n",
    "$$\n",
    "\n"
   ]
  },
  {
   "cell_type": "code",
   "execution_count": null,
   "id": "cab06c4b",
   "metadata": {},
   "outputs": [
    {
     "data": {
      "text/latex": [
       "$\\displaystyle \\left[\\begin{matrix}\\frac{x_{1}}{3} + \\frac{x_{2}}{3} + \\frac{x_{3}}{3}\\\\\\frac{y_{1}}{3} + \\frac{y_{2}}{3} + \\frac{y_{3}}{3}\\end{matrix}\\right]$"
      ],
      "text/plain": [
       "Matrix([\n",
       "[x1/3 + x2/3 + x3/3],\n",
       "[y1/3 + y2/3 + y3/3]])"
      ]
     },
     "metadata": {},
     "output_type": "display_data"
    }
   ],
   "source": [
    "# definiujemy symbole\n",
    "import sympy as sp\n",
    "x1,x2,x3, y1,y2,y3 = sp.symbols('x1 x2 x3 y1 y2 y3')\n",
    "\n",
    "#definiujemy wektory\n",
    "v1 = sp.Matrix([x1, y1])\n",
    "v2 = sp.Matrix([x2, y2])\n",
    "v3 = sp.Matrix([x3, y3])\n",
    "\n",
    "# definujemy wzór na środkiem ciężkości\n",
    "\n",
    "srodek_ciezkosci = (v1 + v2 + v3) / 3\n",
    "\n",
    "# wyświetlamy wynik\n",
    "\n",
    "srodek_ciezkosci"
   ]
  },
  {
   "cell_type": "markdown",
   "id": "8f2ab335",
   "metadata": {},
   "source": [
    "Geometria 1"
   ]
  },
  {
   "cell_type": "markdown",
   "id": "f7106dee",
   "metadata": {},
   "source": [
    "## 1. Równanie ogólne prostej"
   ]
  },
  {
   "cell_type": "code",
   "execution_count": null,
   "id": "c14b4671",
   "metadata": {},
   "outputs": [],
   "source": [
    "#### a) Formalne\n",
    "```python\n",
    "# Równanie ogólne prostej: Ax + By + C = 0\n",
    "from sympy import symbols, Eq, solve"
   ]
  },
  {
   "cell_type": "code",
   "execution_count": null,
   "id": "1f0bcd9c",
   "metadata": {},
   "outputs": [],
   "source": [
    "# Definiowanie symboli\n",
    "x, y, A, B, C = symbols('x y A B C')"
   ]
  },
  {
   "cell_type": "code",
   "execution_count": null,
   "id": "d55289a0",
   "metadata": {},
   "outputs": [],
   "source": [
    "# Równanie prostej\n",
    "rownanie = Eq(A*x + B*y + C, 0)"
   ]
  },
  {
   "cell_type": "code",
   "execution_count": null,
   "id": "cf7bf6c6",
   "metadata": {},
   "outputs": [],
   "source": [
    "# Rozwiązywanie równania względem y\n",
    "rownanie_y = solve(rownanie, y)\n",
    "rownanie_y  # wyświetla równanie prostej w zależności od parametrów\n",
    "```"
   ]
  },
  {
   "cell_type": "code",
   "execution_count": null,
   "id": "c9c52d3a",
   "metadata": {},
   "outputs": [],
   "source": [
    "#### b) Konkretne wartości\n",
    "```python\n",
    "# Równanie prostej: 2x - 3y + 6 = 0\n",
    "from sympy import symbols, Eq, solve"
   ]
  },
  {
   "cell_type": "code",
   "execution_count": null,
   "id": "bf52dd23",
   "metadata": {},
   "outputs": [],
   "source": [
    "x, y = symbols('x y')"
   ]
  },
  {
   "cell_type": "code",
   "execution_count": null,
   "id": "51477971",
   "metadata": {},
   "outputs": [],
   "source": [
    "# Konkretne równanie\n",
    "rownanie = Eq(2*x - 3*y + 6, 0)"
   ]
  },
  {
   "cell_type": "code",
   "execution_count": null,
   "id": "be27be42",
   "metadata": {},
   "outputs": [],
   "source": [
    "# Rozwiązywanie równania względem y\n",
    "roz = solve(rownanie, y)\n",
    "roz\n",
    "```"
   ]
  },
  {
   "cell_type": "code",
   "execution_count": null,
   "id": "15ced477",
   "metadata": {},
   "outputs": [],
   "source": [
    "#### c) Nietrywialne\n",
    "```python\n",
    "# Wyznaczanie punktu przecięcia prostej z osiami układu współrzędnych\n",
    "from sympy import symbols, Eq, solve"
   ]
  },
  {
   "cell_type": "code",
   "execution_count": null,
   "id": "7d8e0a0d",
   "metadata": {},
   "outputs": [],
   "source": [
    "x, y = symbols('x y')"
   ]
  },
  {
   "cell_type": "code",
   "execution_count": null,
   "id": "5212a751",
   "metadata": {},
   "outputs": [],
   "source": [
    "# Równanie prostej: 5x - 4y + 20 = 0\n",
    "rownanie = Eq(5*x - 4*y + 20, 0)"
   ]
  },
  {
   "cell_type": "code",
   "execution_count": null,
   "id": "8584b6fa",
   "metadata": {},
   "outputs": [],
   "source": [
    "# Punkt przecięcia z osią OX (y=0)\n",
    "punkt_OX = solve(rownanie.subs(y, 0), x)"
   ]
  },
  {
   "cell_type": "code",
   "execution_count": null,
   "id": "08424144",
   "metadata": {},
   "outputs": [],
   "source": [
    "# Punkt przecięcia z osią OY (x=0)\n",
    "punkt_OY = solve(rownanie.subs(x, 0), y)"
   ]
  },
  {
   "cell_type": "code",
   "execution_count": null,
   "id": "ec8c76d3",
   "metadata": {},
   "outputs": [],
   "source": [
    "punkt_OX, punkt_OY\n",
    "```"
   ]
  },
  {
   "cell_type": "markdown",
   "id": "479c63d6",
   "metadata": {},
   "source": [
    "## 2. Równanie kanoniczne prostej"
   ]
  },
  {
   "cell_type": "code",
   "execution_count": null,
   "id": "433892e0",
   "metadata": {},
   "outputs": [],
   "source": [
    "#### a) Formalne\n",
    "```python\n",
    "# Równanie kanoniczne: (x - x0)/a = (y - y0)/b\n",
    "from sympy import symbols, Eq"
   ]
  },
  {
   "cell_type": "code",
   "execution_count": null,
   "id": "62c53552",
   "metadata": {},
   "outputs": [],
   "source": [
    "x, y, x0, y0, a, b = symbols('x y x0 y0 a b')"
   ]
  },
  {
   "cell_type": "code",
   "execution_count": null,
   "id": "0c4b434c",
   "metadata": {},
   "outputs": [],
   "source": [
    "# Równanie kanoniczne\n",
    "rownanie_kanoniczne = Eq((x - x0)/a, (y - y0)/b)\n",
    "rownanie_kanoniczne\n",
    "```"
   ]
  },
  {
   "cell_type": "code",
   "execution_count": null,
   "id": "7cdac2aa",
   "metadata": {},
   "outputs": [],
   "source": [
    "#### b) Konkretne wartości\n",
    "```python\n",
    "# Równanie kanoniczne: (x - 1)/3 = (y - 2)/4\n",
    "x, y = symbols('x y')"
   ]
  },
  {
   "cell_type": "code",
   "execution_count": null,
   "id": "c3ae4e57",
   "metadata": {},
   "outputs": [],
   "source": [
    "# Podstawienie wartości\n",
    "rownanie = Eq((x - 1)/3, (y - 2)/4)\n",
    "rownanie\n",
    "```"
   ]
  },
  {
   "cell_type": "code",
   "execution_count": null,
   "id": "29da1732",
   "metadata": {},
   "outputs": [],
   "source": [
    "#### c) Nietrywialne\n",
    "```python\n",
    "# Znajdź równanie kanoniczne prostej przechodzącej przez punkt (3, 4) w kierunku wektora (2, -1)\n",
    "x, y = symbols('x y')"
   ]
  },
  {
   "cell_type": "code",
   "execution_count": null,
   "id": "b6ada2bc",
   "metadata": {},
   "outputs": [],
   "source": [
    "# Punkt (x0, y0) i wektor kierunkowy (a, b)\n",
    "x0, y0 = 3, 4\n",
    "a, b = 2, -1"
   ]
  },
  {
   "cell_type": "code",
   "execution_count": null,
   "id": "4bd49d3f",
   "metadata": {},
   "outputs": [],
   "source": [
    "# Równanie kanoniczne\n",
    "rownanie = Eq((x - x0)/a, (y - y0)/b)\n",
    "rownanie\n",
    "```"
   ]
  },
  {
   "cell_type": "markdown",
   "id": "28729331",
   "metadata": {},
   "source": [
    "## 3. Równanie prostej w odcinkach na osiach"
   ]
  },
  {
   "cell_type": "code",
   "execution_count": null,
   "id": "0496d237",
   "metadata": {},
   "outputs": [],
   "source": [
    "#### a) Formalne\n",
    "```python\n",
    "# Równanie w postaci odcinków: x/a + y/b = 1\n",
    "from sympy import symbols, Eq"
   ]
  },
  {
   "cell_type": "code",
   "execution_count": null,
   "id": "978dcb46",
   "metadata": {},
   "outputs": [],
   "source": [
    "x, y, a, b = symbols('x y a b')"
   ]
  },
  {
   "cell_type": "code",
   "execution_count": null,
   "id": "d66133de",
   "metadata": {},
   "outputs": [],
   "source": [
    "# Równanie prostej\n",
    "rownanie_odcinki = Eq(x/a + y/b, 1)\n",
    "rownanie_odcinki\n",
    "```"
   ]
  },
  {
   "cell_type": "code",
   "execution_count": null,
   "id": "3e148e24",
   "metadata": {},
   "outputs": [],
   "source": [
    "#### b) Konkretne wartości\n",
    "```python\n",
    "# Równanie: x/2 + y/3 = 1\n",
    "x, y = symbols('x y')"
   ]
  },
  {
   "cell_type": "code",
   "execution_count": null,
   "id": "f901f51c",
   "metadata": {},
   "outputs": [],
   "source": [
    "# Podstawienie\n",
    "rownanie = Eq(x/2 + y/3, 1)\n",
    "rownanie\n",
    "```"
   ]
  },
  {
   "cell_type": "code",
   "execution_count": null,
   "id": "ad0395b5",
   "metadata": {},
   "outputs": [],
   "source": [
    "#### c) Nietrywialne\n",
    "```python\n",
    "# Znajdź punkt przecięcia tej prostej z osiami, obliczając dokładne wartości\n",
    "x, y = symbols('x y')"
   ]
  },
  {
   "cell_type": "code",
   "execution_count": null,
   "id": "3ae1766c",
   "metadata": {},
   "outputs": [],
   "source": [
    "rownanie = Eq(x/2 + y/3, 1)"
   ]
  },
  {
   "cell_type": "code",
   "execution_count": null,
   "id": "c1623dba",
   "metadata": {},
   "outputs": [],
   "source": [
    "# Punkt przecięcia z osią OX (y=0)\n",
    "punkt_OX = solve(rownanie.subs(y, 0), x)"
   ]
  },
  {
   "cell_type": "code",
   "execution_count": null,
   "id": "0be12ca3",
   "metadata": {},
   "outputs": [],
   "source": [
    "# Punkt przecięcia z osią OY (x=0)\n",
    "punkt_OY = solve(rownanie.subs(x, 0), y)"
   ]
  },
  {
   "cell_type": "code",
   "execution_count": null,
   "id": "f44bf9f5",
   "metadata": {},
   "outputs": [],
   "source": [
    "punkt_OX, punkt_OY\n",
    "```"
   ]
  },
  {
   "cell_type": "markdown",
   "id": "1f2eb583",
   "metadata": {},
   "source": [
    "## 4. Równanie prostej ze współczynnikiem kątowym"
   ]
  },
  {
   "cell_type": "code",
   "execution_count": null,
   "id": "9957568d",
   "metadata": {},
   "outputs": [],
   "source": [
    "#### a) Formalne\n",
    "```python\n",
    "# Równanie prostej: y = mx + c\n",
    "from sympy import symbols, Eq"
   ]
  },
  {
   "cell_type": "code",
   "execution_count": null,
   "id": "6d539d8e",
   "metadata": {},
   "outputs": [],
   "source": [
    "x, y, m, c = symbols('x y m c')"
   ]
  },
  {
   "cell_type": "code",
   "execution_count": null,
   "id": "98f99372",
   "metadata": {},
   "outputs": [],
   "source": [
    "# Równanie prostej\n",
    "rownanie_katowy = Eq(y, m*x + c)\n",
    "rownanie_katowy\n",
    "```"
   ]
  },
  {
   "cell_type": "code",
   "execution_count": null,
   "id": "39653b74",
   "metadata": {},
   "outputs": [],
   "source": [
    "#### b) Konkretne wartości\n",
    "```python\n",
    "# Równanie: y = 2x + 5\n",
    "x, y = symbols('x y')"
   ]
  },
  {
   "cell_type": "code",
   "execution_count": null,
   "id": "60eab616",
   "metadata": {},
   "outputs": [],
   "source": [
    "# Podstawienie\n",
    "rownanie = Eq(y, 2*x + 5)\n",
    "rownanie\n",
    "```"
   ]
  },
  {
   "cell_type": "code",
   "execution_count": null,
   "id": "6383c54b",
   "metadata": {},
   "outputs": [],
   "source": [
    "#### c) Nietrywialne\n",
    "```python\n",
    "# Oblicz współczynnik kierunkowy prostej przechodzącej przez punkty (1, 2) i (4, 10)\n",
    "x1, y1, x2, y2 = 1, 2, 4, 10"
   ]
  },
  {
   "cell_type": "code",
   "execution_count": null,
   "id": "1f4e47ed",
   "metadata": {},
   "outputs": [],
   "source": [
    "# Obliczanie współczynnika kierunkowego m\n",
    "m = (y2 - y1) / (x2 - x1)\n",
    "m\n",
    "```"
   ]
  },
  {
   "cell_type": "markdown",
   "id": "19c46b21",
   "metadata": {},
   "source": [
    "## 5. Równanie prostej przechodzącej przez dany punkt w danym kierunku"
   ]
  },
  {
   "cell_type": "code",
   "execution_count": null,
   "id": "bf579cad",
   "metadata": {},
   "outputs": [],
   "source": [
    "#### a) Formalne\n",
    "```python\n",
    "# Równanie: (x - x0)/a = (y - y0)/b\n",
    "from sympy import symbols, Eq"
   ]
  },
  {
   "cell_type": "code",
   "execution_count": null,
   "id": "00792b1d",
   "metadata": {},
   "outputs": [],
   "source": [
    "x, y, x0, y0, a, b = symbols('x y x0 y0 a b')"
   ]
  },
  {
   "cell_type": "code",
   "execution_count": null,
   "id": "8ca418e5",
   "metadata": {},
   "outputs": [],
   "source": [
    "# Równanie prostej\n",
    "rownanie = Eq((x - x0)/a, (y - y0)/b)\n",
    "rownanie\n",
    "```"
   ]
  },
  {
   "cell_type": "code",
   "execution_count": null,
   "id": "57b21255",
   "metadata": {},
   "outputs": [],
   "source": [
    "#### b) Konkretne wartości\n",
    "```python\n",
    "# Równanie przechodzącej przez (2, 3) w kierunku (1, 2)\n",
    "x, y = symbols('x y')"
   ]
  },
  {
   "cell_type": "code",
   "execution_count": null,
   "id": "b7f8bcc3",
   "metadata": {},
   "outputs": [],
   "source": [
    "rownanie = Eq((x - 2)/1, (y - 3)/2)\n",
    "rownanie\n",
    "```"
   ]
  },
  {
   "cell_type": "code",
   "execution_count": null,
   "id": "23c391d8",
   "metadata": {},
   "outputs": [],
   "source": [
    "#### c) Nietrywialne\n",
    "```python\n",
    "# Oblicz równanie prostej, jeśli punkt (3, 4) jest dany, a kierunek to prosta y = 2x - 1\n",
    "from sympy import solve"
   ]
  },
  {
   "cell_type": "code",
   "execution_count": null,
   "id": "e7ace2f2",
   "metadata": {},
   "outputs": [],
   "source": [
    "# Punkt (x0, y0)\n",
    "x0, y0 = 3, 4"
   ]
  },
  {
   "cell_type": "code",
   "execution_count": null,
   "id": "ade4d0d6",
   "metadata": {},
   "outputs": [],
   "source": [
    "# Współczynnik kierunkowy z równania y = 2x - 1\n",
    "m = 2"
   ]
  },
  {
   "cell_type": "code",
   "execution_count": null,
   "id": "01fbc5bb",
   "metadata": {},
   "outputs": [],
   "source": [
    "# Równanie: y - y0 = m(x - x0)\n",
    "rownanie = Eq(y - y0, m*(x - x0))\n",
    "rownanie\n",
    "```"
   ]
  },
  {
   "cell_type": "markdown",
   "id": "226c7109",
   "metadata": {},
   "source": [
    "## 6. Równanie prostej przechodzącej przez dwa dane punkty"
   ]
  },
  {
   "cell_type": "code",
   "execution_count": null,
   "id": "9c2e5719",
   "metadata": {},
   "outputs": [],
   "source": [
    "#### a) Formalne\n",
    "```python\n",
    "# Równanie: y - y1 = ((y2 - y1)/(x2 - x1)) * (x - x1)\n",
    "from sympy import symbols, Eq"
   ]
  },
  {
   "cell_type": "code",
   "execution_count": null,
   "id": "735f4a8c",
   "metadata": {},
   "outputs": [],
   "source": [
    "x, y, x1, y1, x2, y2 = symbols('x y x1 y1 x2 y2')"
   ]
  },
  {
   "cell_type": "code",
   "execution_count": null,
   "id": "a4e662ab",
   "metadata": {},
   "outputs": [],
   "source": [
    "# Równanie prostej przez dwa punkty\n",
    "m = (y2 - y1) / (x2 - x1)\n",
    "rownanie = Eq(y - y1, m*(x - x1))\n",
    "rownanie\n",
    "```"
   ]
  },
  {
   "cell_type": "code",
   "execution_count": null,
   "id": "b3fdaa38",
   "metadata": {},
   "outputs": [],
   "source": [
    "#### b) Konkretne wartości\n",
    "```python\n",
    "# Równanie prostej przez punkty (1, 2) i (4, 6)\n",
    "x, y = symbols('x y')"
   ]
  },
  {
   "cell_type": "code",
   "execution_count": null,
   "id": "0f3d1a37",
   "metadata": {},
   "outputs": [],
   "source": [
    "# Punkty\n",
    "x1, y1 = 1, 2\n",
    "x2, y2 = 4, 6"
   ]
  },
  {
   "cell_type": "code",
   "execution_count": null,
   "id": "6671f416",
   "metadata": {},
   "outputs": [],
   "source": [
    "# Obliczenie współczynnika kierunkowego\n",
    "m = (y2 - y1) / (x2 - x1)"
   ]
  },
  {
   "cell_type": "code",
   "execution_count": null,
   "id": "9e76b065",
   "metadata": {},
   "outputs": [],
   "source": [
    "# Równanie\n",
    "rownanie = Eq(y - y1, m*(x - x1))\n",
    "rownanie\n",
    "```"
   ]
  },
  {
   "cell_type": "code",
   "execution_count": null,
   "id": "eb10a2a3",
   "metadata": {},
   "outputs": [],
   "source": [
    "#### c) Nietrywialne\n",
    "```python\n",
    "# Oblicz współrzędne punktu przecięcia dwóch prostych przechodzących przez różne pary punktów\n",
    "from sympy import solve, Eq"
   ]
  },
  {
   "cell_type": "code",
   "execution_count": null,
   "id": "849536d8",
   "metadata": {},
   "outputs": [],
   "source": [
    "x, y = symbols('x y')"
   ]
  },
  {
   "cell_type": "code",
   "execution_count": null,
   "id": "1f4fc254",
   "metadata": {},
   "outputs": [],
   "source": [
    "# Prosta 1: przez punkty (1, 2) i (3, 6)\n",
    "rownanie1 = Eq(y - 2, ((6 - 2)/(3 - 1)) * (x - 1))"
   ]
  },
  {
   "cell_type": "code",
   "execution_count": null,
   "id": "13cc38c1",
   "metadata": {},
   "outputs": [],
   "source": [
    "# Prosta 2: przez punkty (0, 0) i (2, 3)\n",
    "rownanie2 = Eq(y, (3/2) * x)"
   ]
  },
  {
   "cell_type": "code",
   "execution_count": null,
   "id": "3dbfb7b0",
   "metadata": {},
   "outputs": [],
   "source": [
    "# Znajdowanie punktu przecięcia\n",
    "punkt_przeciecia = solve((rownanie1, rownanie2), (x, y))\n",
    "punkt_przeciecia\n",
    "```"
   ]
  }
 ],
 "metadata": {
  "jupytext": {
   "cell_metadata_filter": "-all",
   "main_language": "python",
   "notebook_metadata_filter": "-all"
  },
  "language_info": {
   "name": "python"
  }
 },
 "nbformat": 4,
 "nbformat_minor": 5
}
