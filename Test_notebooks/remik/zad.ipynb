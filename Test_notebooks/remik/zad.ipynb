{
 "cells": [
  {
   "cell_type": "markdown",
   "metadata": {},
   "source": [
    "## Przykłady zadań"
   ]
  },
  {
   "cell_type": "markdown",
   "metadata": {},
   "source": [
    "Wyznacz punkty przecięcia dwóch okręgów o zadanych promieniach i środkach. \n",
    "$$x^2 + y^2 = 4$$\n",
    "$$(x-4)^2 + (y-2)^2 = 4$$"
   ]
  },
  {
   "cell_type": "code",
   "execution_count": 7,
   "metadata": {},
   "outputs": [
    {
     "ename": "ModuleNotFoundError",
     "evalue": "No module named 'sympy'",
     "output_type": "error",
     "traceback": [
      "\u001b[1;31m---------------------------------------------------------------------------\u001b[0m",
      "\u001b[1;31mModuleNotFoundError\u001b[0m                       Traceback (most recent call last)",
      "Cell \u001b[1;32mIn[7], line 1\u001b[0m\n\u001b[1;32m----> 1\u001b[0m \u001b[38;5;28;01mimport\u001b[39;00m \u001b[38;5;21;01msympy\u001b[39;00m \u001b[38;5;28;01mas\u001b[39;00m \u001b[38;5;21;01msp\u001b[39;00m\n\u001b[0;32m      2\u001b[0m \u001b[38;5;28;01mimport\u001b[39;00m \u001b[38;5;21;01mmatplotlib\u001b[39;00m\u001b[38;5;21;01m.\u001b[39;00m\u001b[38;5;21;01mpyplot\u001b[39;00m \u001b[38;5;28;01mas\u001b[39;00m \u001b[38;5;21;01mplt\u001b[39;00m\n\u001b[0;32m      4\u001b[0m \u001b[38;5;66;03m# Definiowanie symboli\u001b[39;00m\n",
      "\u001b[1;31mModuleNotFoundError\u001b[0m: No module named 'sympy'"
     ]
    }
   ],
   "source": [
    "import sympy as sp\n",
    "import matplotlib.pyplot as plt\n",
    "\n",
    "# Definiowanie symboli\n",
    "x, y = sp.symbols('x y')\n",
    "\n",
    "# Definiowanie równań\n",
    "eq1 = x**2 + y**2 - 4  # Równanie pierwszego okręgu o środku (0, 0) i promieniu 2\n",
    "eq2 = (x-4)**2 + (y-2)**2 - 4  # Równanie drugiego okręgu o środku (4, 2) i promieniu 2\n",
    "\n",
    "# Rozwiązanie układu równań\n",
    "solutions = sp.solve((eq1, eq2), (x, y))\n",
    "print(\"Rozwiązania:\", solutions)\n",
    "\n",
    "# Wyodrębnienie rozwiązań\n",
    "# Sprawdzenie, czy rozwiązania są rzeczywiste przed konwersją do float, aby uniknąć błędów\n",
    "points = [(float(sol[0]), float(sol[1])) for sol in solutions if sol[0].is_real and sol[1].is_real]\n",
    "\n",
    "# Rysowanie okręgów i punktów przecięcia\n",
    "circle1 = plt.Circle((0, 0), 2, color='blue', fill=False, label=r'$x^2 + y^2 = 4$')  # Pierwszy okrąg\n",
    "circle2 = plt.Circle((4, 2), 2, color='red', fill=False, label=r'$(x-4)^2 + (y-2)^2 = 4$')  # Drugi okrąg\n",
    "\n",
    "# Tworzenie wykresu\n",
    "fig, ax = plt.subplots()\n",
    "ax.add_artist(circle1)\n",
    "ax.add_artist(circle2)\n",
    "\n",
    "# Rysowanie punktów przecięcia\n",
    "for point in points:\n",
    "    ax.plot(point[0], point[1], 'go', label='Punkt przecięcia')  # 'go' oznacza zielony kolor i okrągły marker\n",
    "\n",
    "# Ustawienie równych proporcji na wykresie\n",
    "ax.set_aspect('equal')\n",
    "ax.set_xlim(-3, 7)\n",
    "ax.set_ylim(-3, 7)\n",
    "ax.legend(loc='best')\n",
    "plt.xlabel('x')\n",
    "plt.ylabel('y')\n",
    "plt.title('Przecięcie dwóch okręgów')\n",
    "plt.grid(True)\n",
    "plt.show()"
   ]
  },
  {
   "cell_type": "code",
   "execution_count": null,
   "metadata": {},
   "outputs": [],
   "source": []
  }
 ],
 "metadata": {
  "kernelspec": {
   "display_name": "Python 3",
   "language": "python",
   "name": "python3"
  },
  "language_info": {
   "codemirror_mode": {
    "name": "ipython",
    "version": 3
   },
   "file_extension": ".py",
   "mimetype": "text/x-python",
   "name": "python",
   "nbconvert_exporter": "python",
   "pygments_lexer": "ipython3",
   "version": "3.12.3"
  }
 },
 "nbformat": 4,
 "nbformat_minor": 2
}
