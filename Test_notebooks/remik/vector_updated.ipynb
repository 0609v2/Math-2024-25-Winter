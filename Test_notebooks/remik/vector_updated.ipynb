{
 "cells": [
  {
   "cell_type": "code",
   "execution_count": null,
   "id": "281f9dc4",
   "metadata": {
    "lines_to_next_cell": 0
   },
   "outputs": [],
   "source": []
  },
  {
   "cell_type": "markdown",
   "id": "2d5c5e24",
   "metadata": {},
   "source": [
    "Wektory"
   ]
  },
  {
   "cell_type": "markdown",
   "id": "343392d4",
   "metadata": {},
   "source": [
    "# Definicja wektorów\n",
    "Wektory są wielkościami, które posiadają zarówno wartość liczbową, jak i kierunek oraz zwrot w przestrzeni. \n",
    "Są one używane do opisu różnych wielkości fizycznych, takich jak prędkość, siła, czy natężenie pola elektrycznego. \n",
    "W przeciwieństwie do skalarów, które mają tylko wartość liczbową (np. masa, temperatura), wektory wymagają określenia kierunku.\n",
    "\n",
    "W notacji:\n",
    "- Wektor oznaczamy strzałką nad symbolem, np. \\vec{a}, lub pogrubioną czcionką, np. **a**.\n",
    "- Długość wektora można zapisać jako |\\vec{a}| lub a.\n",
    "- Wektor o długości 1 nazywa się wektorem jednostkowym (wersorem) i zapisuje się jako \\hat{a}= \\frac{\\vec{a}}{|\\vec{a}|}.\n",
    "\n",
    "**Przykład:**\n",
    "\n",
    "- Wektor \\vec{a} = (3, 4) ma długość |\\vec{a}| = 5 i odpowiadający wersor (jednostkowy wektor wzdłuż kierunku wektora \\vec{a}) wyrażony jest przez \\hat{a} = \\left(\\frac{3}{5}, \\frac{4}{5}\\right)."
   ]
  },
  {
   "cell_type": "markdown",
   "id": "7bd3ded6",
   "metadata": {},
   "source": [
    "# Długość wektora\n",
    "Długość (moduł) wektora oblicza się za pomocą wzoru Pitagorasa.\n",
    "\n",
    "**Wektory w 2D:**\n",
    "Jeśli \\vec{a} = (a_x, a_y), to długość jest dana wzorem:\n",
    "|\\vec{a}| = \\sqrt{a_x^2 + a_y^2}\n",
    "\n",
    "**Przykład:**\n",
    "Dla wektora \\vec{a} = (3, 4), długość wynosi:\n",
    "|\\vec{a}| = \\sqrt{3^2 + 4^2} = \\sqrt{9 + 16} = 5\n",
    "\n",
    "**Wektory w 3D:**\n",
    "Jeśli \\vec{a} = (a_x, a_y, a_z), to długość wektora wynosi:\n",
    "|\\vec{a}| = \\sqrt{a_x^2 + a_y^2 + a_z^2}\n",
    "\n",
    "**Przykład:**\n",
    "Dla wektora \\vec{a} = (1, 2, 2), długość wynosi:\n",
    "|\\vec{a}| = \\sqrt{1^2 + 2^2 + 2^2} = \\sqrt{1 + 4 + 4} = 3"
   ]
  },
  {
   "cell_type": "markdown",
   "id": "9a181830",
   "metadata": {},
   "source": [
    "# Rozróżnienie między wektorami i skalarami\n",
    "- **Wektory:** mają wielkość, kierunek i zwrot (np. siła, prędkość).\n",
    "- **Skalary:** mają tylko wielkość (np. masa, temperatura)."
   ]
  },
  {
   "cell_type": "markdown",
   "id": "49b48f1b",
   "metadata": {},
   "source": [
    "# Reprezentacja we współrzędnych kartezjańskich\n",
    "Wektory można reprezentować za pomocą składowych w układzie kartezjańskim.\n",
    "\n",
    "**Wektory w 2D:**\n",
    "\\vec{a} = (a_x, a_y)\n",
    "\n",
    "**Wektory w 3D:**\n",
    "\\vec{a} = (a_x, a_y, a_z)\n",
    "\n",
    "Wektory bazowe \\hat{i}, \\hat{j}, \\hat{k} odpowiadają odpowiednim osiom współrzędnych."
   ]
  },
  {
   "cell_type": "markdown",
   "id": "30d58f66",
   "metadata": {},
   "source": [
    "Implementacje w Pythonie poniżej:"
   ]
  },
  {
   "cell_type": "code",
   "execution_count": 1,
   "id": "32f427ee",
   "metadata": {
    "lines_to_next_cell": 1
   },
   "outputs": [],
   "source": [
    "import numpy as np"
   ]
  },
  {
   "cell_type": "code",
   "execution_count": 2,
   "id": "ad97e4e7",
   "metadata": {
    "lines_to_next_cell": 1
   },
   "outputs": [],
   "source": [
    "def calculate_vector_length(vector):\n",
    "    \"\"\"Oblicza długość (moduł) wektora.\"\"\"\n",
    "    return np.linalg.norm(vector)"
   ]
  },
  {
   "cell_type": "code",
   "execution_count": 3,
   "id": "89073b24",
   "metadata": {},
   "outputs": [
    {
     "name": "stdout",
     "output_type": "stream",
     "text": [
      "Długość wektora [3 4] wynosi: 5.0\n"
     ]
    }
   ],
   "source": [
    "# Przykład 1: Obliczanie długości wektora w 2D\n",
    "vector_2d = np.array([3, 4])\n",
    "length_2d = calculate_vector_length(vector_2d)\n",
    "print(f\"Długość wektora {vector_2d} wynosi: {length_2d}\")"
   ]
  },
  {
   "cell_type": "code",
   "execution_count": 4,
   "id": "bd6cbe89",
   "metadata": {
    "lines_to_next_cell": 1
   },
   "outputs": [
    {
     "name": "stdout",
     "output_type": "stream",
     "text": [
      "Długość wektora [1 2 2] wynosi: 3.0\n"
     ]
    }
   ],
   "source": [
    "# Przykład 2: Obliczanie długości wektora w 3D\n",
    "vector_3d = np.array([1, 2, 2])\n",
    "length_3d = calculate_vector_length(vector_3d)\n",
    "print(f\"Długość wektora {vector_3d} wynosi: {length_3d}\")"
   ]
  },
  {
   "cell_type": "code",
   "execution_count": 5,
   "id": "582483aa",
   "metadata": {
    "lines_to_next_cell": 1
   },
   "outputs": [],
   "source": [
    "def unit_vector(vector):\n",
    "    \"\"\"Zwraca wektor jednostkowy.\"\"\"\n",
    "    return vector / calculate_vector_length(vector)"
   ]
  },
  {
   "cell_type": "code",
   "execution_count": 6,
   "id": "8b9ed599",
   "metadata": {},
   "outputs": [
    {
     "name": "stdout",
     "output_type": "stream",
     "text": [
      "Wersor wektora [3 4] to: [0.6 0.8]\n"
     ]
    }
   ],
   "source": [
    "# Obliczanie wersora (wektora jednostkowego)\n",
    "unit_2d = unit_vector(vector_2d)\n",
    "print(f\"Wersor wektora {vector_2d} to: {unit_2d}\")"
   ]
  },
  {
   "cell_type": "code",
   "execution_count": 7,
   "id": "59ca0e9a",
   "metadata": {},
   "outputs": [],
   "source": [
    "# Operacje na wektorach\n",
    "vector_a = np.array([3, 4, 5])\n",
    "vector_b = np.array([1, 0, 2])"
   ]
  },
  {
   "cell_type": "code",
   "execution_count": 8,
   "id": "cc07065a",
   "metadata": {},
   "outputs": [
    {
     "name": "stdout",
     "output_type": "stream",
     "text": [
      "Suma wektorów [3 4 5] i [1 0 2] to: [4 4 7]\n"
     ]
    }
   ],
   "source": [
    "# Dodawanie wektorów\n",
    "sum_vectors = vector_a + vector_b\n",
    "print(f\"Suma wektorów {vector_a} i {vector_b} to: {sum_vectors}\")"
   ]
  },
  {
   "cell_type": "code",
   "execution_count": 9,
   "id": "0f46a1ec",
   "metadata": {},
   "outputs": [
    {
     "name": "stdout",
     "output_type": "stream",
     "text": [
      "Iloczyn skalarny wektorów [3 4 5] i [1 0 2] wynosi: 13\n"
     ]
    }
   ],
   "source": [
    "# Iloczyn skalarny (dot product)\n",
    "dot_product = np.dot(vector_a, vector_b)\n",
    "print(f\"Iloczyn skalarny wektorów {vector_a} i {vector_b} wynosi: {dot_product}\")"
   ]
  },
  {
   "cell_type": "code",
   "execution_count": 10,
   "id": "a1ee74a2",
   "metadata": {},
   "outputs": [
    {
     "name": "stdout",
     "output_type": "stream",
     "text": [
      "Iloczyn wektorowy wektorów [3 4 5] i [1 0 2] wynosi: [ 8 -1 -4]\n"
     ]
    }
   ],
   "source": [
    "# Iloczyn wektorowy (cross product)\n",
    "cross_product = np.cross(vector_a, vector_b)\n",
    "print(f\"Iloczyn wektorowy wektorów {vector_a} i {vector_b} wynosi: {cross_product}\")"
   ]
  }
 ],
 "metadata": {
  "jupytext": {
   "cell_metadata_filter": "-all",
   "main_language": "python",
   "notebook_metadata_filter": "-all"
  },
  "kernelspec": {
   "display_name": "Python 3",
   "language": "python",
   "name": "python3"
  },
  "language_info": {
   "codemirror_mode": {
    "name": "ipython",
    "version": 3
   },
   "file_extension": ".py",
   "mimetype": "text/x-python",
   "name": "python",
   "nbconvert_exporter": "python",
   "pygments_lexer": "ipython3",
   "version": "3.12.3"
  }
 },
 "nbformat": 4,
 "nbformat_minor": 5
}
