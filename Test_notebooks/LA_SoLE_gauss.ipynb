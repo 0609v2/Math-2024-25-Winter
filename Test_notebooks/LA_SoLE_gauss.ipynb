{
 "cells": [
  {
   "cell_type": "code",
   "execution_count": 14,
   "metadata": {},
   "outputs": [
    {
     "data": {
      "text/markdown": [
       "**Początkowa macierz:**"
      ],
      "text/plain": [
       "<IPython.core.display.Markdown object>"
      ]
     },
     "metadata": {},
     "output_type": "display_data"
    },
    {
     "data": {
      "text/markdown": [
       "| x1 | x2 | x3 | Wyraz wolny |\n",
       "| --- | --- | --- | --- |\n",
       "| 1 | 2 | 3 | 10 |\n",
       "| 4 | 5 | 6 | 11 |\n",
       "| 7 | 8 | 10 | 12 |\n"
      ],
      "text/plain": [
       "<IPython.core.display.Markdown object>"
      ]
     },
     "metadata": {},
     "output_type": "display_data"
    }
   ],
   "source": [
    "from sympy import Matrix, symbols\n",
    "from IPython.display import display, Markdown\n",
    "\n",
    "class SymbolicMatrix:\n",
    "    def __init__(self, matrix, column_labels=None, free_terms=None):\n",
    "        \"\"\"\n",
    "        Inicjalizuje macierz, z opcjonalnymi nazwami kolumn i wyrazami wolnymi.\n",
    "        \n",
    "        Parameters:\n",
    "        - matrix: Macierz główna.\n",
    "        - column_labels: Lista etykiet kolumn (opcjonalnie).\n",
    "        - free_terms: Lista wyrazów wolnych (opcjonalnie).\n",
    "        \"\"\"\n",
    "        self.matrix = Matrix(matrix)\n",
    "        self.operations = []\n",
    "        \n",
    "        # Przechowuje etykiety kolumn, jeśli dostarczono\n",
    "        if column_labels:\n",
    "            if len(column_labels) != self.matrix.cols:\n",
    "                raise ValueError(\"Liczba etykiet kolumn musi być równa liczbie kolumn w macierzy.\")\n",
    "            self.column_labels = column_labels\n",
    "        else:\n",
    "            self.column_labels = [f\"x{i+1}\" for i in range(self.matrix.cols)]\n",
    "        \n",
    "        # Przechowuje wyrazy wolne, jeśli dostarczono\n",
    "        if free_terms:\n",
    "            if len(free_terms) != self.matrix.rows:\n",
    "                raise ValueError(\"Liczba wyrazów wolnych musi być równa liczbie wierszy w macierzy.\")\n",
    "            self.free_terms = free_terms\n",
    "        else:\n",
    "            self.free_terms = [0 for _ in range(self.matrix.rows)]\n",
    "        \n",
    "        display(Markdown(\"**Początkowa macierz:**\"))\n",
    "        self.display_matrix()\n",
    "\n",
    "    def __repr__(self):\n",
    "        return repr(self.matrix)\n",
    "\n",
    "    def __str__(self):\n",
    "        return str(self.matrix)\n",
    "\n",
    "    def _repr_latex_(self):\n",
    "        return self.matrix._repr_latex_()\n",
    "\n",
    "    def _validate_row_number(self, row):\n",
    "        if not isinstance(row, int):\n",
    "            raise TypeError(\"Numer wiersza musi być liczbą całkowitą.\")\n",
    "        if row < 1 or row > self.matrix.rows:\n",
    "            raise IndexError(f\"Numer wiersza musi być w zakresie od 1 do {self.matrix.rows}.\")\n",
    "        return row - 1\n",
    "\n",
    "    def _validate_col_number(self, col):\n",
    "        if not isinstance(col, int):\n",
    "            raise TypeError(\"Numer kolumny musi być liczbą całkowitą.\")\n",
    "        if col < 1 or col > self.matrix.cols:\n",
    "            raise IndexError(f\"Numer kolumny musi być w zakresie od 1 do {self.matrix.cols}.\")\n",
    "        return col - 1\n",
    "\n",
    "    def add_row(self, target_row, source_row, coefficient):\n",
    "        target_idx = self._validate_row_number(target_row)\n",
    "        source_idx = self._validate_row_number(source_row)\n",
    "        \n",
    "        self.matrix.row_op(target_idx, lambda v, j: v + coefficient * self.matrix[source_idx, j])\n",
    "        \n",
    "        operation_str = f\"w{target_row} = w{target_row} + {coefficient}*w{source_row}\"\n",
    "        self.operations.append(operation_str)\n",
    "        display(Markdown(f\"**Operacja:** {operation_str}\"))\n",
    "        self.display_matrix()\n",
    "\n",
    "    def multiply_row(self, row, coefficient):\n",
    "        row_idx = self._validate_row_number(row)\n",
    "        \n",
    "        self.matrix.row_op(row_idx, lambda v, _: coefficient * v)\n",
    "        \n",
    "        operation_str = f\"w{row} = {coefficient}*w{row}\"\n",
    "        self.operations.append(operation_str)\n",
    "        display(Markdown(f\"**Operacja:** {operation_str}\"))\n",
    "        self.display_matrix()\n",
    "\n",
    "    def swap_rows(self, row1, row2):\n",
    "        row1_idx = self._validate_row_number(row1)\n",
    "        row2_idx = self._validate_row_number(row2)\n",
    "        \n",
    "        self.matrix.row_swap(row1_idx, row2_idx)\n",
    "        self.free_terms[row1_idx], self.free_terms[row2_idx] = self.free_terms[row2_idx], self.free_terms[row1_idx]\n",
    "        \n",
    "        operation_str = f\"Zamiana w{row1} <-> w{row2}\"\n",
    "        self.operations.append(operation_str)\n",
    "        display(Markdown(f\"**Operacja:** {operation_str}\"))\n",
    "        self.display_matrix()\n",
    "\n",
    "    def swap_columns(self, col1, col2):\n",
    "        col1_idx = self._validate_col_number(col1)\n",
    "        col2_idx = self._validate_col_number(col2)\n",
    "        \n",
    "        self.matrix.col_swap(col1_idx, col2_idx)\n",
    "        self.column_labels[col1_idx], self.column_labels[col2_idx] = self.column_labels[col2_idx], self.column_labels[col1_idx]\n",
    "        \n",
    "        operation_str = f\"Zamiana kol{col1} <-> kol{col2}\"\n",
    "        self.operations.append(operation_str)\n",
    "        display(Markdown(f\"**Operacja:** {operation_str}\"))\n",
    "        self.display_matrix()\n",
    "\n",
    "    def display_matrix(self):\n",
    "        \"\"\"Wyświetla macierz z etykietami kolumn i wyrazami wolnymi.\"\"\"\n",
    "        matrix_with_free_terms = self.matrix.row_join(Matrix(self.free_terms))\n",
    "        headers = self.column_labels + [\"Wyraz wolny\"]\n",
    "        display(Markdown(self._matrix_to_markdown(matrix_with_free_terms, headers)))\n",
    "\n",
    "    def _matrix_to_markdown(self, matrix, headers):\n",
    "        \"\"\"Konwertuje macierz do formatu Markdown z etykietami.\"\"\"\n",
    "        markdown_str = \"| \" + \" | \".join(headers) + \" |\\n\"\n",
    "        markdown_str += \"| \" + \" | \".join([\"---\"] * len(headers)) + \" |\\n\"\n",
    "        for i in range(matrix.rows):\n",
    "            row = [str(matrix[i, j]) for j in range(matrix.cols)]\n",
    "            markdown_str += \"| \" + \" | \".join(row) + \" |\\n\"\n",
    "        return markdown_str\n",
    "\n",
    "    def print_operations(self):\n",
    "        display(Markdown(\"**Wykonane operacje:**\"))\n",
    "        for op in self.operations:\n",
    "            print(op)\n",
    "\n",
    "# Przykład użycia:\n",
    "m = SymbolicMatrix([[1, 2, 3], [4, 5, 6], [7, 8, 10]], column_labels=[\"x1\", \"x2\", \"x3\"], free_terms=[10, 11, 12])\n",
    "\n"
   ]
  },
  {
   "cell_type": "code",
   "execution_count": 15,
   "metadata": {},
   "outputs": [
    {
     "data": {
      "text/markdown": [
       "**Operacja:** w2 = w2 + -4*w1"
      ],
      "text/plain": [
       "<IPython.core.display.Markdown object>"
      ]
     },
     "metadata": {},
     "output_type": "display_data"
    },
    {
     "data": {
      "text/markdown": [
       "| x1 | x2 | x3 | Wyraz wolny |\n",
       "| --- | --- | --- | --- |\n",
       "| 1 | 2 | 3 | 10 |\n",
       "| 0 | -3 | -6 | 11 |\n",
       "| 7 | 8 | 10 | 12 |\n"
      ],
      "text/plain": [
       "<IPython.core.display.Markdown object>"
      ]
     },
     "metadata": {},
     "output_type": "display_data"
    }
   ],
   "source": [
    "m.add_row(2, 1, -4)"
   ]
  },
  {
   "cell_type": "code",
   "execution_count": 16,
   "metadata": {},
   "outputs": [
    {
     "data": {
      "text/markdown": [
       "**Operacja:** w3 = w3 + -7*w1"
      ],
      "text/plain": [
       "<IPython.core.display.Markdown object>"
      ]
     },
     "metadata": {},
     "output_type": "display_data"
    },
    {
     "data": {
      "text/markdown": [
       "| x1 | x2 | x3 | Wyraz wolny |\n",
       "| --- | --- | --- | --- |\n",
       "| 1 | 2 | 3 | 10 |\n",
       "| 0 | -3 | -6 | 11 |\n",
       "| 0 | -6 | -11 | 12 |\n"
      ],
      "text/plain": [
       "<IPython.core.display.Markdown object>"
      ]
     },
     "metadata": {},
     "output_type": "display_data"
    }
   ],
   "source": [
    "m.add_row(3, 1, -7)"
   ]
  },
  {
   "cell_type": "code",
   "execution_count": 17,
   "metadata": {},
   "outputs": [
    {
     "data": {
      "text/markdown": [
       "**Operacja:** w3 = w3 + -2*w2"
      ],
      "text/plain": [
       "<IPython.core.display.Markdown object>"
      ]
     },
     "metadata": {},
     "output_type": "display_data"
    },
    {
     "data": {
      "text/markdown": [
       "| x1 | x2 | x3 | Wyraz wolny |\n",
       "| --- | --- | --- | --- |\n",
       "| 1 | 2 | 3 | 10 |\n",
       "| 0 | -3 | -6 | 11 |\n",
       "| 0 | 0 | 1 | 12 |\n"
      ],
      "text/plain": [
       "<IPython.core.display.Markdown object>"
      ]
     },
     "metadata": {},
     "output_type": "display_data"
    }
   ],
   "source": [
    "m.add_row(3, 2, -2)"
   ]
  },
  {
   "cell_type": "code",
   "execution_count": null,
   "metadata": {},
   "outputs": [],
   "source": []
  }
 ],
 "metadata": {
  "kernelspec": {
   "display_name": ".venv",
   "language": "python",
   "name": "python3"
  },
  "language_info": {
   "codemirror_mode": {
    "name": "ipython",
    "version": 3
   },
   "file_extension": ".py",
   "mimetype": "text/x-python",
   "name": "python",
   "nbconvert_exporter": "python",
   "pygments_lexer": "ipython3",
   "version": "3.11.9"
  }
 },
 "nbformat": 4,
 "nbformat_minor": 2
}
