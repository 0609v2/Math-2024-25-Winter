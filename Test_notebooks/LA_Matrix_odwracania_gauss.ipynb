{
 "cells": [
  {
   "cell_type": "code",
   "execution_count": 1,
   "metadata": {},
   "outputs": [
    {
     "data": {
      "text/markdown": [
       "**Początkowa macierz:**"
      ],
      "text/plain": [
       "<IPython.core.display.Markdown object>"
      ]
     },
     "metadata": {},
     "output_type": "display_data"
    },
    {
     "data": {
      "text/latex": [
       "$\\displaystyle \n",
       "        \\left[\\begin{matrix}2 & 1\\\\5 & 3\\end{matrix}\\right] \n",
       "        \\quad\n",
       "        \\left[\\begin{matrix}1 & 0\\\\0 & 1\\end{matrix}\\right]\n",
       "        $"
      ],
      "text/plain": [
       "<IPython.core.display.Math object>"
      ]
     },
     "metadata": {},
     "output_type": "display_data"
    }
   ],
   "source": [
    "from sympy import Matrix, Rational, latex\n",
    "from IPython.display import display, Markdown, Math, HTML\n",
    "\n",
    "class InvertibleMatrix:\n",
    "    def __init__(self, matrix):\n",
    "        \"\"\"\n",
    "        Inicjalizuje macierz do odwracania metodą Gaussa-Jordana.\n",
    "        \n",
    "        Parameters:\n",
    "        - matrix: Kwadratowa macierz, którą chcemy odwrócić.\n",
    "        \"\"\"\n",
    "        # Convert all entries to Rational numbers\n",
    "        self.matrix = Matrix(matrix).applyfunc(Rational)\n",
    "        self.operations = []\n",
    "        \n",
    "        # Sprawdza, czy macierz jest kwadratowa\n",
    "        if self.matrix.rows != self.matrix.cols:\n",
    "            raise ValueError(\"Macierz musi być kwadratowa.\")\n",
    "        \n",
    "        # Tworzy rozszerzoną macierz z macierzą jednostkową (with Rational entries)\n",
    "        identity = Matrix.eye(self.matrix.rows).applyfunc(Rational)\n",
    "        self.aug_matrix = self.matrix.row_join(identity)\n",
    "        \n",
    "        display(Markdown(\"**Początkowa macierz:**\"))\n",
    "        self.display_matrix()\n",
    "    \n",
    "    def __repr__(self):\n",
    "        return repr(self.aug_matrix)\n",
    "    \n",
    "    def __str__(self):\n",
    "        return str(self.aug_matrix)\n",
    "    \n",
    "    def _repr_latex_(self):\n",
    "        return self.aug_matrix._repr_latex_()\n",
    "    \n",
    "    def _validate_row_number(self, row):\n",
    "        if not isinstance(row, int):\n",
    "            raise TypeError(\"Numer wiersza musi być liczbą całkowitą.\")\n",
    "        if row < 1 or row > self.aug_matrix.rows:\n",
    "            raise IndexError(f\"Numer wiersza musi być w zakresie od 1 do {self.aug_matrix.rows}.\")\n",
    "        return row - 1\n",
    "    \n",
    "    def add_row(self, target_row, source_row, coefficient):\n",
    "        target_idx = self._validate_row_number(target_row)\n",
    "        source_idx = self._validate_row_number(source_row)\n",
    "        coefficient = Rational(coefficient)\n",
    "        \n",
    "        self.aug_matrix.row_op(target_idx, lambda v, j: v + coefficient * self.aug_matrix[source_idx, j])\n",
    "        \n",
    "        operation_str = f\"w{target_row} = w{target_row} + {coefficient}*w{source_row}\"\n",
    "        self.operations.append(operation_str)\n",
    "        display(Markdown(f\"**Operacja:** {operation_str}\"))\n",
    "        self.display_matrix()\n",
    "    \n",
    "    def multiply_row(self, row, coefficient):\n",
    "        row_idx = self._validate_row_number(row)\n",
    "        coefficient = Rational(coefficient)\n",
    "        \n",
    "        self.aug_matrix.row_op(row_idx, lambda v, _: coefficient * v)\n",
    "        \n",
    "        operation_str = f\"w{row} = {coefficient}*w{row}\"\n",
    "        self.operations.append(operation_str)\n",
    "        display(Markdown(f\"**Operacja:** {operation_str}\"))\n",
    "        self.display_matrix()\n",
    "    \n",
    "    def swap_rows(self, row1, row2):\n",
    "        row1_idx = self._validate_row_number(row1)\n",
    "        row2_idx = self._validate_row_number(row2)\n",
    "        \n",
    "        self.aug_matrix.row_swap(row1_idx, row2_idx)\n",
    "        \n",
    "        operation_str = f\"Zamiana w{row1} <-> w{row2}\"\n",
    "        self.operations.append(operation_str)\n",
    "        display(Markdown(f\"**Operacja:** {operation_str}\"))\n",
    "        self.display_matrix()\n",
    "    \n",
    "    def display_matrix(self):\n",
    "        \"\"\"Wyświetla lewą i prawą macierz obok siebie w formacie LaTeX.\"\"\"\n",
    "        left_matrix = self.aug_matrix[:, :self.matrix.cols]\n",
    "        right_matrix = self.aug_matrix[:, self.matrix.cols:]\n",
    "        \n",
    "        # Generowanie kodu LaTeX dla obu macierzy\n",
    "        left_latex = latex(left_matrix)\n",
    "        right_latex = latex(right_matrix)\n",
    "        \n",
    "        # Kombinacja obu macierzy w jeden wyświetlany wynik\n",
    "        combined_latex = r\"\"\"\n",
    "        %s \n",
    "        \\quad\n",
    "        %s\n",
    "        \"\"\" % (left_latex, right_latex)\n",
    "        \n",
    "        display(Math(combined_latex))\n",
    "    \n",
    "    def print_operations(self):\n",
    "        display(Markdown(\"**Wykonane operacje:**\"))\n",
    "        for op in self.operations:\n",
    "            print(op)\n",
    "    \n",
    "    def get_inverse(self):\n",
    "        \"\"\"Zwraca odwrotność macierzy po przeprowadzeniu eliminacji Gaussa-Jordana.\"\"\"\n",
    "        # Sprawdza, czy lewa część rozszerzonej macierzy jest macierzą jednostkową\n",
    "        left_matrix = self.aug_matrix[:, :self.matrix.cols]\n",
    "        if not left_matrix == Matrix.eye(self.matrix.rows):\n",
    "            raise ValueError(\"Macierz nie została zredukowana do macierzy jednostkowej. Kontynuuj operacje.\")\n",
    "        # Zwraca prawą część rozszerzonej macierzy jako odwrotność\n",
    "        inverse_matrix = self.aug_matrix[:, self.matrix.cols:]\n",
    "        display(Markdown(\"**Macierz odwrotna:**\"))\n",
    "        display(Math(latex(inverse_matrix)))\n",
    "        return inverse_matrix\n",
    "\n",
    "# Przykład użycia:\n",
    "# Tworzenie instancji klasy z macierzą do odwrócenia\n",
    "m = InvertibleMatrix([[2, 1], [5, 3]])\n"
   ]
  },
  {
   "cell_type": "code",
   "execution_count": 2,
   "metadata": {},
   "outputs": [
    {
     "data": {
      "text/markdown": [
       "**Operacja:** w2 = w2 + -5/2*w1"
      ],
      "text/plain": [
       "<IPython.core.display.Markdown object>"
      ]
     },
     "metadata": {},
     "output_type": "display_data"
    },
    {
     "data": {
      "text/latex": [
       "$\\displaystyle \n",
       "        \\left[\\begin{matrix}2 & 1\\\\0 & \\frac{1}{2}\\end{matrix}\\right] \n",
       "        \\quad\n",
       "        \\left[\\begin{matrix}1 & 0\\\\- \\frac{5}{2} & 1\\end{matrix}\\right]\n",
       "        $"
      ],
      "text/plain": [
       "<IPython.core.display.Math object>"
      ]
     },
     "metadata": {},
     "output_type": "display_data"
    }
   ],
   "source": [
    "m.add_row(2, 1, -5/2)"
   ]
  },
  {
   "cell_type": "code",
   "execution_count": 3,
   "metadata": {},
   "outputs": [
    {
     "data": {
      "text/markdown": [
       "**Operacja:** w1 = 1/2*w1"
      ],
      "text/plain": [
       "<IPython.core.display.Markdown object>"
      ]
     },
     "metadata": {},
     "output_type": "display_data"
    },
    {
     "data": {
      "text/latex": [
       "$\\displaystyle \n",
       "        \\left[\\begin{matrix}1 & \\frac{1}{2}\\\\0 & \\frac{1}{2}\\end{matrix}\\right] \n",
       "        \\quad\n",
       "        \\left[\\begin{matrix}\\frac{1}{2} & 0\\\\- \\frac{5}{2} & 1\\end{matrix}\\right]\n",
       "        $"
      ],
      "text/plain": [
       "<IPython.core.display.Math object>"
      ]
     },
     "metadata": {},
     "output_type": "display_data"
    }
   ],
   "source": [
    "m.multiply_row(1, 1/2)"
   ]
  },
  {
   "cell_type": "code",
   "execution_count": 4,
   "metadata": {},
   "outputs": [
    {
     "data": {
      "text/markdown": [
       "**Operacja:** w1 = w1 + -1*w2"
      ],
      "text/plain": [
       "<IPython.core.display.Markdown object>"
      ]
     },
     "metadata": {},
     "output_type": "display_data"
    },
    {
     "data": {
      "text/latex": [
       "$\\displaystyle \n",
       "        \\left[\\begin{matrix}1 & 0\\\\0 & \\frac{1}{2}\\end{matrix}\\right] \n",
       "        \\quad\n",
       "        \\left[\\begin{matrix}3 & -1\\\\- \\frac{5}{2} & 1\\end{matrix}\\right]\n",
       "        $"
      ],
      "text/plain": [
       "<IPython.core.display.Math object>"
      ]
     },
     "metadata": {},
     "output_type": "display_data"
    }
   ],
   "source": [
    "m.add_row(1, 2, -1)"
   ]
  },
  {
   "cell_type": "code",
   "execution_count": 5,
   "metadata": {},
   "outputs": [
    {
     "data": {
      "text/markdown": [
       "**Operacja:** w2 = 2*w2"
      ],
      "text/plain": [
       "<IPython.core.display.Markdown object>"
      ]
     },
     "metadata": {},
     "output_type": "display_data"
    },
    {
     "data": {
      "text/latex": [
       "$\\displaystyle \n",
       "        \\left[\\begin{matrix}1 & 0\\\\0 & 1\\end{matrix}\\right] \n",
       "        \\quad\n",
       "        \\left[\\begin{matrix}3 & -1\\\\-5 & 2\\end{matrix}\\right]\n",
       "        $"
      ],
      "text/plain": [
       "<IPython.core.display.Math object>"
      ]
     },
     "metadata": {},
     "output_type": "display_data"
    }
   ],
   "source": [
    "m.multiply_row(2, 2)"
   ]
  },
  {
   "cell_type": "code",
   "execution_count": 6,
   "metadata": {},
   "outputs": [
    {
     "data": {
      "text/latex": [
       "$\\displaystyle \\left[\\begin{matrix}3 & -1\\\\-5 & 2\\end{matrix}\\right]$"
      ],
      "text/plain": [
       "Matrix([\n",
       "[ 3, -1],\n",
       "[-5,  2]])"
      ]
     },
     "execution_count": 6,
     "metadata": {},
     "output_type": "execute_result"
    }
   ],
   "source": [
    "import sympy as sp\n",
    "a=sp.Matrix([[2, 1], [5, 3]])\n",
    "a.inv()"
   ]
  },
  {
   "cell_type": "code",
   "execution_count": 7,
   "metadata": {},
   "outputs": [
    {
     "data": {
      "text/plain": [
       "True"
      ]
     },
     "execution_count": 7,
     "metadata": {},
     "output_type": "execute_result"
    }
   ],
   "source": [
    "sp.Rational(1/2)==Rational(1)/2"
   ]
  },
  {
   "cell_type": "code",
   "execution_count": null,
   "metadata": {},
   "outputs": [],
   "source": []
  }
 ],
 "metadata": {
  "kernelspec": {
   "display_name": ".venv",
   "language": "python",
   "name": "python3"
  },
  "language_info": {
   "codemirror_mode": {
    "name": "ipython",
    "version": 3
   },
   "file_extension": ".py",
   "mimetype": "text/x-python",
   "name": "python",
   "nbconvert_exporter": "python",
   "pygments_lexer": "ipython3",
   "version": "3.11.9"
  }
 },
 "nbformat": 4,
 "nbformat_minor": 2
}
