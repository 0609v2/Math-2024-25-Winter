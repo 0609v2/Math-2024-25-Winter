{
 "cells": [
  {
   "cell_type": "code",
   "execution_count": 30,
   "metadata": {},
   "outputs": [
    {
     "data": {
      "text/markdown": [
       "**Początkowa macierz:**"
      ],
      "text/plain": [
       "<IPython.core.display.Markdown object>"
      ]
     },
     "metadata": {},
     "output_type": "display_data"
    },
    {
     "data": {
      "text/latex": [
       "$\\displaystyle \\left[\\begin{matrix}1 & 2 & 3\\\\4 & 5 & 6\\\\7 & 8 & 9\\end{matrix}\\right]$"
      ],
      "text/plain": [
       "Matrix([\n",
       "[1, 2, 3],\n",
       "[4, 5, 6],\n",
       "[7, 8, 9]])"
      ]
     },
     "metadata": {},
     "output_type": "display_data"
    }
   ],
   "source": [
    "from sympy import Matrix, symbols\n",
    "from IPython.display import display, Markdown\n",
    "\n",
    "class SymbolicMatrix:\n",
    "    def __init__(self, matrix):\n",
    "        self.matrix = Matrix(matrix)\n",
    "        self.operations = []\n",
    "        display(Markdown(\"**Początkowa macierz:**\"))\n",
    "        display(self.matrix)  # Wyświetla macierz po inicjalizacji\n",
    "\n",
    "    def __repr__(self):\n",
    "        return repr(self.matrix)  # Używa repr Matrix\n",
    "\n",
    "    def __str__(self):\n",
    "        return str(self.matrix)  # Używa str Matrix\n",
    "\n",
    "    def _repr_latex_(self):\n",
    "        return self.matrix._repr_latex_()  # Deleguje wyświetlanie LaTeX\n",
    "\n",
    "    def _validate_row_number(self, row):\n",
    "        \"\"\"\n",
    "        Sprawdza, czy numer wiersza jest poprawny i konwertuje go na indeks 0-based.\n",
    "        \n",
    "        Parameters:\n",
    "        - row (int): Numer wiersza zaczynający się od 1.\n",
    "        \n",
    "        Returns:\n",
    "        - int: Indeks wiersza zaczynający się od 0.\n",
    "        \n",
    "        Raises:\n",
    "        - IndexError: Jeśli numer wiersza jest poza zakresem.\n",
    "        - TypeError: Jeśli numer wiersza nie jest liczbą całkowitą.\n",
    "        \"\"\"\n",
    "        if not isinstance(row, int):\n",
    "            raise TypeError(\"Numer wiersza musi być liczbą całkowitą.\")\n",
    "        if row < 1 or row > self.matrix.rows:\n",
    "            raise IndexError(f\"Numer wiersza musi być w zakresie od 1 do {self.matrix.rows}.\")\n",
    "        return row - 1\n",
    "\n",
    "    def add_row(self, target_row, source_row, coefficient):\n",
    "        \"\"\"\n",
    "        Dodaje do wiersza target_row wiersz source_row pomnożony przez coefficient.\n",
    "        \n",
    "        Parameters:\n",
    "        - target_row (int): Numer wiersza, do którego dodajemy (1-based).\n",
    "        - source_row (int): Numer wiersza, który jest mnożony i dodawany (1-based).\n",
    "        - coefficient (sympy.Expr lub float): Współczynnik mnożenia wiersza źródłowego.\n",
    "        \"\"\"\n",
    "        # Konwersja numerów wierszy na indeksy 0-based\n",
    "        target_idx = self._validate_row_number(target_row)\n",
    "        source_idx = self._validate_row_number(source_row)\n",
    "        \n",
    "        # Wykonanie operacji\n",
    "        self.matrix.row_op(target_idx, lambda v, j: v + coefficient * self.matrix[source_idx, j])\n",
    "        \n",
    "        # Rejestracja i wyświetlenie operacji\n",
    "        operation_str = f\"w{target_row} = w{target_row} + {coefficient}*w{source_row}\"\n",
    "        self.operations.append(operation_str)\n",
    "        display(Markdown(f\"**Operacja:** {operation_str}\"))\n",
    "        display(self.matrix)  # Wyświetla macierz po operacji\n",
    "\n",
    "    def multiply_row(self, row, coefficient):\n",
    "        \"\"\"\n",
    "        Mnoży wiersz row przez coefficient.\n",
    "        \n",
    "        Parameters:\n",
    "        - row (int): Numer wiersza do mnożenia (1-based).\n",
    "        - coefficient (sympy.Expr lub float): Współczynnik mnożenia.\n",
    "        \"\"\"\n",
    "        # Konwersja numeru wiersza na indeks 0-based\n",
    "        row_idx = self._validate_row_number(row)\n",
    "        \n",
    "        # Wykonanie operacji\n",
    "        self.matrix.row_op(row_idx, lambda v, _: coefficient * v)\n",
    "        \n",
    "        # Rejestracja i wyświetlenie operacji\n",
    "        operation_str = f\"w{row} = {coefficient}*w{row}\"\n",
    "        self.operations.append(operation_str)\n",
    "        display(Markdown(f\"**Operacja:** {operation_str}\"))\n",
    "        display(self.matrix)  # Wyświetla macierz po operacji\n",
    "\n",
    "    def swap_rows(self, row1, row2):\n",
    "        \"\"\"\n",
    "        Zamienia miejscami wiersze row1 i row2.\n",
    "        \n",
    "        Parameters:\n",
    "        - row1 (int): Numer pierwszego wiersza (1-based).\n",
    "        - row2 (int): Numer drugiego wiersza (1-based).\n",
    "        \"\"\"\n",
    "        # Konwersja numerów wierszy na indeksy 0-based\n",
    "        row1_idx = self._validate_row_number(row1)\n",
    "        row2_idx = self._validate_row_number(row2)\n",
    "        \n",
    "        # Wykonanie operacji\n",
    "        self.matrix.row_swap(row1_idx, row2_idx)\n",
    "        \n",
    "        # Rejestracja i wyświetlenie operacji\n",
    "        operation_str = f\"Zamiana w{row1} <-> w{row2}\"\n",
    "        self.operations.append(operation_str)\n",
    "        display(Markdown(f\"**Operacja:** {operation_str}\"))\n",
    "        display(self.matrix)  # Wyświetla macierz po operacji\n",
    "\n",
    "    def print_operations(self):\n",
    "        \"\"\"Wypisuje wykonane operacje.\"\"\"\n",
    "        display(Markdown(\"**Wykonane operacje:**\"))\n",
    "        for op in self.operations:\n",
    "            print(op)\n",
    "\n",
    "m=SymbolicMatrix([[1,2,3],[4,5,6],[7,8,9]])\n"
   ]
  },
  {
   "cell_type": "code",
   "execution_count": 31,
   "metadata": {},
   "outputs": [
    {
     "data": {
      "text/markdown": [
       "**Operacja:** w1 = 4*w1"
      ],
      "text/plain": [
       "<IPython.core.display.Markdown object>"
      ]
     },
     "metadata": {},
     "output_type": "display_data"
    },
    {
     "data": {
      "text/latex": [
       "$\\displaystyle \\left[\\begin{matrix}4 & 8 & 12\\\\4 & 5 & 6\\\\7 & 8 & 9\\end{matrix}\\right]$"
      ],
      "text/plain": [
       "Matrix([\n",
       "[4, 8, 12],\n",
       "[4, 5,  6],\n",
       "[7, 8,  9]])"
      ]
     },
     "metadata": {},
     "output_type": "display_data"
    }
   ],
   "source": [
    "m.multiply_row(1,4)"
   ]
  },
  {
   "cell_type": "code",
   "execution_count": 32,
   "metadata": {},
   "outputs": [
    {
     "data": {
      "text/markdown": [
       "**Operacja:** w2 = w2 + -1*w1"
      ],
      "text/plain": [
       "<IPython.core.display.Markdown object>"
      ]
     },
     "metadata": {},
     "output_type": "display_data"
    },
    {
     "data": {
      "text/latex": [
       "$\\displaystyle \\left[\\begin{matrix}4 & 8 & 12\\\\0 & -3 & -6\\\\7 & 8 & 9\\end{matrix}\\right]$"
      ],
      "text/plain": [
       "Matrix([\n",
       "[4,  8, 12],\n",
       "[0, -3, -6],\n",
       "[7,  8,  9]])"
      ]
     },
     "metadata": {},
     "output_type": "display_data"
    }
   ],
   "source": [
    "m.add_row(2,1,-1)"
   ]
  },
  {
   "cell_type": "code",
   "execution_count": 33,
   "metadata": {},
   "outputs": [
    {
     "data": {
      "text/markdown": [
       "**Operacja:** w3 = w3 + -1.75*w1"
      ],
      "text/plain": [
       "<IPython.core.display.Markdown object>"
      ]
     },
     "metadata": {},
     "output_type": "display_data"
    },
    {
     "data": {
      "text/latex": [
       "$\\displaystyle \\left[\\begin{matrix}4 & 8 & 12\\\\0 & -3 & -6\\\\0 & -6.0 & -12.0\\end{matrix}\\right]$"
      ],
      "text/plain": [
       "Matrix([\n",
       "[4,    8,    12],\n",
       "[0,   -3,    -6],\n",
       "[0, -6.0, -12.0]])"
      ]
     },
     "metadata": {},
     "output_type": "display_data"
    }
   ],
   "source": [
    "m.add_row(3,1,-7/4)"
   ]
  },
  {
   "cell_type": "code",
   "execution_count": 34,
   "metadata": {},
   "outputs": [
    {
     "data": {
      "text/markdown": [
       "**Operacja:** w3 = w3 + -2*w2"
      ],
      "text/plain": [
       "<IPython.core.display.Markdown object>"
      ]
     },
     "metadata": {},
     "output_type": "display_data"
    },
    {
     "data": {
      "text/latex": [
       "$\\displaystyle \\left[\\begin{matrix}4 & 8 & 12\\\\0 & -3 & -6\\\\0 & 0 & 0\\end{matrix}\\right]$"
      ],
      "text/plain": [
       "Matrix([\n",
       "[4,  8, 12],\n",
       "[0, -3, -6],\n",
       "[0,  0,  0]])"
      ]
     },
     "metadata": {},
     "output_type": "display_data"
    }
   ],
   "source": [
    "m.add_row(3,2,-2)"
   ]
  },
  {
   "cell_type": "code",
   "execution_count": null,
   "metadata": {},
   "outputs": [],
   "source": []
  }
 ],
 "metadata": {
  "kernelspec": {
   "display_name": ".venv",
   "language": "python",
   "name": "python3"
  },
  "language_info": {
   "codemirror_mode": {
    "name": "ipython",
    "version": 3
   },
   "file_extension": ".py",
   "mimetype": "text/x-python",
   "name": "python",
   "nbconvert_exporter": "python",
   "pygments_lexer": "ipython3",
   "version": "3.11.9"
  }
 },
 "nbformat": 4,
 "nbformat_minor": 2
}
