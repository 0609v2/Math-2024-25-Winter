{
 "cells": [
  {
   "cell_type": "markdown",
   "metadata": {},
   "source": [
    "# Wektory\n",
    "\n",
    "**Wektory** są wielkościami, które posiadają zarówno wartość liczbową, jak i kierunek oraz zwrot w przestrzeni. \n",
    "Są one używane do opisu różnych wielkości fizycznych, takich jak prędkość, siła, czy natężenie pola elektrycznego. \n",
    "W przeciwieństwie do skalarów, które mają tylko wartość liczbową (np. masa, temperatura), wektory wymagają określenia kierunku.\n",
    "\n",
    "Wektor oznaczamy strzałką nad symbolem $\\vec{a}$ lub pogrubioną czcionką $\\mathbf{a}$.\n",
    "- Długość wektora można zapisać jako $|\\vec{a}|$ lub $a$.\n",
    "- Wektor o długości 1 nazywa się wektorem jednostkowym (wersorem) i zapisuje się jako $\\hat{\\mathbf{a}}= \\frac{\\vec{a}}{|\\vec{a}|}$.\n",
    "\n",
    "**Przykład:**\n",
    "\n",
    "Wektor $\\mathbf{a}= [3, 4]$ ma długość $a = 5$ i odpowiadający wersor (jednostkowy wektor wzdłuż kierunku wektora $\\mathbf{a}$) wyrażony jest przez $\\hat{\\mathbf{a}} = \\left[\\frac{3}{5}, \\frac{4}{5}\\right]$.\n",
    "\n",
    "**Wektory w 2D:**\n",
    "\n",
    "Jeśli $\\mathbf{a} = [a_x, a_y]$, to długość jest dana wzorem $|\\mathbf{a}| = a = \\sqrt{a_x^2 + a_y^2}$\n",
    "\n",
    "**Wektory w 3D:**\n",
    "\n",
    "Jeśli $\\mathbf{a} = [a_x, a_y, a_z]$, to długość wektora wynosi $|\\mathbf{a}| = a = \\sqrt{a_x^2 + a_y^2 + a_z^2}$."
   ]
  },
  {
   "cell_type": "markdown",
   "metadata": {},
   "source": [
    "### Układy współrzędnych na płaszczyźnie i w przestrzeni\n",
    "\n",
    "**Układ współrzędnych kartezjańskich** jest podstawowym układem współrzędnych, w którym punkty w przestrzeni są określane przez ich odległości od ustalonych osi: $x$, $y$ (dla 2D) i $z$ (dla 3D). \n",
    "\n",
    "- W 2D, każdy punkt można zapisać jako $(x, y)$.\n",
    "- W 3D, punkty mają postać $(x, y, z)$.\n",
    "\n",
    "**Układ biegunowy** jest używany w 2D i definiuje punkt poprzez odległość od punktu początkowego (r) oraz kąt (θ) względem osi odniesienia.\n",
    "\n",
    "**Układ sferyczny** jest używany w 3D i definiuje punkt poprzez odległość od punktu początkowego (r), kąt azymutu (θ) i kąt elewacji (φ).\n",
    "\n",
    "Wektory można reprezentować za pomocą składowych w układzie kartezjańskim, gdzie każda składowa odpowiada odległości punktu od odpowiedniej osi współrzędnych.\n",
    "\n",
    "- Dla wektora w przestrzeni dwuwymiarowej: $\\mathbf{a} = [a_x, a_y]= a_x\\hat{\\mathbf{i}} + a_y\\hat{\\mathbf{j}}$\n",
    "- Dla wektora w przestrzeni trójwymiarowej:$\\mathbf{a} = [a_x, a_y, a_z] = a_x\\hat{\\mathbf{i}} + a_y\\hat{\\mathbf{j}} + a_z\\hat{\\mathbf{k}}$\n",
    "\n",
    "### Baza\n",
    "\n",
    "**Baza** wektorów to zbiór wektorów, które rozpięcie tworzy przestrzeń wektorową. W przestrzeni kartezjańskiej standardową bazą są wektory $\\hat{\\mathbf{i}}, \\hat{\\mathbf{j}}, \\hat{\\mathbf{k}}$.\n",
    "\n",
    "Dla 2D:\n",
    "\n",
    "$$\n",
    "\\hat{\\mathbf{i}} = [1, 0], \\quad \\hat{\\mathbf{j}} = [0, 1]\n",
    "$$\n",
    "\n",
    "Dla 3D:\n",
    "\n",
    "$$\n",
    "\\hat{\\mathbf{i}} = [1, 0, 0], \\quad \\hat{\\mathbf{j}} = [0, 1, 0], \\quad \\hat{\\mathbf{k}} = [0, 0, 1]\n",
    "$$\n",
    "\n",
    "Tak zdefiniowane wektory bazowe są jednostkowe i prostopadłe do siebie.\n",
    "\n",
    "### Znajdowanie współrzędnych wektora w nowej bazie\n",
    "\n",
    "Aby znaleźć współrzędne wektora $\\mathbf{v}$ w nowej bazie $\\{\\mathbf{b_1}, \\mathbf{b_2}, \\mathbf{b_3}\\}$, należy wyrazić $\\mathbf{v}$ jako kombinację liniową wektorów bazy.\n",
    "\n",
    "$$\n",
    "\\mathbf{v} = c_1 \\mathbf{b_1} + c_2 \\mathbf{b_2} + c_3 \\mathbf{b_3}\n",
    "$$\n",
    "\n",
    "Współczynniki $c_1, c_2, c_3$ są współrzędnymi wektora $\\mathbf{v}$ w nowej bazie."
   ]
  },
  {
   "cell_type": "markdown",
   "metadata": {},
   "source": [
    "### Rzutowanie wektora na oś\n",
    "\n",
    "Rzutowanie wektora $\\mathbf{a}$ na oś $\\mathbf{b}$ polega na znalezieniu składowej wektora $\\mathbf{a}$ wzdłuż kierunku $\\mathbf{b}$. \n",
    "\n",
    "Rzut $\\mathbf{a}$ na $\\mathbf{b}$:\n",
    "\n",
    "$$\n",
    "\\text{Proj}_{\\mathbf{b}} \\mathbf{a} = \\frac{\\mathbf{a} \\cdot \\mathbf{b}}{|\\mathbf{b}|^2} \\mathbf{b}\n",
    "$$\n",
    "\n",
    "### Dzielenie odcinka w określonym stosunku\n",
    "\n",
    "Odcinek jest zdefiniowany przez dwa punkty w przestrzeni. Odcinki i wektory są ściśle powiązane, ponieważ odcinek łączący dwa punkty można traktować jako wektor skierowany od jednego punktu do drugiego.\n",
    "\n",
    "Odcinek łączący punkty $A(x_1, y_1)$ i $B(x_2, y_2)$ można podzielić w określonym stosunku $m:n$.\n",
    "\n",
    "Jeśli punkt $P$ dzieli odcinek łączący punkty $A(x_1, y_1)$ i $B(x_2, y_2)$ w stosunku $m:n$, to współrzędne punktu $P$ można znaleźć z wzoru:\n",
    "\n",
    "$$\n",
    "P = \\left(\\frac{mx_2 + nx_1}{m+n}, \\frac{my_2 + ny_1}{m+n}\\right)\n",
    "$$\n",
    "\n",
    "\n"
   ]
  },
  {
   "cell_type": "markdown",
   "metadata": {},
   "source": [
    "---\n",
    "## Zadania dla studentów\n",
    "\n",
    "- Długość\n",
    "- Wersor\n",
    "- Zmiana bazy"
   ]
  },
  {
   "cell_type": "markdown",
   "metadata": {},
   "source": []
  }
 ],
 "metadata": {
  "language_info": {
   "name": "python"
  }
 },
 "nbformat": 4,
 "nbformat_minor": 2
}
