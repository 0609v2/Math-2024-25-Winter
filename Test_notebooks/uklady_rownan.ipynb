{
 "cells": [
  {
   "cell_type": "code",
   "execution_count": 6,
   "metadata": {},
   "outputs": [],
   "source": [
    "from sympy import symbols, Eq, expand, solve\n",
    "\n",
    "class SymbolicEquation:\n",
    "    def __init__(self, lhs, rhs):\n",
    "        self.equation = Eq(lhs, rhs)\n",
    "\n",
    "    def __repr__(self):\n",
    "        return str(self.equation)\n",
    "\n",
    "    def __add__(self, other):\n",
    "        return SymbolicEquation(self.equation.lhs + other.equation.lhs, \n",
    "                                self.equation.rhs + other.equation.rhs)\n",
    "\n",
    "    def __sub__(self, other):\n",
    "        return SymbolicEquation(self.equation.lhs - other.equation.lhs, \n",
    "                                self.equation.rhs - other.equation.rhs)\n",
    "\n",
    "    def __mul__(self, scalar):\n",
    "        return SymbolicEquation(scalar * self.equation.lhs, \n",
    "                                scalar * self.equation.rhs)\n",
    "\n",
    "    def __rmul__(self, scalar):\n",
    "        return self.__mul__(scalar)\n",
    "\n",
    "    def simplify(self):\n",
    "        return SymbolicEquation(expand(self.equation.lhs), \n",
    "                                expand(self.equation.rhs))\n",
    "\n",
    "    def substitute(self, symbol, value):\n",
    "        return SymbolicEquation(self.equation.lhs.subs(symbol, value), \n",
    "                                self.equation.rhs.subs(symbol, value))\n",
    "\n",
    "    def solve_for(self, symbol):\n",
    "        return solve(self.equation, symbol)"
   ]
  },
  {
   "cell_type": "code",
   "execution_count": 29,
   "metadata": {},
   "outputs": [
    {
     "name": "stdout",
     "output_type": "stream",
     "text": [
      "Początkowy układ równań:\n",
      "Eq(2*x + y, 5)\n",
      "Eq(x - y, 1)\n"
     ]
    }
   ],
   "source": [
    "from sympy import symbols, Eq, expand, solve\n",
    "\n",
    "class EnhancedEq(Eq):\n",
    "    def __add__(self, other):\n",
    "        return EnhancedEq(self.lhs + other.lhs, self.rhs + other.rhs)\n",
    "\n",
    "    def __sub__(self, other):\n",
    "        return EnhancedEq(self.lhs - other.lhs, self.rhs - other.rhs)\n",
    "\n",
    "    def __mul__(self, scalar):\n",
    "        return EnhancedEq(scalar * self.lhs, scalar * self.rhs)\n",
    "\n",
    "    def __rmul__(self, scalar):\n",
    "        return self.__mul__(scalar)\n",
    "\n",
    "    def simplify(self):\n",
    "        return EnhancedEq(expand(self.lhs), expand(self.rhs))\n",
    "\n",
    "    def substitute(self, *args, **kwargs):\n",
    "        return EnhancedEq(self.lhs.subs(*args, **kwargs), self.rhs.subs(*args, **kwargs))\n",
    "\n",
    "    def solve_for(self, symbol):\n",
    "        return solve(self, symbol)\n",
    "\n",
    "# Przykład użycia:\n",
    "x, y = symbols('x y')\n",
    "\n",
    "eq1 = EnhancedEq(2*x + y, 5)\n",
    "eq2 = EnhancedEq(x - y, 1)\n",
    "\n",
    "print(\"Początkowy układ równań:\")\n",
    "print(eq1)\n",
    "print(eq2)"
   ]
  },
  {
   "cell_type": "code",
   "execution_count": 30,
   "metadata": {},
   "outputs": [
    {
     "data": {
      "text/latex": [
       "$\\displaystyle 3 x = 6$"
      ],
      "text/plain": [
       "Eq(3*x, 6)"
      ]
     },
     "execution_count": 30,
     "metadata": {},
     "output_type": "execute_result"
    }
   ],
   "source": [
    "eq1=eq1+eq2\n",
    "eq1"
   ]
  },
  {
   "cell_type": "code",
   "execution_count": 31,
   "metadata": {},
   "outputs": [
    {
     "data": {
      "text/latex": [
       "$\\displaystyle 2$"
      ],
      "text/plain": [
       "2"
      ]
     },
     "execution_count": 31,
     "metadata": {},
     "output_type": "execute_result"
    }
   ],
   "source": [
    "xx=eq1.solve_for(x)[0]\n",
    "xx"
   ]
  },
  {
   "cell_type": "code",
   "execution_count": 32,
   "metadata": {},
   "outputs": [
    {
     "data": {
      "text/latex": [
       "$\\displaystyle 2 - y = 1$"
      ],
      "text/plain": [
       "Eq(2 - y, 1)"
      ]
     },
     "execution_count": 32,
     "metadata": {},
     "output_type": "execute_result"
    }
   ],
   "source": [
    "eq2=eq2.substitute(x,xx)\n",
    "eq2"
   ]
  },
  {
   "cell_type": "code",
   "execution_count": 34,
   "metadata": {},
   "outputs": [
    {
     "data": {
      "text/latex": [
       "$\\displaystyle 1$"
      ],
      "text/plain": [
       "1"
      ]
     },
     "execution_count": 34,
     "metadata": {},
     "output_type": "execute_result"
    }
   ],
   "source": [
    "eq2.solve_for(y)[0]"
   ]
  },
  {
   "cell_type": "code",
   "execution_count": null,
   "metadata": {},
   "outputs": [],
   "source": []
  }
 ],
 "metadata": {
  "kernelspec": {
   "display_name": ".venv",
   "language": "python",
   "name": "python3"
  },
  "language_info": {
   "codemirror_mode": {
    "name": "ipython",
    "version": 3
   },
   "file_extension": ".py",
   "mimetype": "text/x-python",
   "name": "python",
   "nbconvert_exporter": "python",
   "pygments_lexer": "ipython3",
   "version": "3.11.9"
  }
 },
 "nbformat": 4,
 "nbformat_minor": 2
}
