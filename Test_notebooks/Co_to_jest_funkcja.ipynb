{
 "cells": [
  {
   "cell_type": "markdown",
   "metadata": {},
   "source": [
    "## Definicja funkcji\n",
    "\n",
    "**Teoriomnogościowa definicja funkcji** mówi, że funkcja $f$ jest specjalnym przypadkiem relacji. Relacja to po prostu dowolny zbiór par uporządkowanych. Funkcja natomiast jest taką relacją $f \\subseteq X \\times Y$, która spełnia dodatkowe założenie: każdemu elementowi $x \\in X$ przyporządkowany jest **dokładnie jeden** element $y \\in Y$.\n",
    "\n",
    "Formalnie, funkcja $f$ to relacja, która spełnia następujący warunek:\n",
    "\n",
    "$$\n",
    "\\forall x_1, x_2 \\in X, \\, \\forall y_1, y_2 \\in Y \\, \\left( (x_1, y_1) \\in f \\land (x_1, y_2) \\in f \\Rightarrow y_1 = y_2 \\right)\n",
    "$$\n",
    "\n",
    "Oznacza to, że jeśli dla tego samego $x_1$ mamy dwie pary $(x_1, y_1)$ i $(x_1, y_2)$, to $y_1$ musi być równe $y_2$. Innymi słowy, żaden element z $X$ nie może być powiązany z więcej niż jednym elementem z $Y$.\n",
    "\n",
    "### Ważne punkty:\n",
    "1. **Relacja** w teorii mnogości to po prostu zbiór par uporządkowanych $(x, y)$, gdzie $x$ pochodzi ze zbioru $X$, a $y$ ze zbioru $Y$.\n",
    "2. **Funkcja** to relacja, która dodatkowo spełnia warunek, że dla każdego $x$ istnieje dokładnie jedna para $(x, y)$ w tej relacji.\n",
    "\n",
    "Zatem funkcja $f \\subseteq X \\times Y$ jest relacją, która ma to specjalne własnościowe ograniczenie: jednoznacznie przyporządkowuje elementy z $X$ do elementów z $Y$.\n"
   ]
  },
  {
   "cell_type": "markdown",
   "metadata": {},
   "source": [
    "### Przyklady\n",
    "\n",
    "#### Przykład 1\n",
    "\n",
    "$$\n",
    "f=\\{(\\text{pies}, \\text{dog}), (\\text{kot}, \\text{cat}), (\\text{koń}, \\text{horse})\\}\n",
    "$$\n",
    "\n",
    "#### Przykład 2\n",
    "\n",
    "$$\n",
    "f=\\{(1,2), (2,3), (3,4)\\}\n",
    "$$\n",
    "\n",
    "Co oznacza, że $f(1)=2$, $f(2)=3$ i $f(3)=4$.\n",
    "\n",
    "#### Przykład 3\n",
    "\n",
    "$$\n",
    "f=\\{(1,1),(2,1/2),(3,1/3),...\\}=\\{(n,1/n): n \\in \\mathbb{N}\\}\n",
    "$$\n",
    "\n",
    "gdzie $\\mathbb{N}$ oznacza zbiór liczb naturalnych. Funkcja ta przyporządkowuje każdemu $n$ liczbę $1/n$.\n",
    "\n",
    "Często skracamy zapis ciągów takich jak ten do postaci $f(n)=1/n$.\n",
    "\n",
    "#### Przykład 4\n",
    "\n",
    "Funkcja kwadratowa często zapisywana jako $f(x)=x^2$ to funkcja, która każdemu $x$ przyporządkowuje $x^2$. W naszej notacji zapisujemy to jako \n",
    "\n",
    "$$\n",
    "f=\\{(x,x^2): x \\in \\mathbb{R}\\}\n",
    "$$\n",
    "\n",
    "#### Przykład 5\n",
    "\n",
    "Wyznacznik macierzy to funkcja, która każdej macierzy przyporządkowuje liczbę. W naszej notacji zapisujemy to jako\n",
    "\n",
    "$$\n",
    "f=\\{(M,det(M)): M \\text{ jest macierzą kwadratową}\\}\n",
    "$$\n",
    "\n",
    "### Przykład 6\n",
    "\n",
    "Sama macierz jest też funkcją, która każdej parze indeksów $(i,j)$ gdzie $i,j \\in \\{1,2,...,n\\}$ przyporządkowuje element macierzy na pozycji $(i,j)$. W naszej notacji zapisujemy to jako\n",
    "\n",
    "$$\n",
    "M=\\{((i,j),M_{ij}): i,j \\in \\{1,2,...,n\\}\\}\n",
    "$$\n",
    "\n",
    "dla wygody zapisujemy to jako tablicę dwuwymiarową:\n",
    "\n",
    "$$\n",
    "M=\\begin{bmatrix}\n",
    "M_{11} & M_{12} & \\cdots & M_{1n} \\\\\n",
    "M_{21} & M_{22} & \\cdots & M_{2n} \\\\\n",
    "\\vdots & \\vdots & \\ddots & \\vdots \\\\\n",
    "M_{n1} & M_{n2} & \\cdots & M_{nn}\n",
    "\\end{bmatrix}\n",
    "$$\n",
    "\n",
    "### Przykład 7\n",
    "\n",
    "Dodawanie macierzy to funkcja, która każdej parze macierzy przyporządkowuje macierz. W naszej notacji zapisujemy to jako\n",
    "\n",
    "$$\n",
    "f=\\{((A,B),A+B): A,B \\text{ są macierzami o takich samych wymiarach}\\}\n",
    "$$\n",
    "\n",
    "gdzie $A+B$ to macierz, której elementy są sumą elementów macierzy $A$ i $B$, czyli dla każdego $i,j$ mamy \n",
    "$$\n",
    "(A+B)_{ij}=A_{ij}+B_{ij}\n",
    "$$\n",
    "\n",
    "\n",
    "\n"
   ]
  },
  {
   "cell_type": "markdown",
   "metadata": {},
   "source": [
    "### Przykład 8\n",
    "\n",
    "Słownik w pythonie to też funkcja, która każdemu kluczowi przyporządkowuje wartość. W naszej notacji zapisujemy to jako:"
   ]
  },
  {
   "cell_type": "code",
   "execution_count": 15,
   "metadata": {},
   "outputs": [],
   "source": [
    "f={1:1,2:4,3:9,4:16,5:25}"
   ]
  },
  {
   "cell_type": "code",
   "execution_count": 16,
   "metadata": {},
   "outputs": [
    {
     "name": "stdout",
     "output_type": "stream",
     "text": [
      "Wartość dla klucza 1: f[1] = 1\n",
      "Wartość dla klucza 2: f[2] = 4\n",
      "Wartość dla klucza 3: f[3] = 9\n"
     ]
    }
   ],
   "source": [
    "# Odpytujemy słownik o wartości dla kluczy 1, 2, 3 podobnie jak zapisujemy to w matematyce!!!\n",
    "print(f\"Wartość dla klucza 1: f[1] = {f[1]}\")\n",
    "print(f\"Wartość dla klucza 2: f[2] = {f[2]}\")\n",
    "print(f\"Wartość dla klucza 3: f[3] = {f[3]}\")"
   ]
  },
  {
   "cell_type": "code",
   "execution_count": 17,
   "metadata": {},
   "outputs": [
    {
     "name": "stdout",
     "output_type": "stream",
     "text": [
      "Kod koloru czerwonego: #FF0000\n",
      "Kod koloru zielonego: #00FF00\n",
      "Kod koloru niebieskiego: #0000FF\n"
     ]
    }
   ],
   "source": [
    "# Przyklad kodowania kolorów w postaci słownika\n",
    "color_codes = {\"red\": \"#FF0000\", \"green\": \"#00FF00\", \"blue\": \"#0000FF\"}\n",
    "print(f\"Kod koloru czerwonego: {color_codes['red']}\")\n",
    "print(f\"Kod koloru zielonego: {color_codes['green']}\")\n",
    "print(f\"Kod koloru niebieskiego: {color_codes['blue']}\")"
   ]
  },
  {
   "cell_type": "markdown",
   "metadata": {},
   "source": [
    "### Przyklad 9\n",
    "\n",
    "Sposób na zapisanie funkcji w pythonie jesy bardzo naturalny. \n",
    "Potrzebujemy:\n",
    "\n",
    "* nadać jej nazwę\n",
    "* zdefiniować argumenty\n",
    "* określić operacje, które ma wykonać\n",
    "* zwrócić wynik\n",
    "    \n",
    "    ```python\n",
    "    def nazwa_funckji(argumenty):\n",
    "        \"coś robimy z argumentami\"\n",
    "        return wynik\n",
    "    ```"
   ]
  },
  {
   "cell_type": "code",
   "execution_count": 18,
   "metadata": {},
   "outputs": [
    {
     "name": "stdout",
     "output_type": "stream",
     "text": [
      "Wartość dla argumentu 1: f(1) = 1\n",
      "Wartość dla argumentu 2: f(2) = 4\n",
      "Wartość dla argumentu 3: f(3) = 9\n"
     ]
    }
   ],
   "source": [
    "# Funkcja kwadratowa\n",
    "\n",
    "def f(x):\n",
    "    return x**2\n",
    "\n",
    "# równoważnie jako lambda\n",
    "\n",
    "f = lambda x: x**2\n",
    "\n",
    "# Odpytujemy funkcję o wartości dla argumentów 1, 2, 3 podobnie jak zapisujemy to w matematyce!!!\n",
    "print(f\"Wartość dla argumentu 1: f(1) = {f(1)}\")\n",
    "print(f\"Wartość dla argumentu 2: f(2) = {f(2)}\")\n",
    "print(f\"Wartość dla argumentu 3: f(3) = {f(3)}\")"
   ]
  },
  {
   "cell_type": "code",
   "execution_count": 19,
   "metadata": {},
   "outputs": [
    {
     "data": {
      "text/latex": [
       "$\\displaystyle Pochodna\\ funkcji\\ x^{2}\\ jest\\ równa\\ 2 x$"
      ],
      "text/plain": [
       "<IPython.core.display.Math object>"
      ]
     },
     "metadata": {},
     "output_type": "display_data"
    },
    {
     "data": {
      "text/latex": [
       "$\\displaystyle Pochodna\\ funkcji\\ \\sin{\\left(x^{3} \\right)}\\ jest\\ równa\\ 3 x^{2} \\cos{\\left(x^{3} \\right)}$"
      ],
      "text/plain": [
       "<IPython.core.display.Math object>"
      ]
     },
     "metadata": {},
     "output_type": "display_data"
    },
    {
     "data": {
      "text/latex": [
       "$\\displaystyle Pochodna\\ funkcji\\ e^{\\sin{\\left(x \\right)}}\\ jest\\ równa\\ e^{\\sin{\\left(x \\right)}} \\cos{\\left(x \\right)}$"
      ],
      "text/plain": [
       "<IPython.core.display.Math object>"
      ]
     },
     "metadata": {},
     "output_type": "display_data"
    },
    {
     "data": {
      "text/latex": [
       "$\\displaystyle Pochodna\\ funkcji\\ \\log{\\left(x^{2} + 1 \\right)}\\ jest\\ równa\\ \\frac{2 x}{x^{2} + 1}$"
      ],
      "text/plain": [
       "<IPython.core.display.Math object>"
      ]
     },
     "metadata": {},
     "output_type": "display_data"
    }
   ],
   "source": [
    "# Rożniczka\n",
    "import sympy as sp  # potrzebujemy biblioteki sympy\n",
    "from IPython.display import display, Math  # do wyświetlania wyników jako LaTeX\n",
    "\n",
    "x = sp.symbols('x')  # definiujemy zmienną x\n",
    "\n",
    "def policz_pochodna(f):\n",
    "    return sp.diff(f, x)\n",
    "\n",
    "# definiujemy kilka funkcji do policzenia pochodnej\n",
    "lista_funkcji = [x**2, sp.sin(x**3), sp.exp(sp.sin(x)), sp.log(x**2 + 1)]\n",
    "\n",
    "# policzmy pochodne dla każdej z funkcji z listy\n",
    "for f in lista_funkcji:\n",
    "    # Wyświetlamy wynik jako LaTeX\n",
    "    display(Math(r'Pochodna\\ funkcji\\ {}\\ jest\\ równa\\ {}'.format(sp.latex(f), sp.latex(policz_pochodna(f)))))\n"
   ]
  },
  {
   "cell_type": "code",
   "execution_count": null,
   "metadata": {},
   "outputs": [],
   "source": []
  }
 ],
 "metadata": {
  "kernelspec": {
   "display_name": ".venv",
   "language": "python",
   "name": "python3"
  },
  "language_info": {
   "codemirror_mode": {
    "name": "ipython",
    "version": 3
   },
   "file_extension": ".py",
   "mimetype": "text/x-python",
   "name": "python",
   "nbconvert_exporter": "python",
   "pygments_lexer": "ipython3",
   "version": "3.11.9"
  }
 },
 "nbformat": 4,
 "nbformat_minor": 2
}
