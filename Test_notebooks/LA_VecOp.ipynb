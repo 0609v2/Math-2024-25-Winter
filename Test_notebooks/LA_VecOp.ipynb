{
 "cells": [
  {
   "cell_type": "markdown",
   "metadata": {},
   "source": [
    "# Operacje na wektorach"
   ]
  },
  {
   "cell_type": "markdown",
   "metadata": {},
   "source": [
    "## Dodawanie wektorów\n",
    "\n",
    "Dodawanie wektorów polega na dodaniu współrzędnych wektorów o takiej samej długości.\n",
    "\n",
    "Dla dwóch wektorów $ \\mathbf{a} $ i $ \\mathbf{b} $ w przestrzeni $ \\mathbb{R}^n $, gdzie:\n",
    "\n",
    "$$ \\mathbf{a} = [a_1, a_2, \\dots, a_n], \\quad \\mathbf{b} = [b_1, b_2, \\dots, b_n] $$\n",
    "\n",
    "Dodawanie wektorów definiuje się następująco:\n",
    "\n",
    "$$ \\mathbf{a} + \\mathbf{b} = [a_1 + b_1, a_2 + b_2, \\dots, a_n + b_n] $$\n",
    "\n",
    "Odejmowanie wektorów jest analogiczne do dodawania wektorów, z tą różnicą, że od każdej współrzędnej wektora $\\mathbf{a}$ odejmujemy współrzędną wektora $\\mathbf{b}$.\n",
    "\n",
    "## Mnożenie wektora przez skalar\n",
    "\n",
    "Mnożenie wektora przez skalar polega na pomnożeniu każdej współrzędnej wektora przez tę samą liczbę.\n",
    "\n",
    "Dla wektora $ \\mathbf{a} $ i skalaru $ k $:\n",
    "\n",
    "$$ k \\mathbf{a} = [k a_1, k a_2, \\dots, k a_n] $$"
   ]
  },
  {
   "cell_type": "markdown",
   "metadata": {},
   "source": [
    "\n",
    "## Iloczyn skalarny\n",
    "\n",
    "Iloczyn skalarny (zwany również iloczynem wewnętrznym) dwóch wektorów to operacja, która zwraca skalarną wartość. Jest definiowany jako suma iloczynów odpowiadających sobie współrzędnych dwóch wektorów.\n",
    "\n",
    "Dla dwóch wektorów $ \\mathbf{a} $ i $ \\mathbf{b} $ w przestrzeni $ \\mathbb{R}^n $, gdzie:\n",
    "\n",
    "$$ \\mathbf{a} = [a_1, a_2, \\dots, a_n], \\quad \\mathbf{b} = [b_1, b_2, \\dots, b_n] $$\n",
    "\n",
    "Iloczyn skalarny definiuje się następująco:\n",
    "\n",
    "$$ \\mathbf{a} \\cdot \\mathbf{b} = a_1b_1 + a_2b_2 + \\dots + a_nb_n = \\sum_{i=1}^{n} a_i b_i $$\n",
    "\n",
    "Przykład dla przestrzeni trójwymiarowej ($ \\mathbb{R}^3 $):\n",
    "\n",
    "Dla wektorów $ \\mathbf{a} = [a_1, a_2, a_3] $ oraz $ \\mathbf{b} = [b_1, b_2, b_3] $, iloczyn skalarny to:\n",
    "\n",
    "$$ \\mathbf{a} \\cdot \\mathbf{b} = a_1b_1 + a_2b_2 + a_3b_3 $$\n",
    "\n",
    "Iloczyn skalarny zwraca liczbę, która jest miarą \"podobieństwa kierunku\" dwóch wektorów. Jeśli $ \\mathbf{a} \\cdot \\mathbf{b} = 0 $, to wektory są prostopadłe."
   ]
  },
  {
   "cell_type": "markdown",
   "metadata": {},
   "source": [
    "## Iloczyn wektorowy\n",
    "\n",
    "Iloczyn wektorowy (zwany również iloczynem zewnętrznym) to operacja, która zwraca nowy wektor prostopadły do dwóch wektorów wyjściowych. Jest zdefiniowany tylko w przestrzeni trójwymiarowej $ \\mathbb{R}^3 $.\n",
    "\n",
    "Dla dwóch wektorów $ \\mathbf{a} = [a_1, a_2, a_3] $ oraz $ \\mathbf{b} = [b_1, b_2, b_3] $, iloczyn wektorowy $ \\mathbf{a} \\times \\mathbf{b} $ definiuje się jako:\n",
    "\n",
    "$$ \\mathbf{a} \\times \\mathbf{b} =\n",
    "\\begin{vmatrix}\n",
    "\\mathbf{i} & \\mathbf{j} & \\mathbf{k} \\\\\n",
    "a_1 & a_2 & a_3 \\\\\n",
    "b_1 & b_2 & b_3\n",
    "\\end{vmatrix}\n",
    "$$\n",
    "\n",
    "Gdzie $ \\mathbf{i}, \\mathbf{j}, \\mathbf{k} $ to wektory jednostkowe wzdłuż osi $ x, y, z $.\n",
    "\n",
    "Iloczyn wektorowy można zapisać w postaci rozwiniętej:\n",
    "\n",
    "$$ \\mathbf{a} \\times \\mathbf{b} = \\left( a_2b_3 - a_3b_2 \\right)\\mathbf{i} - \\left( a_1b_3 - a_3b_1 \\right)\\mathbf{j} + \\left( a_1b_2 - a_2b_1 \\right)\\mathbf{k} $$\n",
    "\n",
    "Wynikiem iloczynu wektorowego jest nowy wektor:\n",
    "\n",
    "$$ \\mathbf{c} = \\mathbf{a} \\times \\mathbf{b} = [a_2b_3 - a_3b_2, a_3b_1 - a_1b_3, a_1b_2 - a_2b_1] $$\n",
    "\n",
    "Iloczyn wektorowy zwraca wektor prostopadły do płaszczyzny wyznaczonej przez $ \\mathbf{a} $ i $ \\mathbf{b} $, a jego długość jest równa powierzchni równoległoboku, którego boki są wyznaczone przez wektory $ \\mathbf{a} $ i $ \\mathbf{b} $."
   ]
  },
  {
   "cell_type": "markdown",
   "metadata": {},
   "source": [
    "## Iloczyn mieszany\n",
    "\n",
    "Iloczyn mieszany trzech wektorów $\\mathbf{a}, \\mathbf{b}, \\mathbf{c}$ jest definiowany jako:\n",
    "\n",
    "$$\n",
    "\\mathbf{a} \\cdot \\left( \\mathbf{b} \\times \\mathbf{c} \\right)\n",
    "$$\n",
    "\n",
    "Jest to równoważne iloczynowi skalarnemu $\\mathbf{a} \\times \\left( \\mathbf{b} \\times \\mathbf{c} \\right)$.\n",
    "\n",
    "Iloczyn mieszany jest równy zero, jeśli wektory $\\mathbf{a}, \\mathbf{b}, \\mathbf{c}$ są współliniowe lub równoległe.\n",
    "\n",
    "Objętość równoległościanu wyznaczonego przez trzy wektory $\\mathbf{a}, \\mathbf{b}, \\mathbf{c}$ jest równa wartości bezwzględnej iloczynu mieszanej tych wektorów."
   ]
  },
  {
   "cell_type": "markdown",
   "metadata": {},
   "source": [
    "## Przykłady"
   ]
  },
  {
   "cell_type": "code",
   "execution_count": 10,
   "metadata": {},
   "outputs": [],
   "source": [
    "import sympy as sp \n",
    "\n",
    "# Definicje wektorów\n",
    "a = sp.Matrix([1, 2, 3])\n",
    "b = sp.Matrix([4, 5, 6])\n",
    "c= sp.Matrix([7, 0, 9])\n",
    "d= sp.Matrix([0, 2, 0])\n"
   ]
  },
  {
   "cell_type": "code",
   "execution_count": 11,
   "metadata": {},
   "outputs": [
    {
     "data": {
      "text/plain": [
       "True"
      ]
     },
     "execution_count": 11,
     "metadata": {},
     "output_type": "execute_result"
    }
   ],
   "source": [
    "# iloczyn skalarny a i b\n",
    "(1*4+2*5+3*6)==a.dot(b)"
   ]
  },
  {
   "cell_type": "code",
   "execution_count": 12,
   "metadata": {},
   "outputs": [
    {
     "data": {
      "text/plain": [
       "True"
      ]
     },
     "execution_count": 12,
     "metadata": {},
     "output_type": "execute_result"
    }
   ],
   "source": [
    "#iloczyn wektorowy \n",
    "# a = [1, 2, 3]\n",
    "# c= [7, 0, 9]\n",
    "\n",
    "# Pomocniczo zapiszmy wektory jako macierze 3x3\n",
    "# i, j, k\n",
    "# 1, 2, 3\n",
    "# 7, 0, 9\n",
    "\n",
    "# Teraz\n",
    "comp1 = (2*9-3*0)\n",
    "comp2 = -(1*9-3*7)\n",
    "comp3 = (1*0-2*7)\n",
    "\n",
    "# Wynik\n",
    "sp.Matrix([comp1, comp2, comp3])==a.cross(c)"
   ]
  },
  {
   "cell_type": "code",
   "execution_count": 13,
   "metadata": {},
   "outputs": [
    {
     "data": {
      "text/plain": [
       "True"
      ]
     },
     "execution_count": 13,
     "metadata": {},
     "output_type": "execute_result"
    }
   ],
   "source": [
    "# Prostopadłość wektorów\n",
    "# c= [7, 0, 9]\n",
    "# d= [0, 2, 0]\n",
    "\n",
    "# Jeśli iloczyn skalarny wektorów jest równy 0, to znaczy, że są one prostopadłe\n",
    "iloczyn_skalarny = 7*0+0*2+9*0\n",
    "iloczyn_skalarny==0"
   ]
  },
  {
   "cell_type": "markdown",
   "metadata": {},
   "source": [
    "---\n",
    "## Zadania dla studentów\n",
    "\n",
    "- Pole powierzchni trójkąta i równoległoboku\n",
    "- Objętość równoległościanu\n",
    "- Kąt między wektorami\n",
    "- Prostopadłość wektorów\n",
    "- Równoległość wektorów\n",
    "\n"
   ]
  }
 ],
 "metadata": {
  "kernelspec": {
   "display_name": ".venv",
   "language": "python",
   "name": "python3"
  },
  "language_info": {
   "codemirror_mode": {
    "name": "ipython",
    "version": 3
   },
   "file_extension": ".py",
   "mimetype": "text/x-python",
   "name": "python",
   "nbconvert_exporter": "python",
   "pygments_lexer": "ipython3",
   "version": "3.11.9"
  }
 },
 "nbformat": 4,
 "nbformat_minor": 2
}
