{
 "cells": [
  {
   "cell_type": "markdown",
   "metadata": {},
   "source": [
    "## Lista pojęć dotyczących równań prostych na płaszczyźnie:\n",
    "   \n",
    "1. **Równanie ogólne prostej** – równanie w postaci $Ax + By + C = 0$, gdzie $A$, $B$, $C$ są współczynnikami liczbowymi.\n",
    "\n",
    "2. **Równanie kanoniczne prostej** – równanie w formie $\\frac{x - x_0}{a} = \\frac{y - y_0}{b}$, gdzie $(x_0, y_0)$ to punkt na prostej, a $a$, $b$ to współczynniki kierunkowe.\n",
    "\n",
    "3. **Równanie prostej w odcinkach na osiach układu współrzędnych** – równanie w postaci $\\frac{x}{a} + \\frac{y}{b} = 1$, gdzie $a$ i $b$ to przecięcia prostej z osiami.\n",
    "\n",
    "4. **Równanie prostej ze współczynnikiem kątowym** – równanie w formie $y = mx + c$, gdzie $m$ to współczynnik kierunkowy (nachylenie), a $c$ to wyraz wolny.\n",
    "\n",
    "5. **Równanie prostej przechodzącej przez dany punkt w danym kierunku** – równanie opisujące prostą przechodzącą przez dany punkt $(x_0, y_0)$ z danym wektorem kierunkowym $(a, b)$.\n",
    "\n",
    "6. **Równanie prostej przechodzącej przez dwa dane punkty** – równanie prostej wyznaczone przez dwa punkty $(x_1, y_1)$ i $(x_2, y_2)$.\n",
    "\n",
    "7. **Względne położenie prostych na płaszczyźnie** – analiza wzajemnej relacji prostych, w tym równoległość, prostopadłość i przecięcie.\n",
    "\n",
    "8. **Przecięcie dwóch prostych** – wyznaczanie punktu przecięcia dwóch prostych poprzez rozwiązanie układu równań.\n",
    "\n",
    "9. **Kąt między dwiema prostymi** – kąt utworzony przez dwie przecinające się proste, obliczany na podstawie ich współczynników kierunkowych.\n",
    "\n",
    "10. **Warunki równoległości i prostopadłości dwóch prostych** – warunki algebraiczne określające, kiedy dwie proste są równoległe lub prostopadłe, zwykle w zależności od ich współczynników kierunkowych."
   ]
  },
  {
   "cell_type": "markdown",
   "metadata": {},
   "source": [
    "## 1. Równanie ogólne prostej\n",
    "\n",
    "### a) Równanie ogólne prostej $Ax + By + C = 0$"
   ]
  },
  {
   "cell_type": "code",
   "execution_count": 73,
   "metadata": {},
   "outputs": [
    {
     "data": {
      "text/plain": [
       "[(-A*x - C)/B]"
      ]
     },
     "execution_count": 73,
     "metadata": {},
     "output_type": "execute_result"
    }
   ],
   "source": [
    "import sympy as sp\n",
    "\n",
    "# Równanie ogólne prostej: Ax + By + C = 0\n",
    "\n",
    "# Definiowanie symboli\n",
    "x, y, A, B, C = symbols('x y A B C')\n",
    "\n",
    "# Równanie prostej\n",
    "rownanie = Eq(A*x + B*y + C, 0)\n",
    "\n",
    "# Rozwiązywanie równania względem y\n",
    "rownanie_y = solve(rownanie, y)\n",
    "rownanie_y  # wyświetla równanie prostej"
   ]
  },
  {
   "cell_type": "code",
   "execution_count": 74,
   "metadata": {},
   "outputs": [
    {
     "name": "stdout",
     "output_type": "stream",
     "text": [
      "-A*x/B - C/B\n"
     ]
    }
   ],
   "source": [
    "expanded_expr = expand(rownanie_y[0])  # Wyświetlanie równanie prostej y = (-A/B)*x - C/B\n",
    "expand(rownanie_y[0])\n",
    "\n",
    "# Wyświetlenie wyniku\n",
    "print(expanded_expr)"
   ]
  },
  {
   "cell_type": "markdown",
   "metadata": {},
   "source": [
    "### b) Wyznaczanie punktu przecięcia prostej z osiami układu współrzędnych"
   ]
  },
  {
   "cell_type": "code",
   "execution_count": 75,
   "metadata": {},
   "outputs": [
    {
     "data": {
      "text/plain": [
       "([-4], [5])"
      ]
     },
     "execution_count": 75,
     "metadata": {},
     "output_type": "execute_result"
    }
   ],
   "source": [
    "# Wyznaczanie punktu przecięcia prostej z osiami układu współrzędnych\n",
    "from sympy import symbols, Eq, solve\n",
    "\n",
    "x, y = symbols('x y')\n",
    "\n",
    "# Równanie prostej: 5x - 4y + 20 = 0\n",
    "rownanie = Eq(5*x - 4*y + 20, 0)\n",
    "\n",
    "# Punkt przecięcia z osią OX (y=0)\n",
    "punkt_OX = solve(rownanie.subs(y, 0), x)\n",
    "\n",
    "# Punkt przecięcia z osią OY (x=0)\n",
    "punkt_OY = solve(rownanie.subs(x, 0), y)\n",
    "\n",
    "punkt_OX, punkt_OY"
   ]
  },
  {
   "cell_type": "markdown",
   "metadata": {},
   "source": [
    "### b) Gdzie ma miejce zerowe prosta $2x - 3y + 6 = 0$?"
   ]
  },
  {
   "cell_type": "markdown",
   "metadata": {},
   "source": [
    "## 2. Równanie kanoniczne prostej\n",
    "\n",
    "### a) Równanie kanoniczne $\\frac{x - x_0}{a} = \\frac{y - y_0}{b}$"
   ]
  },
  {
   "cell_type": "code",
   "execution_count": 76,
   "metadata": {},
   "outputs": [
    {
     "data": {
      "text/latex": [
       "$\\displaystyle \\frac{x - x_{0}}{a} = \\frac{y - y_{0}}{b}$"
      ],
      "text/plain": [
       "Eq((x - x0)/a, (y - y0)/b)"
      ]
     },
     "execution_count": 76,
     "metadata": {},
     "output_type": "execute_result"
    }
   ],
   "source": [
    "# Równanie kanoniczne: (x - x0)/a = (y - y0)/b\n",
    "from sympy import symbols, Eq\n",
    "\n",
    "x, y, x0, y0, a, b = symbols('x y x0 y0 a b')\n",
    "\n",
    "# Równanie kanoniczne\n",
    "rownanie_kanoniczne = Eq((x - x0)/a, (y - y0)/b)\n",
    "rownanie_kanoniczne"
   ]
  },
  {
   "cell_type": "markdown",
   "metadata": {},
   "source": [
    "### b) Mając równanie kanoniczne $\\frac{x - 1}{3} = \\frac{y - 2}{4}$ podaj standardowe równanie prostej"
   ]
  },
  {
   "cell_type": "code",
   "execution_count": 86,
   "metadata": {},
   "outputs": [
    {
     "data": {
      "text/latex": [
       "$\\displaystyle \\frac{4 x}{3} + \\frac{2}{3}$"
      ],
      "text/plain": [
       "4*x/3 + 2/3"
      ]
     },
     "execution_count": 86,
     "metadata": {},
     "output_type": "execute_result"
    }
   ],
   "source": [
    "### b) Mając równanie kanoniczne $\\frac{x - 1}{3} = \\frac{y - 2}{4}$ podaj standardowe równanie prostej\n",
    "\n",
    "# Równanie kanoniczne prostej\n",
    "rownanie_kanoniczne = Eq((x - 1)/3, (y - 2)/4)\n",
    "\n",
    "# Równanie prostej\n",
    "rownanie_prostej = solve(rownanie_kanoniczne, y)\n",
    "\n",
    "rownanie_prostej  # wyświetla równanie prostej\n",
    "\n",
    "expand(rownanie_prostej[0])  # Wyświetla równanie prostej y = (4/3)*x - 2/3"
   ]
  },
  {
   "cell_type": "markdown",
   "metadata": {},
   "source": [
    "### c) Znajdź równanie kanoniczne prostej przechodzącej przez punkt (3, 4) w kierunku wektora (2, -1)"
   ]
  },
  {
   "cell_type": "code",
   "execution_count": 88,
   "metadata": {},
   "outputs": [
    {
     "data": {
      "text/latex": [
       "$\\displaystyle \\frac{x}{2} - \\frac{3}{2} = 4 - y$"
      ],
      "text/plain": [
       "Eq(x/2 - 3/2, 4 - y)"
      ]
     },
     "execution_count": 88,
     "metadata": {},
     "output_type": "execute_result"
    }
   ],
   "source": [
    "\n",
    "# Znajdź równanie kanoniczne prostej przechodzącej przez punkt (3, 4) w kierunku wektora (2, -1)\n",
    "x, y = symbols('x y')\n",
    "\n",
    "# Punkt (x0, y0) i wektor kierunkowy (a, b)\n",
    "x0, y0 = 3, 4\n",
    "a, b = 2, -1\n",
    "\n",
    "# Równanie kanoniczne\n",
    "rownanie = Eq((x - x0)/a, (y - y0)/b)\n",
    "rownanie"
   ]
  },
  {
   "cell_type": "markdown",
   "metadata": {},
   "source": [
    "## 3. Równanie prostej w odcinkach na osiach\n",
    "\n",
    "### a) Równanie w postaci odcinków $\\frac{x}{a} + \\frac{y}{b} = 1$"
   ]
  },
  {
   "cell_type": "code",
   "execution_count": 89,
   "metadata": {},
   "outputs": [
    {
     "data": {
      "text/latex": [
       "$\\displaystyle \\frac{y}{b} + \\frac{x}{a} = 1$"
      ],
      "text/plain": [
       "Eq(y/b + x/a, 1)"
      ]
     },
     "execution_count": 89,
     "metadata": {},
     "output_type": "execute_result"
    }
   ],
   "source": [
    "# Równanie w postaci odcinków: x/a + y/b = 1\n",
    "from sympy import symbols, Eq\n",
    "\n",
    "x, y, a, b = symbols('x y a b')\n",
    "\n",
    "# Równanie prostej\n",
    "rownanie_odcinki = Eq(x/a + y/b, 1)\n",
    "rownanie_odcinki"
   ]
  },
  {
   "cell_type": "markdown",
   "metadata": {},
   "source": [
    "\n",
    "### b) Znajdź punkt przecięcia tej prostej z osiami, obliczając dokładne wartości"
   ]
  },
  {
   "cell_type": "code",
   "execution_count": 90,
   "metadata": {},
   "outputs": [
    {
     "data": {
      "text/plain": [
       "([2], [3])"
      ]
     },
     "execution_count": 90,
     "metadata": {},
     "output_type": "execute_result"
    }
   ],
   "source": [
    "\n",
    "# Znajdź punkt przecięcia tej prostej z osiami, obliczając dokładne wartości\n",
    "x, y = symbols('x y')\n",
    "\n",
    "rownanie = Eq(x/2 + y/3, 1)\n",
    "\n",
    "# Punkt przecięcia z osią OX (y=0)\n",
    "punkt_OX = solve(rownanie.subs(y, 0), x)\n",
    "\n",
    "# Punkt przecięcia z osią OY (x=0)\n",
    "punkt_OY = solve(rownanie.subs(x, 0), y)\n",
    "\n",
    "punkt_OX, punkt_OY"
   ]
  },
  {
   "cell_type": "markdown",
   "metadata": {},
   "source": [
    "## 4. Równanie prostej ze współczynnikiem kątowym\n",
    "\n",
    "### a) Formalne: Równanie prostej $y = mx + c$"
   ]
  },
  {
   "cell_type": "code",
   "execution_count": null,
   "metadata": {},
   "outputs": [],
   "source": [
    "# Równanie prostej: y = mx + c\n",
    "from sympy import symbols, Eq\n",
    "\n",
    "x, y, m, c = symbols('x y m c')\n",
    "\n",
    "# Równanie prostej\n",
    "rownanie_katowy = Eq(y, m*x + c)\n",
    "rownanie_katowy\n"
   ]
  },
  {
   "cell_type": "markdown",
   "metadata": {},
   "source": [
    "### b) Oblicz współczynnik kierunkowy prostej przechodzącej przez początek układu współrzędnych i punkt (4,10)"
   ]
  },
  {
   "cell_type": "code",
   "execution_count": 91,
   "metadata": {},
   "outputs": [
    {
     "data": {
      "text/plain": [
       "2.5"
      ]
     },
     "execution_count": 91,
     "metadata": {},
     "output_type": "execute_result"
    }
   ],
   "source": [
    "### b) Oblicz współczynnik kierunkowy prostej przechodzącej przez początek układu współrzędnych i punkt (4,10)\n",
    "\n",
    "# Współczynnik kierunkowy prostej\n",
    "\n",
    "# Punkt (x1, y1)\n",
    "x1, y1 = 4, 10\n",
    "\n",
    "# Współczynnik kierunkowy\n",
    "m = (y1 - 0)/(x1 - 0)\n",
    "m"
   ]
  },
  {
   "cell_type": "markdown",
   "metadata": {},
   "source": [
    "### c) Oblicz współczynnik kierunkowy prostej przechodzącej przez punkty (1, 2) i (2, 1)"
   ]
  },
  {
   "cell_type": "code",
   "execution_count": 98,
   "metadata": {},
   "outputs": [
    {
     "data": {
      "text/plain": [
       "-1.0"
      ]
     },
     "execution_count": 98,
     "metadata": {},
     "output_type": "execute_result"
    }
   ],
   "source": [
    "\n",
    "# Oblicz współczynnik kierunkowy prostej przechodzącej przez punkty (1, 2) i (2, 1)\n",
    "x1, y1, x2, y2 = 1, 2, 2, 1\n",
    "\n",
    "# Obliczanie współczynnika kierunkowego m\n",
    "m = (y2 - y1) / (x2 - x1)\n",
    "m"
   ]
  },
  {
   "cell_type": "markdown",
   "metadata": {},
   "source": [
    "### d) Narysuj odcinek zaczynający się w (1, 2) i kończący się w (2, 1)"
   ]
  },
  {
   "cell_type": "code",
   "execution_count": 101,
   "metadata": {},
   "outputs": [
    {
     "data": {
      "image/png": "[encoded data removed]",
      "text/plain": [
       "<Figure size 640x480 with 1 Axes>"
      ]
     },
     "metadata": {},
     "output_type": "display_data"
    }
   ],
   "source": [
    "import matplotlib.pyplot as plt\n",
    "\n",
    "# Punkty\n",
    "x = [1, 2]\n",
    "y = [2, 1]\n",
    "\n",
    "# Rysowanie wykresu\n",
    "plt.plot(x, y)\n",
    "plt.xlabel('x')\n",
    "plt.ylabel('y')\n",
    "plt.title('Prosta przechodząca przez punkty (1, 2) i (2, 1)')\n",
    "\n",
    "plt.xlim(0, 3)# Wykres od (0, 0) do (3, 3)\n",
    "plt.ylim(0, 3)\n",
    "\n",
    "plt.grid()\n",
    "plt.show()"
   ]
  },
  {
   "cell_type": "markdown",
   "metadata": {},
   "source": [
    "## 5. Równanie prostej przechodzącej przez dany punkt w danym kierunku\n",
    "\n",
    "### a) Równanie $\\frac{x - x_0}{a} = \\frac{y - y_0}{b}$"
   ]
  },
  {
   "cell_type": "code",
   "execution_count": null,
   "metadata": {},
   "outputs": [],
   "source": [
    "# Równanie: (x - x0)/a = (y - y0)/b\n",
    "from sympy import symbols, Eq\n",
    "\n",
    "x, y, x0, y0, a, b = symbols('x y x0 y0 a b')\n",
    "\n",
    "# Równanie prostej\n",
    "rownanie = Eq((x - x0)/a, (y - y0)/b)\n",
    "rownanie\n"
   ]
  },
  {
   "cell_type": "markdown",
   "metadata": {},
   "source": [
    "\n",
    "### b) Konkretne wartości: Równanie przechodzącej przez (2, 3) w kierunku (1, 2)\n"
   ]
  },
  {
   "cell_type": "code",
   "execution_count": null,
   "metadata": {},
   "outputs": [],
   "source": [
    "\n",
    "# Równanie przechodzącej przez (2, 3) w kierunku (1, 2)\n",
    "x, y = symbols('x y')\n",
    "\n",
    "rownanie = Eq((x - 2)/1, (y - 3)/2)\n",
    "rownanie\n"
   ]
  },
  {
   "cell_type": "markdown",
   "metadata": {},
   "source": [
    "\n",
    "### c) Oblicz równanie prostej, jeśli punkt (3, 4) jest dany, a kierunek to prosta $y = 2x - 1$\n"
   ]
  },
  {
   "cell_type": "code",
   "execution_count": null,
   "metadata": {},
   "outputs": [],
   "source": [
    "# Oblicz równanie prostej, jeśli punkt (3, 4) jest dany, a kierunek to prosta y = 2x - 1\n",
    "from sympy import solve\n",
    "\n",
    "# Punkt (x0, y0)\n",
    "x0, y0 = 3, 4\n",
    "\n",
    "# Współczynnik kierunkowy z równania y = 2x - 1\n",
    "m = 2\n",
    "\n",
    "# Równanie: y - y0 = m(x - x0)\n",
    "rownanie = Eq(y - y0, m*(x - x0))\n",
    "rownanie"
   ]
  },
  {
   "cell_type": "markdown",
   "metadata": {},
   "source": [
    "\n",
    "## 6. Równanie prostej przechodzącej przez dwa dane punkty\n",
    "\n",
    "### a) Równanie $y - y_1 = \\frac{(y_2 - y_1)}{(x_2 - x_1)} (x - x_1)$\n"
   ]
  },
  {
   "cell_type": "code",
   "execution_count": null,
   "metadata": {},
   "outputs": [],
   "source": [
    "# Równanie: y - y1 = ((y2 - y1)/(x2 - x1)) * (x - x1)\n",
    "from sympy import symbols, Eq\n",
    "\n",
    "x, y, x1, y1, x2, y2 = symbols('x y x1 y1 x2 y2')\n",
    "\n",
    "# Równanie prostej przez dwa punkty\n",
    "m = (y2 - y1) / (x2 - x1)\n",
    "rownanie = Eq(y - y1, m*(x - x1))\n",
    "rownanie"
   ]
  },
  {
   "cell_type": "markdown",
   "metadata": {},
   "source": [
    "\n",
    "### b) Równanie prostej przez punkty (1, 2) i (4, 6)\n"
   ]
  },
  {
   "cell_type": "code",
   "execution_count": null,
   "metadata": {},
   "outputs": [],
   "source": [
    "# Równanie prostej przez punkty (1, 2) i (4, 6)\n",
    "x, y = symbols('x y')\n",
    "\n",
    "# Punkty\n",
    "x1, y1 = 1, 2\n",
    "x2, y2 = 4, 6\n",
    "\n",
    "# Obliczenie współczynnika kierunkowego\n",
    "m = (y2 - y1) / (x2 - x1)\n",
    "\n",
    "# Równanie\n",
    "rownanie = Eq(y - y1, m*(x - x1))\n",
    "rownanie"
   ]
  },
  {
   "cell_type": "markdown",
   "metadata": {},
   "source": [
    "### c) Oblicz współrzędne punktu przecięcia dwóch prostych przechodzących przez różne pary punktów"
   ]
  },
  {
   "cell_type": "code",
   "execution_count": 114,
   "metadata": {},
   "outputs": [
    {
     "data": {
      "text/plain": [
       "{x: 0.0, y: 0.0}"
      ]
     },
     "execution_count": 114,
     "metadata": {},
     "output_type": "execute_result"
    }
   ],
   "source": [
    "# Oblicz współrzędne punktu przecięcia dwóch prostych przechodzących przez różne pary punktów\n",
    "from sympy import solve, Eq\n",
    "\n",
    "x, y = symbols('x y')\n",
    "\n",
    "# Prosta 1: przez punkty (1, 2) i (3, 6)\n",
    "rownanie1 = Eq(y - 2, ((6 - 2)/(3 - 1)) * (x - 1))\n",
    "\n",
    "# Prosta 2: przez punkty (0, 0) i (2, 3)\n",
    "rownanie2 = Eq(y, (3/2) * x)\n",
    "\n",
    "# Znajdowanie punktu przecięcia\n",
    "punkt_przeciecia = solve((rownanie1, rownanie2), (x, y))\n",
    "punkt_przeciecia"
   ]
  },
  {
   "cell_type": "markdown",
   "metadata": {},
   "source": [
    "## 7. Względne położenie prostych na płaszczyźnie\n",
    "\n",
    "### a) Określanie względnego położenia dwóch prostych za pomocą ich równań"
   ]
  },
  {
   "cell_type": "code",
   "execution_count": null,
   "metadata": {},
   "outputs": [],
   "source": [
    "\n",
    "# Analiza położenia dwóch prostych: Ax + By + C = 0 i Dx + Ey + F = 0\n",
    "from sympy import symbols, Eq, solve\n",
    "\n",
    "x, y, A, B, C, D, E, F = symbols('x y A B C D E F')\n",
    "\n",
    "# Równania prostych\n",
    "rownanie1 = Eq(A*x + B*y + C, 0)\n",
    "rownanie2 = Eq(D*x + E*y + F, 0)\n",
    "\n",
    "# Sprawdzanie czy proste są równoległe lub przecinające się\n",
    "roz = solve((rownanie1, rownanie2), (x, y))\n",
    "roz\n"
   ]
  },
  {
   "cell_type": "markdown",
   "metadata": {},
   "source": [
    "\n",
    "### b) Sprawdzenie położenia prostych $2x - 3y + 6 = 0$ i $4x - 6y + 12 = 0$\n"
   ]
  },
  {
   "cell_type": "code",
   "execution_count": 113,
   "metadata": {},
   "outputs": [
    {
     "data": {
      "text/plain": [
       "{x: 3*y/2 - 3}"
      ]
     },
     "execution_count": 113,
     "metadata": {},
     "output_type": "execute_result"
    }
   ],
   "source": [
    "\n",
    "# Analiza dwóch prostych: 2x - 3y + 6 = 0 i 4x - 6y + 12 = 0\n",
    "x, y = symbols('x y')\n",
    "\n",
    "rownanie1 = Eq(2*x - 3*y + 6, 0)\n",
    "rownanie2 = Eq(4*x - 6*y + 12, 0)\n",
    "\n",
    "# Sprawdzenie czy proste są równoległe, przecinające się lub pokrywają się\n",
    "roz = solve((rownanie1, rownanie2), (x, y))\n",
    "roz if roz else \"Proste są równoległe lub pokrywają się\"\n"
   ]
  },
  {
   "cell_type": "markdown",
   "metadata": {},
   "source": [
    "\n",
    "### c) Znajdź odległość między równoległymi prostymi $3x - 4y + 5 = 0$ i $3x - 4y - 10 = 0$\n"
   ]
  },
  {
   "cell_type": "code",
   "execution_count": null,
   "metadata": {},
   "outputs": [],
   "source": [
    "\n",
    "# Znajdowanie odległości między równoległymi prostymi\n",
    "from sympy import Abs\n",
    "\n",
    "x, y = symbols('x y')\n",
    "\n",
    "# Równania dwóch równoległych prostych\n",
    "A, B, C1, C2 = 3, -4, 5, -10\n",
    "\n",
    "# Wzór na odległość między prostymi\n",
    "odleglosc = Abs(C1 - C2) / (A**2 + B**2)**0.5\n",
    "odleglosc\n"
   ]
  },
  {
   "cell_type": "markdown",
   "metadata": {},
   "source": [
    "## 8. Przecięcie dwóch prostych\n",
    "\n",
    "### a) Znajdowanie punktu przecięcia dwóch prostych\n"
   ]
  },
  {
   "cell_type": "code",
   "execution_count": null,
   "metadata": {},
   "outputs": [],
   "source": [
    "\n",
    "# Punkt przecięcia prostych: Ax + By + C = 0 oraz Dx + Ey + F = 0\n",
    "x, y, A, B, C, D, E, F = symbols('x y A B C D E F')\n",
    "\n",
    "rownanie1 = Eq(A*x + B*y + C, 0)\n",
    "rownanie2 = Eq(D*x + E*y + F, 0)\n",
    "\n",
    "# Wyznaczanie punktu przecięcia\n",
    "punkt_przeciecia = solve((rownanie1, rownanie2), (x, y))\n",
    "punkt_przeciecia\n"
   ]
  },
  {
   "cell_type": "markdown",
   "metadata": {},
   "source": [
    "\n",
    "### b) Znajdź punkt przecięcia prostych $x + y - 1 = 0$ i $2x - y - 3 = 0$\n"
   ]
  },
  {
   "cell_type": "code",
   "execution_count": null,
   "metadata": {},
   "outputs": [],
   "source": [
    "\n",
    "# Znajdowanie punktu przecięcia prostych x + y - 1 = 0 i 2x - y - 3 = 0\n",
    "x, y = symbols('x y')\n",
    "\n",
    "rownanie1 = Eq(x + y - 1, 0)\n",
    "rownanie2 = Eq(2*x - y - 3, 0)\n",
    "\n",
    "# Obliczenie punktu przecięcia\n",
    "punkt_przeciecia = solve((rownanie1, rownanie2), (x, y))\n",
    "punkt_przeciecia\n"
   ]
  },
  {
   "cell_type": "markdown",
   "metadata": {},
   "source": [
    "\n",
    "### c) Sprawdź, czy punkt przecięcia prostych leży w określonym obszarze (np. pierwszej ćwiartce)\n"
   ]
  },
  {
   "cell_type": "code",
   "execution_count": 112,
   "metadata": {},
   "outputs": [],
   "source": [
    "\n",
    "# Sprawdzenie, czy punkt przecięcia leży w pierwszej ćwiartce\n",
    "x, y = symbols('x y')\n",
    "\n",
    "rownanie1 = Eq(3*x - y + 2, 0)\n",
    "rownanie2 = Eq(x + 4*y - 5, 0)\n",
    "\n",
    "# Punkt przecięcia\n",
    "punkt_przeciecia = solve((rownanie1, rownanie2), (x, y))\n",
    "\n",
    "# Sprawdzenie położenia punktu\n",
    "if punkt_przeciecia and punkt_przeciecia[x] > 0 and punkt_przeciecia[y] > 0:\n",
    "    \"Punkt leży w pierwszej ćwiartce\"\n",
    "else:\n",
    "    \"Punkt nie leży w pierwszej ćwiartce\"\n"
   ]
  },
  {
   "cell_type": "markdown",
   "metadata": {},
   "source": [
    "\n",
    "## 9. Kąt między dwiema prostymi\n",
    "\n",
    "### a) Formalne: Obliczanie kąta między dwiema prostymi z ich współczynników kierunkowych\n"
   ]
  },
  {
   "cell_type": "code",
   "execution_count": 110,
   "metadata": {},
   "outputs": [
    {
     "data": {
      "text/latex": [
       "$\\displaystyle \\frac{180 \\left|{\\operatorname{atan}{\\left(\\frac{m_{1} - m_{2}}{m_{1} m_{2} + 1} \\right)}}\\right|}{\\pi}$"
      ],
      "text/plain": [
       "180*Abs(atan((m1 - m2)/(m1*m2 + 1)))/pi"
      ]
     },
     "execution_count": 110,
     "metadata": {},
     "output_type": "execute_result"
    }
   ],
   "source": [
    "\n",
    "# Kąt między prostymi: y = m1*x + c1 oraz y = m2*x + c2\n",
    "from sympy import atan, pi, Abs\n",
    "\n",
    "m1, m2 = symbols('m1 m2')\n",
    "\n",
    "# Wzór na kąt między prostymi\n",
    "kat = Abs(atan((m2 - m1) / (1 + m1*m2))) * 180 / pi\n",
    "kat\n"
   ]
  },
  {
   "cell_type": "markdown",
   "metadata": {},
   "source": [
    "\n",
    "### b) Konkretne wartości: Oblicz kąt między prostymi $y = 2x + 3$ i $y = -0.25x + 2$\n"
   ]
  },
  {
   "cell_type": "code",
   "execution_count": 4,
   "metadata": {},
   "outputs": [
    {
     "data": {
      "text/latex": [
       "$\\displaystyle \\frac{243.382928565772}{\\pi}$"
      ],
      "text/plain": [
       "243.382928565772/pi"
      ]
     },
     "execution_count": 4,
     "metadata": {},
     "output_type": "execute_result"
    }
   ],
   "source": [
    "\n",
    "# Obliczanie kąta między dwiema prostymi\n",
    "from sympy import atan, Abs, pi\n",
    "\n",
    "# Współczynniki kierunkowe prostych\n",
    "m1 = 2\n",
    "m2 = -0.25\n",
    "\n",
    "# Obliczanie kąta\n",
    "angle = Abs(atan((m2 - m1) / (1 + m1*m2))) * 180 / pi\n",
    "angle\n"
   ]
  },
  {
   "cell_type": "code",
   "execution_count": 5,
   "metadata": {},
   "outputs": [
    {
     "data": {
      "text/latex": [
       "$\\displaystyle 77.4711922908485$"
      ],
      "text/plain": [
       "77.4711922908485"
      ]
     },
     "execution_count": 5,
     "metadata": {},
     "output_type": "execute_result"
    }
   ],
   "source": [
    "angle_numeric = angle.evalf()\n",
    "angle_numeric"
   ]
  },
  {
   "cell_type": "markdown",
   "metadata": {},
   "source": [
    "\n",
    "### c) Sprawdź, czy kąt między prostymi jest rozwarty, ostry czy prosty\n"
   ]
  },
  {
   "cell_type": "code",
   "execution_count": 109,
   "metadata": {},
   "outputs": [],
   "source": [
    "\n",
    "# Sprawdzenie rodzaju kąta między dwiema prostymi\n",
    "m1 = 2\n",
    "m2 = 0.5\n",
    "\n",
    "# Obliczenie kąta w stopniach\n",
    "kat = Abs(atan((m2 - m1) / (1 + m1*m2))) * 180 / pi\n",
    "\n",
    "# Klasyfikacja kąta\n",
    "if kat < 90:\n",
    "    \"Kąt ostry\"\n",
    "elif kat > 90:\n",
    "    \"Kąt rozwarty\"\n",
    "else:\n",
    "    \"Kąt prosty\"\n"
   ]
  },
  {
   "cell_type": "markdown",
   "metadata": {},
   "source": [
    "\n",
    "## 10. Warunki równoległości i prostopadłości dwóch prostych\n",
    "\n",
    "### a) Warunki na równoległość (m1 = m2) i prostopadłość (m1 * m2 = -1)\n"
   ]
  },
  {
   "cell_type": "code",
   "execution_count": 105,
   "metadata": {},
   "outputs": [
    {
     "data": {
      "text/plain": [
       "(Eq(m1, m2), Eq(m1*m2, -1))"
      ]
     },
     "execution_count": 105,
     "metadata": {},
     "output_type": "execute_result"
    }
   ],
   "source": [
    "# Sprawdzenie równoległości i prostopadłości prostych o współczynnikach m1 i m2\n",
    "from sympy import symbols, Eq\n",
    "\n",
    "m1, m2 = symbols('m1 m2')\n",
    "\n",
    "# Warunki równoległości i prostopadłości\n",
    "warunek_rownoleglosci = Eq(m1, m2)\n",
    "warunek_prostopadlosci = Eq(m1 * m2, -1)\n",
    "\n",
    "warunek_rownoleglosci, warunek_prostopadlosci"
   ]
  },
  {
   "cell_type": "markdown",
   "metadata": {},
   "source": [
    "\n",
    "### b) Sprawdź, czy proste $y = 3x + 2$ i $y = 3x - 1$ są równoległe"
   ]
  },
  {
   "cell_type": "code",
   "execution_count": 102,
   "metadata": {},
   "outputs": [
    {
     "data": {
      "text/plain": [
       "True"
      ]
     },
     "execution_count": 102,
     "metadata": {},
     "output_type": "execute_result"
    }
   ],
   "source": [
    "# Sprawdzenie równoległości prostych\n",
    "m1 = 3\n",
    "m2 = 3\n",
    "\n",
    "# Warunek równoległości\n",
    "czy_rownolegle = m1 == m2\n",
    "czy_rownolegle"
   ]
  },
  {
   "cell_type": "markdown",
   "metadata": {},
   "source": [
    "### c) Na wykresie narysuj proste $y = 3x + 2$ i $y = 3x - 1$"
   ]
  },
  {
   "cell_type": "code",
   "execution_count": 108,
   "metadata": {},
   "outputs": [
    {
     "data": {
      "image/png": "[encoded data removed]",
      "text/plain": [
       "<Figure size 640x480 with 1 Axes>"
      ]
     },
     "metadata": {},
     "output_type": "display_data"
    }
   ],
   "source": [
    "\n",
    "### c) Na wykresie narysuj proste $y = 3x + 2$ i $y = 3x - 1$\n",
    "import numpy as np\n",
    "#definiowanie funkcji\n",
    "m1 = 3\n",
    "m2 = 3\n",
    "b1 = 2\n",
    "b2 = -1\n",
    "\n",
    "# Rysowanie wykresu\n",
    "x = np.linspace(-2, 2, 100)\n",
    "y1 = m1*x + b1\n",
    "y2 = m2*x + b2\n",
    "\n",
    "plt.plot(x, y1, label='y = 3x + 2')\n",
    "plt.plot(x, y2, label='y = 3x - 1')\n",
    "\n",
    "plt.xlabel('x')\n",
    "plt.ylabel('y')\n",
    "plt.title('Proste y = 3x + 2 i y = 3x - 1')\n",
    "plt.legend()\n",
    "\n",
    "plt.show()"
   ]
  },
  {
   "cell_type": "markdown",
   "metadata": {},
   "source": [
    "\n",
    "### d) Sprawdź, czy proste $y = 2x + 1$ i $y = -0.5x - 4$ są prostopadłe\n"
   ]
  },
  {
   "cell_type": "code",
   "execution_count": 103,
   "metadata": {},
   "outputs": [
    {
     "data": {
      "text/plain": [
       "True"
      ]
     },
     "execution_count": 103,
     "metadata": {},
     "output_type": "execute_result"
    }
   ],
   "source": [
    "\n",
    "# Sprawdzenie prostopadłości prostych\n",
    "m1 = 2\n",
    "m2 = -0.5\n",
    "\n",
    "# Warunek prostopadłości\n",
    "czy_prostopadle = m1 * m2 == -1\n",
    "czy_prostopadle"
   ]
  },
  {
   "cell_type": "markdown",
   "metadata": {},
   "source": [
    "### e) Na wykresie narysuj proste $y = 2x + 1$ i $y = -0.5x - 4$."
   ]
  },
  {
   "cell_type": "code",
   "execution_count": null,
   "metadata": {},
   "outputs": [],
   "source": []
  }
 ],
 "metadata": {
  "kernelspec": {
   "display_name": "Python 3",
   "language": "python",
   "name": "python3"
  },
  "language_info": {
   "codemirror_mode": {
    "name": "ipython",
    "version": 3
   },
   "file_extension": ".py",
   "mimetype": "text/x-python",
   "name": "python",
   "nbconvert_exporter": "python",
   "pygments_lexer": "ipython3",
   "version": "3.11.9"
  }
 },
 "nbformat": 4,
 "nbformat_minor": 2
}
