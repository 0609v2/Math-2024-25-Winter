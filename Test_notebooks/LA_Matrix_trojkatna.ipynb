{
 "cells": [
  {
   "cell_type": "code",
   "execution_count": 1,
   "metadata": {},
   "outputs": [],
   "source": [
    "# from sympy import Matrix, symbols\n",
    "# from IPython.display import display, Markdown\n",
    "\n",
    "# class SymbolicMatrix:\n",
    "#     def __init__(self, matrix):\n",
    "#         self.matrix = Matrix(matrix)\n",
    "#         self.operations = []\n",
    "#         display(Markdown(\"**Początkowa macierz:**\"))\n",
    "#         display(self.matrix)  # Wyświetla macierz po inicjalizacji\n",
    "\n",
    "#     def __repr__(self):\n",
    "#         return repr(self.matrix)  # Używa repr Matrix\n",
    "\n",
    "#     def __str__(self):\n",
    "#         return str(self.matrix)  # Używa str Matrix\n",
    "\n",
    "#     def _repr_latex_(self):\n",
    "#         return self.matrix._repr_latex_()  # Deleguje wyświetlanie LaTeX\n",
    "\n",
    "#     def _validate_row_number(self, row):\n",
    "#         if not isinstance(row, int):\n",
    "#             raise TypeError(\"Numer wiersza musi być liczbą całkowitą.\")\n",
    "#         if row < 1 or row > self.matrix.rows:\n",
    "#             raise IndexError(f\"Numer wiersza musi być w zakresie od 1 do {self.matrix.rows}.\")\n",
    "#         return row - 1\n",
    "\n",
    "#     def _validate_col_number(self, col):\n",
    "#         if not isinstance(col, int):\n",
    "#             raise TypeError(\"Numer kolumny musi być liczbą całkowitą.\")\n",
    "#         if col < 1 or col > self.matrix.cols:\n",
    "#             raise IndexError(f\"Numer kolumny musi być w zakresie od 1 do {self.matrix.cols}.\")\n",
    "#         return col - 1\n",
    "\n",
    "#     # Metody dla wierszy\n",
    "#     def add_row(self, target_row, source_row, coefficient):\n",
    "#         target_idx = self._validate_row_number(target_row)\n",
    "#         source_idx = self._validate_row_number(source_row)\n",
    "#         self.matrix.row_op(target_idx, lambda v, j: v + coefficient * self.matrix[source_idx, j])\n",
    "#         operation_str = f\"w{target_row} = w{target_row} + {coefficient}*w{source_row}\"\n",
    "#         self.operations.append(operation_str)\n",
    "#         display(Markdown(f\"**Operacja:** {operation_str}\"))\n",
    "#         display(self.matrix)\n",
    "\n",
    "#     def multiply_row(self, row, coefficient):\n",
    "#         row_idx = self._validate_row_number(row)\n",
    "#         self.matrix.row_op(row_idx, lambda v, _: coefficient * v)\n",
    "#         operation_str = f\"w{row} = {coefficient}*w{row}\"\n",
    "#         self.operations.append(operation_str)\n",
    "#         display(Markdown(f\"**Operacja:** {operation_str}\"))\n",
    "#         display(self.matrix)\n",
    "\n",
    "#     def swap_rows(self, row1, row2):\n",
    "#         row1_idx = self._validate_row_number(row1)\n",
    "#         row2_idx = self._validate_row_number(row2)\n",
    "#         self.matrix.row_swap(row1_idx, row2_idx)\n",
    "#         operation_str = f\"Zamiana w{row1} <-> w{row2}\"\n",
    "#         self.operations.append(operation_str)\n",
    "#         display(Markdown(f\"**Operacja:** {operation_str}\"))\n",
    "#         display(self.matrix)\n",
    "\n",
    "#     # Metody dla kolumn\n",
    "#     def add_col(self, target_col, source_col, coefficient):\n",
    "#         target_idx = self._validate_col_number(target_col)\n",
    "#         source_idx = self._validate_col_number(source_col)\n",
    "#         self.matrix.col_op(target_idx, lambda v, i: v + coefficient * self.matrix[i, source_idx])\n",
    "#         operation_str = f\"k{target_col} = k{target_col} + {coefficient}*k{source_col}\"\n",
    "#         self.operations.append(operation_str)\n",
    "#         display(Markdown(f\"**Operacja:** {operation_str}\"))\n",
    "#         display(self.matrix)\n",
    "\n",
    "#     def multiply_col(self, col, coefficient):\n",
    "#         col_idx = self._validate_col_number(col)\n",
    "#         self.matrix.col_op(col_idx, lambda v, _: coefficient * v)\n",
    "#         operation_str = f\"k{col} = {coefficient}*k{col}\"\n",
    "#         self.operations.append(operation_str)\n",
    "#         display(Markdown(f\"**Operacja:** {operation_str}\"))\n",
    "#         display(self.matrix)\n",
    "\n",
    "#     def swap_cols(self, col1, col2):\n",
    "#         col1_idx = self._validate_col_number(col1)\n",
    "#         col2_idx = self._validate_col_number(col2)\n",
    "#         self.matrix.col_swap(col1_idx, col2_idx)\n",
    "#         operation_str = f\"Zamiana k{col1} <-> k{col2}\"\n",
    "#         self.operations.append(operation_str)\n",
    "#         display(Markdown(f\"**Operacja:** {operation_str}\"))\n",
    "#         display(self.matrix)\n",
    "\n",
    "#     # Wyświetlenie wykonanych operacji\n",
    "#     def print_operations(self):\n",
    "#         display(Markdown(\"**Wykonane operacje:**\"))\n",
    "#         for op in self.operations:\n",
    "#             print(op)\n",
    "\n",
    "# # Przykładowe użycie\n",
    "# m = SymbolicMatrix([[1, 2, 3], [4, 5, 6], [7, 8, 10]])\n"
   ]
  },
  {
   "cell_type": "code",
   "execution_count": 2,
   "metadata": {},
   "outputs": [
    {
     "data": {
      "text/markdown": [
       "**Początkowa macierz:**"
      ],
      "text/plain": [
       "<IPython.core.display.Markdown object>"
      ]
     },
     "metadata": {},
     "output_type": "display_data"
    },
    {
     "data": {
      "text/latex": [
       "$\\displaystyle \\left[\\begin{matrix}1 & 2 & 3\\\\4 & 5 & 6\\\\7 & 8 & 10\\end{matrix}\\right]$"
      ],
      "text/plain": [
       "Matrix([\n",
       "[1, 2,  3],\n",
       "[4, 5,  6],\n",
       "[7, 8, 10]])"
      ]
     },
     "metadata": {},
     "output_type": "display_data"
    }
   ],
   "source": [
    "import sympy as sp\n",
    "from sympy import Matrix, Rational\n",
    "from IPython.display import display, Markdown\n",
    "\n",
    "class SymbolicMatrix:\n",
    "    def __init__(self, matrix):\n",
    "        # Zamieniamy wszystkie elementy na typ Rational\n",
    "        self.matrix = Matrix([[Rational(i) for i in row] for row in matrix])\n",
    "        self.operations = []\n",
    "        display(Markdown(\"**Początkowa macierz:**\"))\n",
    "        display(self.matrix)  # Wyświetla macierz po inicjalizacji\n",
    "\n",
    "    def __repr__(self):\n",
    "        return repr(self.matrix)  # Używa repr Matrix\n",
    "\n",
    "    def __str__(self):\n",
    "        return str(self.matrix)  # Używa str Matrix\n",
    "\n",
    "    def _repr_latex_(self):\n",
    "        return self.matrix._repr_latex_()  # Deleguje wyświetlanie LaTeX\n",
    "\n",
    "    def _validate_row_number(self, row):\n",
    "        if not isinstance(row, int):\n",
    "            raise TypeError(\"Numer wiersza musi być liczbą całkowitą.\")\n",
    "        if row < 1 or row > self.matrix.rows:\n",
    "            raise IndexError(f\"Numer wiersza musi być w zakresie od 1 do {self.matrix.rows}.\")\n",
    "        return row - 1\n",
    "\n",
    "    def _validate_col_number(self, col):\n",
    "        if not isinstance(col, int):\n",
    "            raise TypeError(\"Numer kolumny musi być liczbą całkowitą.\")\n",
    "        if col < 1 or col > self.matrix.cols:\n",
    "            raise IndexError(f\"Numer kolumny musi być w zakresie od 1 do {self.matrix.cols}.\")\n",
    "        return col - 1\n",
    "\n",
    "    # Metody dla wierszy\n",
    "    def add_row(self, target_row, source_row, coefficient):\n",
    "        target_idx = self._validate_row_number(target_row)\n",
    "        source_idx = self._validate_row_number(source_row)\n",
    "        self.matrix.row_op(target_idx, lambda v, j: v + Rational(coefficient) * self.matrix[source_idx, j])\n",
    "        operation_str = f\"w{target_row} = w{target_row} + {Rational(coefficient)}*w{source_row}\"\n",
    "        self.operations.append(operation_str)\n",
    "        display(Markdown(f\"**Operacja:** {operation_str}\"))\n",
    "        display(self.matrix)\n",
    "\n",
    "    def multiply_row(self, row, coefficient):\n",
    "        row_idx = self._validate_row_number(row)\n",
    "        self.matrix.row_op(row_idx, lambda v, _: Rational(coefficient) * v)\n",
    "        operation_str = f\"w{row} = {Rational(coefficient)}*w{row}\"\n",
    "        self.operations.append(operation_str)\n",
    "        display(Markdown(f\"**Operacja:** {operation_str}\"))\n",
    "        display(self.matrix)\n",
    "\n",
    "    def swap_rows(self, row1, row2):\n",
    "        row1_idx = self._validate_row_number(row1)\n",
    "        row2_idx = self._validate_row_number(row2)\n",
    "        self.matrix.row_swap(row1_idx, row2_idx)\n",
    "        operation_str = f\"Zamiana w{row1} <-> w{row2}\"\n",
    "        self.operations.append(operation_str)\n",
    "        display(Markdown(f\"**Operacja:** {operation_str}\"))\n",
    "        display(self.matrix)\n",
    "\n",
    "    # Metody dla kolumn\n",
    "    def add_col(self, target_col, source_col, coefficient):\n",
    "        target_idx = self._validate_col_number(target_col)\n",
    "        source_idx = self._validate_col_number(source_col)\n",
    "        self.matrix.col_op(target_idx, lambda v, i: v + Rational(coefficient) * self.matrix[i, source_idx])\n",
    "        operation_str = f\"k{target_col} = k{target_col} + {Rational(coefficient)}*k{source_col}\"\n",
    "        self.operations.append(operation_str)\n",
    "        display(Markdown(f\"**Operacja:** {operation_str}\"))\n",
    "        display(self.matrix)\n",
    "\n",
    "    def multiply_col(self, col, coefficient):\n",
    "        col_idx = self._validate_col_number(col)\n",
    "        self.matrix.col_op(col_idx, lambda v, _: Rational(coefficient) * v)\n",
    "        operation_str = f\"k{col} = {Rational(coefficient)}*k{col}\"\n",
    "        self.operations.append(operation_str)\n",
    "        display(Markdown(f\"**Operacja:** {operation_str}\"))\n",
    "        display(self.matrix)\n",
    "\n",
    "    def swap_cols(self, col1, col2):\n",
    "        col1_idx = self._validate_col_number(col1)\n",
    "        col2_idx = self._validate_col_number(col2)\n",
    "        self.matrix.col_swap(col1_idx, col2_idx)\n",
    "        operation_str = f\"Zamiana k{col1} <-> k{col2}\"\n",
    "        self.operations.append(operation_str)\n",
    "        display(Markdown(f\"**Operacja:** {operation_str}\"))\n",
    "        display(self.matrix)\n",
    "\n",
    "    # Wyświetlenie wykonanych operacji\n",
    "    def print_operations(self):\n",
    "        display(Markdown(\"**Wykonane operacje:**\"))\n",
    "        for op in self.operations:\n",
    "            print(op)\n",
    "\n",
    "# Przykładowe użycie\n",
    "m = SymbolicMatrix([[1, 2, 3], [4, 5, 6], [7, 8, 10]])\n",
    "sympy_matrix = sp.Matrix([[1, 2, 3], [4, 5, 6], [7, 8, 10]])    "
   ]
  },
  {
   "cell_type": "code",
   "execution_count": 3,
   "metadata": {},
   "outputs": [
    {
     "data": {
      "text/markdown": [
       "**Operacja:** w1 = 4*w1"
      ],
      "text/plain": [
       "<IPython.core.display.Markdown object>"
      ]
     },
     "metadata": {},
     "output_type": "display_data"
    },
    {
     "data": {
      "text/latex": [
       "$\\displaystyle \\left[\\begin{matrix}4 & 8 & 12\\\\4 & 5 & 6\\\\7 & 8 & 10\\end{matrix}\\right]$"
      ],
      "text/plain": [
       "Matrix([\n",
       "[4, 8, 12],\n",
       "[4, 5,  6],\n",
       "[7, 8, 10]])"
      ]
     },
     "metadata": {},
     "output_type": "display_data"
    }
   ],
   "source": [
    "m.multiply_row(1,4)"
   ]
  },
  {
   "cell_type": "code",
   "execution_count": 4,
   "metadata": {},
   "outputs": [
    {
     "data": {
      "text/markdown": [
       "**Operacja:** w2 = w2 + -1*w1"
      ],
      "text/plain": [
       "<IPython.core.display.Markdown object>"
      ]
     },
     "metadata": {},
     "output_type": "display_data"
    },
    {
     "data": {
      "text/latex": [
       "$\\displaystyle \\left[\\begin{matrix}4 & 8 & 12\\\\0 & -3 & -6\\\\7 & 8 & 10\\end{matrix}\\right]$"
      ],
      "text/plain": [
       "Matrix([\n",
       "[4,  8, 12],\n",
       "[0, -3, -6],\n",
       "[7,  8, 10]])"
      ]
     },
     "metadata": {},
     "output_type": "display_data"
    }
   ],
   "source": [
    "m.add_row(2,1,-1)"
   ]
  },
  {
   "cell_type": "code",
   "execution_count": 5,
   "metadata": {},
   "outputs": [
    {
     "data": {
      "text/markdown": [
       "**Operacja:** w3 = w3 + -7/4*w1"
      ],
      "text/plain": [
       "<IPython.core.display.Markdown object>"
      ]
     },
     "metadata": {},
     "output_type": "display_data"
    },
    {
     "data": {
      "text/latex": [
       "$\\displaystyle \\left[\\begin{matrix}4 & 8 & 12\\\\0 & -3 & -6\\\\0 & -6 & -11\\end{matrix}\\right]$"
      ],
      "text/plain": [
       "Matrix([\n",
       "[4,  8,  12],\n",
       "[0, -3,  -6],\n",
       "[0, -6, -11]])"
      ]
     },
     "metadata": {},
     "output_type": "display_data"
    }
   ],
   "source": [
    "m.add_row(3,1,-7/4)"
   ]
  },
  {
   "cell_type": "code",
   "execution_count": 6,
   "metadata": {},
   "outputs": [
    {
     "data": {
      "text/markdown": [
       "**Operacja:** w3 = w3 + -2*w2"
      ],
      "text/plain": [
       "<IPython.core.display.Markdown object>"
      ]
     },
     "metadata": {},
     "output_type": "display_data"
    },
    {
     "data": {
      "text/latex": [
       "$\\displaystyle \\left[\\begin{matrix}4 & 8 & 12\\\\0 & -3 & -6\\\\0 & 0 & 1\\end{matrix}\\right]$"
      ],
      "text/plain": [
       "Matrix([\n",
       "[4,  8, 12],\n",
       "[0, -3, -6],\n",
       "[0,  0,  1]])"
      ]
     },
     "metadata": {},
     "output_type": "display_data"
    }
   ],
   "source": [
    "m.add_row(3,2,-2)"
   ]
  },
  {
   "cell_type": "code",
   "execution_count": 8,
   "metadata": {},
   "outputs": [
    {
     "data": {
      "text/plain": [
       "False"
      ]
     },
     "execution_count": 8,
     "metadata": {},
     "output_type": "execute_result"
    }
   ],
   "source": [
    "# Wyznacznik macierzy trójkątnej jest iloczynem elementów na przekątnej!\n",
    "sympy_matrix.det() == 4*(-3)*1"
   ]
  },
  {
   "cell_type": "markdown",
   "metadata": {},
   "source": [
    "# Zadania dla studentów\n",
    "\n",
    "Operacjami na wierszach i kolumnach sprowadź macierze do postaci trójkątnej górnej i policz ich wyznaczniki.\n",
    "\n",
    "1. \n",
    "$$\n",
    "A = \\begin{bmatrix}\n",
    "12 &3\\\\\n",
    "-18 &-4\n",
    "\\end{bmatrix}\n",
    "$$\n",
    "\n",
    "2.\n",
    "\n",
    "$$\n",
    "B=\\begin{bmatrix} \n",
    "1 & 2 & 3 \\\\\n",
    "4 & 5 & 6 \\\\\n",
    "7 & 8 & 9 \n",
    "\\end{bmatrix}$$\n",
    "$$"
   ]
  },
  {
   "cell_type": "markdown",
   "metadata": {},
   "source": []
  }
 ],
 "metadata": {
  "kernelspec": {
   "display_name": ".venv",
   "language": "python",
   "name": "python3"
  },
  "language_info": {
   "codemirror_mode": {
    "name": "ipython",
    "version": 3
   },
   "file_extension": ".py",
   "mimetype": "text/x-python",
   "name": "python",
   "nbconvert_exporter": "python",
   "pygments_lexer": "ipython3",
   "version": "3.11.9"
  }
 },
 "nbformat": 4,
 "nbformat_minor": 2
}
