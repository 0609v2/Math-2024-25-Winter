{
 "cells": [
  {
   "cell_type": "markdown",
   "metadata": {},
   "source": [
    "## Podstawowe operacje na macierzach\n",
    "\n",
    "### Dodawanie macierzy\n",
    "\n",
    "Niech $A=[a_{ij}]$ i $B=[b_{ij}]$ będą dwiema macierzami o wymiarach $m \\times n$. Wówczas suma macierzy $A$ i $B$ jest macierzą $C=[c_{ij}]$ o wymiarach $m \\times n$, gdzie $c_{ij}=a_{ij}+b_{ij}$.\n",
    "\n",
    "### Mnożenie macierzy przez skalar\n",
    "\n",
    "Niech $A=[a_{ij}]$ będzie macierzą o wymiarach $m \\times n$, a $k$ będzie skalar. Wówczas iloczyn macierzy $A$ i skalaru $k$ jest macierzą $B=[b_{ij}]$ o wymiarach $m \\times n$, gdzie $b_{ij}=k \\cdot a_{ij}$.\n",
    "\n",
    "### Mnożenie macierzy\n",
    "\n",
    "Niech $A=[a_{ij}]$ będzie macierzą o wymiarach $m \\times n$, a $B=[b_{ij}]$ będzie macierzą o wymiarach $n \\times p$. Wówczas iloczyn macierzy $A$ i $B$ jest macierzą $C=[c_{ij}]$ o wymiarach $m \\times p$, gdzie $c_{ij}=\\sum_{k=1}^{n} a_{ik} \\cdot b_{kj}$."
   ]
  },
  {
   "cell_type": "markdown",
   "metadata": {},
   "source": [
    "### Przykład 1\n",
    "\n",
    "Niech $A=\\begin{bmatrix} 1 & 2 \\\\ 3 & 4 \\end{bmatrix}$ i $B=\\begin{bmatrix} 5 & 6 \\\\ 7 & 8 \\end{bmatrix}$. \n",
    "Wówczas suma macierzy $A$ i $B$ wynosi \n",
    "\n",
    "$$\n",
    "C=\n",
    "A+B=\\begin{bmatrix} 1+5 & 2+6 \\\\ 3+7 & 4+8 \\end{bmatrix}=\\begin{bmatrix} 6 & 8 \\\\ 10 & 12 \\end{bmatrix}.\n",
    "$$\n",
    "\n",
    "### Przykład 2\n",
    "\n",
    "Niech $A=\\begin{bmatrix} 1 & 2 \\\\ 3 & 4 \\end{bmatrix}$ i $k=2$.\n",
    "\n",
    "Wówczas iloczyn macierzy $A$ i skalaru $k$ wynosi\n",
    "\n",
    "$$\n",
    "B=\n",
    "k \\cdot A=2 \\cdot \\begin{bmatrix} 1 & 2 \\\\ 3 & 4 \\end{bmatrix}=\\begin{bmatrix} 2*1 & 2*2 \\\\ 2*3 & 2*4 \\end{bmatrix}=\\begin{bmatrix} 2 & 4 \\\\ 6 & 8 \\end{bmatrix}.\n",
    "$$\n",
    "\n",
    "### Przykład 3\n",
    "\n",
    "Niech \n",
    "$A=\\begin{bmatrix} 1 & 2 \\\\ 3 & 4 \\end{bmatrix}$ \n",
    "i \n",
    "$B=\\begin{bmatrix} 5 & 6 \\\\ 7 & 8 \\end{bmatrix}$.\n",
    "\n",
    "Wówczas iloczyn macierzy $A$ i $B$ wynosi\n",
    "\n",
    "$$\n",
    "C=\n",
    "A \\cdot B=\\begin{bmatrix} 1*5+2*7 & 1*6+2*8 \\\\ 3*5+4*7 & 3*6+4*8 \\end{bmatrix}=\\begin{bmatrix} 19 & 22 \\\\ 43 & 50 \\end{bmatrix}.\n",
    "$$\n"
   ]
  },
  {
   "cell_type": "code",
   "execution_count": 6,
   "metadata": {},
   "outputs": [
    {
     "data": {
      "text/latex": [
       "$\\displaystyle \\left[\\begin{matrix}1 & 2\\\\3 & 4\\end{matrix}\\right]$"
      ],
      "text/plain": [
       "Matrix([\n",
       "[1, 2],\n",
       "[3, 4]])"
      ]
     },
     "execution_count": 6,
     "metadata": {},
     "output_type": "execute_result"
    }
   ],
   "source": [
    "# Przyklad  dodawania w sympy\n",
    "import sympy as sp\n",
    "\n",
    "A=sp.Matrix([[1,2],[3,4]])\n",
    "B=sp.Matrix([[5,6],[7,8]])\n",
    "A # wyswietla macierz A"
   ]
  },
  {
   "cell_type": "code",
   "execution_count": 7,
   "metadata": {},
   "outputs": [
    {
     "data": {
      "text/latex": [
       "$\\displaystyle \\left[\\begin{matrix}5 & 6\\\\7 & 8\\end{matrix}\\right]$"
      ],
      "text/plain": [
       "Matrix([\n",
       "[5, 6],\n",
       "[7, 8]])"
      ]
     },
     "execution_count": 7,
     "metadata": {},
     "output_type": "execute_result"
    }
   ],
   "source": [
    "B # wyswietla macierz B"
   ]
  },
  {
   "cell_type": "code",
   "execution_count": 11,
   "metadata": {},
   "outputs": [
    {
     "data": {
      "text/plain": [
       "True"
      ]
     },
     "execution_count": 11,
     "metadata": {},
     "output_type": "execute_result"
    }
   ],
   "source": [
    "sp.Matrix([[6,8],[10,12]])==A+B # sprawdzamy poprawnosc dodawania"
   ]
  },
  {
   "cell_type": "code",
   "execution_count": 9,
   "metadata": {},
   "outputs": [
    {
     "data": {
      "text/plain": [
       "True"
      ]
     },
     "execution_count": 9,
     "metadata": {},
     "output_type": "execute_result"
    }
   ],
   "source": [
    "# Przyklad mnożenia macierzy przez skalar\n",
    "\n",
    "A=sp.Matrix([[1,2],[3,4]]) # definicja macierzy A\n",
    "\n",
    "sp.Matrix([[2,4],[6,8]])==2*A # sprawdzamy poprawnosc mnozenia przez skalar"
   ]
  },
  {
   "cell_type": "code",
   "execution_count": 10,
   "metadata": {},
   "outputs": [
    {
     "data": {
      "text/plain": [
       "True"
      ]
     },
     "execution_count": 10,
     "metadata": {},
     "output_type": "execute_result"
    }
   ],
   "source": [
    "# Przyklad mnożenia macierzy\n",
    "\n",
    "A=sp.Matrix([[1,2],[3,4]]) # definicja macierzy A\n",
    "B=sp.Matrix([[5,6],[7,8]]) # definicja macierzy B\n",
    "\n",
    "sp.Matrix([[19,22],[43,50]])==A*B # sprawdzamy poprawnosc mnozenia macierzy"
   ]
  },
  {
   "cell_type": "markdown",
   "metadata": {},
   "source": [
    "### Zadania dla studentów\n",
    "\n",
    "1. Oblicz sumę macierzy $A=\\begin{bmatrix} 1 & 2 \\\\ 3 & 4 \\end{bmatrix}$ i $B=\\begin{bmatrix} 5 & 6 \\\\ 7 & 8 \\end{bmatrix}$.\n",
    "\n",
    "2. Oblicz iloczyn macierzy $A=\\begin{bmatrix} 4 & 2 \\\\ 12 & 4 \\end{bmatrix}$ i skalaru $k=\\frac{1}{4}$.\n",
    "\n",
    "\n"
   ]
  },
  {
   "cell_type": "markdown",
   "metadata": {},
   "source": []
  }
 ],
 "metadata": {
  "kernelspec": {
   "display_name": ".venv",
   "language": "python",
   "name": "python3"
  },
  "language_info": {
   "codemirror_mode": {
    "name": "ipython",
    "version": 3
   },
   "file_extension": ".py",
   "mimetype": "text/x-python",
   "name": "python",
   "nbconvert_exporter": "python",
   "pygments_lexer": "ipython3",
   "version": "3.11.9"
  }
 },
 "nbformat": 4,
 "nbformat_minor": 2
}
