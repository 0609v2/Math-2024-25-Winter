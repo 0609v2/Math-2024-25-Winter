{
 "cells": [
  {
   "cell_type": "markdown",
   "metadata": {},
   "source": [
    "# Wstęp do Jupyter Notebook\n",
    "\n",
    "Jupyter Notebook to interaktywne środowisko programistyczne, które pozwala na tworzenie i udostępnianie dokumentów zawierających kod, równania, wizualizacje i tekst. Jest to narzędzie, które pozwala na tworzenie raportów, prezentacji, a także na naukę programowania.\n",
    "\n",
    "Większe partie tekstu w Jupyter Notebooku pisane są w formacie Markdown, który pozwala na formatowanie tekstu. Poniżej znajduje się kilka przykładów formatowania tekstu w  [Markdown](https://www.markdownguide.org/cheat-sheet/). Wzory matematyczne można wprowadzać za pomocą składni [LaTeX](https://tilburgsciencehub.com/topics/research-skills/templates-dynamic-content/templates/amsmath-latex-cheatsheet/).\n",
    "\n",
    "Dodatkowe obliczenia matematyczne można wykonywać za pomocą kodu w języku Python.\n",
    "Python jest językiem programowania, który jest łatwy do nauki i czytania. Składnia Pythona jest przejrzysta i intuicyjna, co pozwala na szybkie tworzenie skryptów i programów. W Jupyter Notebooku można wykonywać kod Pythona w komórkach kodu. Poniżej znajduje się kilka przykładów kodu w Pythonie."
   ]
  },
  {
   "cell_type": "code",
   "execution_count": 53,
   "metadata": {},
   "outputs": [
    {
     "data": {
      "text/plain": [
       "1267650600228229401496703205376"
      ]
     },
     "execution_count": 53,
     "metadata": {},
     "output_type": "execute_result"
    }
   ],
   "source": [
    "# python jako kalulator\n",
    "2**100"
   ]
  },
  {
   "cell_type": "code",
   "execution_count": 54,
   "metadata": {},
   "outputs": [
    {
     "name": "stdout",
     "output_type": "stream",
     "text": [
      "Pierwiastek kwadratowy z 2 to 1.4142135623730951\n",
      "Sinus 30 stopni to 0.49999999999999994\n"
     ]
    }
   ],
   "source": [
    "# Aby policzyć bardziej skomplikowane wyrażenia, trzeba użyć dodatkowych modułów\n",
    "import math # moduł matematyczny\n",
    "print(f\"Pierwiastek kwadratowy z 2 to {math.sqrt(2)}\")\n",
    "print(f\"Sinus 30 stopni to {math.sin(math.radians(30))}\")\n"
   ]
  },
  {
   "cell_type": "code",
   "execution_count": 55,
   "metadata": {},
   "outputs": [
    {
     "name": "stdout",
     "output_type": "stream",
     "text": [
      "Sinus 30 stopni to 0.49999999999999994\n",
      "Logarytm o podstawie 10 z 2 to 0.3010299956639812\n",
      "Długość wektora [1,1,1,1,1] to 2.23606797749979\n"
     ]
    }
   ],
   "source": [
    "\n",
    "import numpy as np # moduł do obliczeń numerycznych\n",
    "print(f\"Sinus 30 stopni to {np.sin(np.radians(30))}\")\n",
    "print(f\"Logarytm o podstawie 10 z 2 to {np.log10(2)}\")\n",
    "print(f\"Długość wektora [1,1,1,1,1] to {np.linalg.norm([1, 1, 1, 1, 1])}\")"
   ]
  },
  {
   "cell_type": "code",
   "execution_count": 56,
   "metadata": {},
   "outputs": [
    {
     "name": "stdout",
     "output_type": "stream",
     "text": [
      "Wyznacznik macierzy A to -2.0000000000000004\n"
     ]
    }
   ],
   "source": [
    "# Wyznacznik macierzy\n",
    "A = np.array([[1, 2], [3, 4]])\n",
    "print(f\"Wyznacznik macierzy A to {np.linalg.det(A)}\")"
   ]
  },
  {
   "cell_type": "code",
   "execution_count": 57,
   "metadata": {},
   "outputs": [
    {
     "name": "stdout",
     "output_type": "stream",
     "text": [
      "Rozwiązanie układu równań Ax=b to x=[-3.  4.]\n"
     ]
    }
   ],
   "source": [
    "# Rozwiązywanie układów równań\n",
    "b = np.array([5, 7])\n",
    "x = np.linalg.solve(A, b)\n",
    "print(f\"Rozwiązanie układu równań Ax=b to x={x}\")"
   ]
  },
  {
   "cell_type": "code",
   "execution_count": 58,
   "metadata": {},
   "outputs": [
    {
     "name": "stdout",
     "output_type": "stream",
     "text": [
      "0.333333333333333314829616256247\n"
     ]
    }
   ],
   "source": [
    "# Niestety rozwiązania numeryczne zawsze są aproksymacją, a nie dokładnym rozwiązaniem. \n",
    "print(f\"{1/3:.30f}\")"
   ]
  },
  {
   "cell_type": "code",
   "execution_count": 59,
   "metadata": {},
   "outputs": [],
   "source": [
    "# Python pozwala na obliczenia symboliczne\n",
    "import sympy as sp\n",
    "x,y,z = sp.symbols('x y z') # deklaracja zmiennych\n",
    "f,g = sp.symbols('f g', cls=sp.Function) # deklaracja funkcji\n",
    "\n",
    "f=f(x)\n",
    "g=x**2+y**2"
   ]
  },
  {
   "cell_type": "code",
   "execution_count": 60,
   "metadata": {},
   "outputs": [
    {
     "data": {
      "text/latex": [
       "$\\displaystyle x + y$"
      ],
      "text/plain": [
       "x + y"
      ]
     },
     "execution_count": 60,
     "metadata": {},
     "output_type": "execute_result"
    }
   ],
   "source": [
    "x+y # operacje na zmiennych"
   ]
  },
  {
   "cell_type": "code",
   "execution_count": 61,
   "metadata": {},
   "outputs": [
    {
     "data": {
      "text/latex": [
       "$\\displaystyle x^{2} - 2 x y + y^{2}$"
      ],
      "text/plain": [
       "x**2 - 2*x*y + y**2"
      ]
     },
     "execution_count": 61,
     "metadata": {},
     "output_type": "execute_result"
    }
   ],
   "source": [
    "eq1=((x-y)**2).expand() # rozwinięcie wyrażenia\n",
    "eq1"
   ]
  },
  {
   "cell_type": "code",
   "execution_count": 62,
   "metadata": {},
   "outputs": [
    {
     "data": {
      "text/latex": [
       "$\\displaystyle y^{2} - 2 y + 1$"
      ],
      "text/plain": [
       "y**2 - 2*y + 1"
      ]
     },
     "execution_count": 62,
     "metadata": {},
     "output_type": "execute_result"
    }
   ],
   "source": [
    "eq2=eq1.subs(x,1) # podstawienie wartości\n",
    "eq2"
   ]
  },
  {
   "cell_type": "code",
   "execution_count": 63,
   "metadata": {},
   "outputs": [
    {
     "data": {
      "text/latex": [
       "$\\displaystyle \\left\\{1\\right\\}$"
      ],
      "text/plain": [
       "{1}"
      ]
     },
     "execution_count": 63,
     "metadata": {},
     "output_type": "execute_result"
    }
   ],
   "source": [
    "# rozwiązanie eq2\n",
    "sol=sp.solveset(eq2,y)\n",
    "sol"
   ]
  },
  {
   "cell_type": "code",
   "execution_count": 64,
   "metadata": {},
   "outputs": [
    {
     "data": {
      "text/latex": [
       "$\\displaystyle \\cos{\\left(x \\right)}$"
      ],
      "text/plain": [
       "cos(x)"
      ]
     },
     "execution_count": 64,
     "metadata": {},
     "output_type": "execute_result"
    }
   ],
   "source": [
    "# różniczkowanie\n",
    "f=sp.sin(x)\n",
    "sp.diff(f,x)\n"
   ]
  },
  {
   "cell_type": "code",
   "execution_count": 67,
   "metadata": {},
   "outputs": [
    {
     "data": {
      "text/latex": [
       "$\\displaystyle \\sin{\\left(x^{\\cos{\\left(x \\right)}} \\right)}$"
      ],
      "text/plain": [
       "sin(x**cos(x))"
      ]
     },
     "execution_count": 67,
     "metadata": {},
     "output_type": "execute_result"
    }
   ],
   "source": [
    "# bardziej skomplikowane wyrażenia\n",
    "f=sp.sin(x**sp.cos(x))\n",
    "f"
   ]
  },
  {
   "cell_type": "code",
   "execution_count": 68,
   "metadata": {},
   "outputs": [
    {
     "data": {
      "text/latex": [
       "$\\displaystyle x^{\\cos{\\left(x \\right)}} \\left(- \\log{\\left(x \\right)} \\sin{\\left(x \\right)} + \\frac{\\cos{\\left(x \\right)}}{x}\\right) \\cos{\\left(x^{\\cos{\\left(x \\right)}} \\right)}$"
      ],
      "text/plain": [
       "x**cos(x)*(-log(x)*sin(x) + cos(x)/x)*cos(x**cos(x))"
      ]
     },
     "execution_count": 68,
     "metadata": {},
     "output_type": "execute_result"
    }
   ],
   "source": [
    "f.diff(x)"
   ]
  },
  {
   "cell_type": "code",
   "execution_count": 70,
   "metadata": {},
   "outputs": [
    {
     "data": {
      "text/latex": [
       "$\\displaystyle \\frac{x \\sin^{2}{\\left(x \\right)}}{4} - \\frac{x \\cos^{2}{\\left(x \\right)}}{4} + \\frac{\\sin{\\left(x \\right)} \\cos{\\left(x \\right)}}{4}$"
      ],
      "text/plain": [
       "x*sin(x)**2/4 - x*cos(x)**2/4 + sin(x)*cos(x)/4"
      ]
     },
     "execution_count": 70,
     "metadata": {},
     "output_type": "execute_result"
    }
   ],
   "source": [
    "# całkowanie\n",
    "f=sp.sin(x)*sp.cos(x)*x\n",
    "f.integrate(x)"
   ]
  },
  {
   "cell_type": "code",
   "execution_count": null,
   "metadata": {},
   "outputs": [],
   "source": []
  }
 ],
 "metadata": {
  "kernelspec": {
   "display_name": ".venv",
   "language": "python",
   "name": "python3"
  },
  "language_info": {
   "codemirror_mode": {
    "name": "ipython",
    "version": 3
   },
   "file_extension": ".py",
   "mimetype": "text/x-python",
   "name": "python",
   "nbconvert_exporter": "python",
   "pygments_lexer": "ipython3",
   "version": "3.11.9"
  }
 },
 "nbformat": 4,
 "nbformat_minor": 2
}
