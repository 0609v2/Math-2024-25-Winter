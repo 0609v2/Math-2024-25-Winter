{
  "cells": [
    {
      "cell_type": "markdown",
      "metadata": {
        "id": "4RQMhgsSMYuy"
      },
      "source": [
        "# Wstęp do Jupyter Notebook\n",
        "\n",
        "**Jupyter Notebook** to interaktywne środowisko programistyczne, które pozwala na tworzenie i udostępnianie dokumentów zawierających kod, równania, wizualizacje i tekst. Jest to narzędzie, które pozwala na tworzenie raportów, prezentacji, a także na naukę programowania.\n",
        "\n",
        "Większe partie tekstu w Jupyter Notebooku pisane są w formacie **Markdown**, który pozwala na formatowanie tekstu. Poniżej znajduje się kilka przykładów formatowania tekstu w  [Markdown](https://www.markdownguide.org/cheat-sheet/) (więcej przykładów: [tu](https://quarto.org/docs/authoring/markdown-basics.html) oraz [tu](https://markdown-it.github.io/)). Wzory matematyczne można wprowadzać za pomocą składni [LaTeX](https://tilburgsciencehub.com/topics/research-skills/templates-dynamic-content/templates/amsmath-latex-cheatsheet/).\n",
        "\n",
        "Dodatkowe obliczenia matematyczne można wykonywać za pomocą kodu w języku **Python**. Python jest językiem programowania, który jest łatwy do nauki i czytania. Składnia Pythona jest przejrzysta i intuicyjna, co pozwala na szybkie tworzenie skryptów i programów. W Jupyter Notebooku można wykonywać kod Pythona w komórkach kodu. Poniżej znajduje się kilka przykładów kodu w Pythonie.\n",
        "\n",
        "**Colab** to hostowana przez Google usługa Jupyter Notebook, która nie wymaga konfiguracji i zapewnia bezpłatny dostęp do zasobów obliczeniowych, w tym procesorów graficznych. Colab szczególnie dobrze nadaje się do uczenia maszynowego, nauki o danych i edukacji."
      ]
    },
    {
      "cell_type": "markdown",
      "source": [
        "## Wstęp do matematyki w Jupyter Notebooks"
      ],
      "metadata": {
        "id": "G6-7ELzKRFYm"
      }
    },
    {
      "cell_type": "code",
      "execution_count": 12,
      "metadata": {
        "colab": {
          "base_uri": "https://localhost:8080/"
        },
        "id": "R7t1WkmlMYuz",
        "outputId": "90321bb6-8804-4f17-9030-0cc8e37a24b0"
      },
      "outputs": [
        {
          "output_type": "execute_result",
          "data": {
            "text/plain": [
              "1267650600228229401496703205376"
            ]
          },
          "metadata": {},
          "execution_count": 12
        }
      ],
      "source": [
        "# python jako kalulator\n",
        "2**100"
      ]
    },
    {
      "cell_type": "code",
      "source": [
        "# Aby policzyć bardziej skomplikowane wyrażenia, trzeba użyć dodatkowych modułów (math, numpy, sympy)\n",
        "\n",
        "import math # moduł matematyczny\n",
        "\n",
        "# Zwróć sinus\n",
        "print (math.sin(math.pi))\n",
        "print (math.sin(math.pi/2))"
      ],
      "metadata": {
        "colab": {
          "base_uri": "https://localhost:8080/"
        },
        "id": "wc4-QLEXNdQx",
        "outputId": "64e169db-0d40-4ee5-aa78-898560aafe0b"
      },
      "execution_count": 29,
      "outputs": [
        {
          "output_type": "stream",
          "name": "stdout",
          "text": [
            "1.2246467991473532e-16\n",
            "1.0\n"
          ]
        }
      ]
    },
    {
      "cell_type": "code",
      "execution_count": 11,
      "metadata": {
        "colab": {
          "base_uri": "https://localhost:8080/"
        },
        "id": "BWPonIFNMYuz",
        "outputId": "52d98986-c191-4589-e425-db3a2d8f096a"
      },
      "outputs": [
        {
          "output_type": "stream",
          "name": "stdout",
          "text": [
            "Pierwiastek kwadratowy z 2 to 1.4142135623730951\n",
            "Sinus 30 stopni to 0.49999999999999994\n"
          ]
        }
      ],
      "source": [
        "# Prezentowanie wyników\n",
        "import math # moduł do obliczeń matematycznych\n",
        "print(f\"Pierwiastek kwadratowy z 2 to {math.sqrt(2)}\")\n",
        "print(f\"Sinus 30 stopni to {math.sin(math.radians(30))}\")"
      ]
    },
    {
      "cell_type": "code",
      "execution_count": null,
      "metadata": {
        "id": "X_-GRTicMYu0",
        "outputId": "11150131-9898-4f77-a4bc-207af8f00645"
      },
      "outputs": [
        {
          "name": "stdout",
          "output_type": "stream",
          "text": [
            "Sinus 30 stopni to 0.49999999999999994\n",
            "Logarytm o podstawie 10 z 2 to 0.3010299956639812\n",
            "Długość wektora [1,1,1,1,1] to 2.23606797749979\n"
          ]
        }
      ],
      "source": [
        "import numpy as np # moduł do obliczeń numerycznych\n",
        "print(f\"Sinus 30 stopni to {np.sin(np.radians(30))}\")\n",
        "print(f\"Logarytm o podstawie 10 z 2 to {np.log10(2)}\")\n",
        "print(f\"Długość wektora [1,1,1,1,1] to {np.linalg.norm([1, 1, 1, 1, 1])}\")"
      ]
    },
    {
      "cell_type": "code",
      "source": [
        "import sympy as sp # moduł do obliczeń symbolicznych\n",
        "x, y = sp.symbols('x y')\n",
        "expr = (4*x**2 + 8*x*y + 4*y**2)/(x+y)\n",
        "simplified_expr = sp.simplify(expr) # skrócenie wyrażenia\n",
        "print(f\"Oryginalne wyrażenie: {expr}\")\n",
        "print(f\"Uproszczone wyrażenie: {simplified_expr}\")"
      ],
      "metadata": {
        "id": "lMSGXOIGSYto",
        "outputId": "e3a59dfd-c70c-41d4-e32b-d85c44b92489",
        "colab": {
          "base_uri": "https://localhost:8080/"
        }
      },
      "execution_count": 34,
      "outputs": [
        {
          "output_type": "stream",
          "name": "stdout",
          "text": [
            "Oryginalne wyrażenie: (4*x**2 + 8*x*y + 4*y**2)/(x + y)\n",
            "Uproszczone wyrażenie: 4*x + 4*y\n"
          ]
        }
      ]
    },
    {
      "cell_type": "code",
      "execution_count": null,
      "metadata": {
        "id": "hNSVICqMMYu0",
        "outputId": "ecd107bd-7e00-4fcd-f4f7-ea660eedd9e9"
      },
      "outputs": [
        {
          "name": "stdout",
          "output_type": "stream",
          "text": [
            "Wyznacznik macierzy A to -2.0000000000000004\n"
          ]
        }
      ],
      "source": [
        "# Wyznacznik macierzy\n",
        "A = np.array([[1, 2], [3, 4]])\n",
        "print(f\"Wyznacznik macierzy A to {np.linalg.det(A)}\")"
      ]
    },
    {
      "cell_type": "code",
      "execution_count": null,
      "metadata": {
        "id": "_1qa_1NAMYu0",
        "outputId": "9f587029-dbf6-4cee-f927-b073d9955a50"
      },
      "outputs": [
        {
          "name": "stdout",
          "output_type": "stream",
          "text": [
            "Rozwiązanie układu równań Ax=b to x=[-3.  4.]\n"
          ]
        }
      ],
      "source": [
        "# Rozwiązywanie układów równań\n",
        "b = np.array([5, 7])\n",
        "x = np.linalg.solve(A, b)\n",
        "print(f\"Rozwiązanie układu równań Ax=b to x={x}\")"
      ]
    },
    {
      "cell_type": "code",
      "execution_count": null,
      "metadata": {
        "id": "4a0aEaMnMYu0",
        "outputId": "4f2310d4-b14e-4fcb-9f59-db75880419b3"
      },
      "outputs": [
        {
          "name": "stdout",
          "output_type": "stream",
          "text": [
            "0.333333333333333314829616256247\n"
          ]
        }
      ],
      "source": [
        "# Niestety rozwiązania numeryczne zawsze są aproksymacją, a nie dokładnym rozwiązaniem.\n",
        "print(f\"{1/3:.30f}\")"
      ]
    },
    {
      "cell_type": "code",
      "execution_count": null,
      "metadata": {
        "id": "T3GDWE6sMYu0"
      },
      "outputs": [],
      "source": [
        "# Python pozwala na obliczenia symboliczne\n",
        "import sympy as sp\n",
        "x,y,z = sp.symbols('x y z') # deklaracja zmiennych\n",
        "f,g = sp.symbols('f g', cls=sp.Function) # deklaracja funkcji\n",
        "\n",
        "f=f(x)\n",
        "g=x**2+y**2"
      ]
    },
    {
      "cell_type": "code",
      "execution_count": null,
      "metadata": {
        "id": "VQiDFx2xMYu0",
        "outputId": "598a7879-c6f0-42e6-d154-61d4d44915d8"
      },
      "outputs": [
        {
          "data": {
            "text/latex": [
              "$\\displaystyle x + y$"
            ],
            "text/plain": [
              "x + y"
            ]
          },
          "execution_count": 60,
          "metadata": {},
          "output_type": "execute_result"
        }
      ],
      "source": [
        "x+y # operacje na zmiennych"
      ]
    },
    {
      "cell_type": "code",
      "execution_count": null,
      "metadata": {
        "id": "nHRRQFuiMYu1",
        "outputId": "ee15d070-fc38-4bf2-c4a6-d7c378d66a83"
      },
      "outputs": [
        {
          "data": {
            "text/latex": [
              "$\\displaystyle x^{2} - 2 x y + y^{2}$"
            ],
            "text/plain": [
              "x**2 - 2*x*y + y**2"
            ]
          },
          "execution_count": 61,
          "metadata": {},
          "output_type": "execute_result"
        }
      ],
      "source": [
        "eq1=((x-y)**2).expand() # rozwinięcie wyrażenia\n",
        "eq1"
      ]
    },
    {
      "cell_type": "code",
      "execution_count": null,
      "metadata": {
        "id": "zeoRcyAEMYu1",
        "outputId": "1021cd81-61a3-4fbf-c1c7-58fb5156fea5"
      },
      "outputs": [
        {
          "data": {
            "text/latex": [
              "$\\displaystyle y^{2} - 2 y + 1$"
            ],
            "text/plain": [
              "y**2 - 2*y + 1"
            ]
          },
          "execution_count": 62,
          "metadata": {},
          "output_type": "execute_result"
        }
      ],
      "source": [
        "eq2=eq1.subs(x,1) # podstawienie wartości\n",
        "eq2"
      ]
    },
    {
      "cell_type": "code",
      "execution_count": null,
      "metadata": {
        "id": "PCkkk-HZMYu1",
        "outputId": "6fc0e444-35e7-4880-ced8-66027ac1b364"
      },
      "outputs": [
        {
          "data": {
            "text/latex": [
              "$\\displaystyle \\left\\{1\\right\\}$"
            ],
            "text/plain": [
              "{1}"
            ]
          },
          "execution_count": 63,
          "metadata": {},
          "output_type": "execute_result"
        }
      ],
      "source": [
        "# rozwiązanie eq2\n",
        "sol=sp.solveset(eq2,y)\n",
        "sol"
      ]
    },
    {
      "cell_type": "code",
      "execution_count": null,
      "metadata": {
        "id": "kBXDaY-2MYu1",
        "outputId": "8a4226a4-e111-4b59-fcf8-97ab152ab3de"
      },
      "outputs": [
        {
          "data": {
            "text/latex": [
              "$\\displaystyle \\cos{\\left(x \\right)}$"
            ],
            "text/plain": [
              "cos(x)"
            ]
          },
          "execution_count": 64,
          "metadata": {},
          "output_type": "execute_result"
        }
      ],
      "source": [
        "# różniczkowanie\n",
        "f=sp.sin(x)\n",
        "sp.diff(f,x)\n"
      ]
    },
    {
      "cell_type": "code",
      "execution_count": null,
      "metadata": {
        "id": "-60QJ-QnMYu1",
        "outputId": "b9f0d84d-b5f8-4e3b-b6df-c45b9854a720"
      },
      "outputs": [
        {
          "data": {
            "text/latex": [
              "$\\displaystyle \\sin{\\left(x^{\\cos{\\left(x \\right)}} \\right)}$"
            ],
            "text/plain": [
              "sin(x**cos(x))"
            ]
          },
          "execution_count": 67,
          "metadata": {},
          "output_type": "execute_result"
        }
      ],
      "source": [
        "# bardziej skomplikowane wyrażenia\n",
        "f=sp.sin(x**sp.cos(x))\n",
        "f"
      ]
    },
    {
      "cell_type": "code",
      "execution_count": null,
      "metadata": {
        "id": "-PAlB6dvMYu1",
        "outputId": "8dc261a7-401d-4d5c-e66e-e24b3f218d4f"
      },
      "outputs": [
        {
          "data": {
            "text/latex": [
              "$\\displaystyle x^{\\cos{\\left(x \\right)}} \\left(- \\log{\\left(x \\right)} \\sin{\\left(x \\right)} + \\frac{\\cos{\\left(x \\right)}}{x}\\right) \\cos{\\left(x^{\\cos{\\left(x \\right)}} \\right)}$"
            ],
            "text/plain": [
              "x**cos(x)*(-log(x)*sin(x) + cos(x)/x)*cos(x**cos(x))"
            ]
          },
          "execution_count": 68,
          "metadata": {},
          "output_type": "execute_result"
        }
      ],
      "source": [
        "f.diff(x)"
      ]
    },
    {
      "cell_type": "code",
      "execution_count": null,
      "metadata": {
        "id": "MicVcyAvMYu1",
        "outputId": "917edcdc-adf0-492c-cf06-f3f46c0f1da5"
      },
      "outputs": [
        {
          "data": {
            "text/latex": [
              "$\\displaystyle \\frac{x \\sin^{2}{\\left(x \\right)}}{4} - \\frac{x \\cos^{2}{\\left(x \\right)}}{4} + \\frac{\\sin{\\left(x \\right)} \\cos{\\left(x \\right)}}{4}$"
            ],
            "text/plain": [
              "x*sin(x)**2/4 - x*cos(x)**2/4 + sin(x)*cos(x)/4"
            ]
          },
          "execution_count": 70,
          "metadata": {},
          "output_type": "execute_result"
        }
      ],
      "source": [
        "# całkowanie\n",
        "f=sp.sin(x)*sp.cos(x)*x\n",
        "f.integrate(x)"
      ]
    },
    {
      "cell_type": "code",
      "execution_count": null,
      "metadata": {
        "id": "LFJWw7zIMYu2"
      },
      "outputs": [],
      "source": []
    }
  ],
  "metadata": {
    "kernelspec": {
      "display_name": ".venv",
      "language": "python",
      "name": "python3"
    },
    "language_info": {
      "codemirror_mode": {
        "name": "ipython",
        "version": 3
      },
      "file_extension": ".py",
      "mimetype": "text/x-python",
      "name": "python",
      "nbconvert_exporter": "python",
      "pygments_lexer": "ipython3",
      "version": "3.11.9"
    },
    "colab": {
      "provenance": []
    }
  },
  "nbformat": 4,
  "nbformat_minor": 0
}