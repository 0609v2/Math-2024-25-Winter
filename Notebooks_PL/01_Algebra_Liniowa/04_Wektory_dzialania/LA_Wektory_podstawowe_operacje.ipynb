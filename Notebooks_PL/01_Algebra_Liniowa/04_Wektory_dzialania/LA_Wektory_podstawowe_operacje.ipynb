{
 "cells": [
  {
   "cell_type": "markdown",
   "metadata": {},
   "source": [
    "# Operacje na wektorach"
   ]
  },
  {
   "cell_type": "markdown",
   "metadata": {},
   "source": [
    "## Dodawanie wektorów\n",
    "\n",
    "Dodawanie wektorów polega na dodaniu współrzędnych wektorów o takiej samej długości.\n",
    "\n",
    "Dla dwóch wektorów $\\mathbf{a}$ i $\\mathbf{b}$ w przestrzeni $\\mathbb{R}^n$, gdzie:\n",
    "\n",
    "$$\n",
    "\\mathbf{a} = [a_1, a_2, \\dots, a_n], \\quad \\mathbf{b} = [b_1, b_2, \\dots, b_n] $$\n",
    "\n",
    "Dodawanie wektorów definiuje się następująco:\n",
    "\n",
    "$$\n",
    "\\mathbf{a} + \\mathbf{b} = [a_1 + b_1, a_2 + b_2, \\dots, a_n + b_n]\n",
    "$$\n",
    "\n",
    "## Mnożenie wektora przez skalar\n",
    "\n",
    "Mnożenie wektora przez skalar polega na pomnożeniu każdej współrzędnej wektora przez tę samą liczbę.\n",
    "\n",
    "Dla wektora $\\mathbf{a}$ i skalaru $k$:\n",
    "\n",
    "$$\n",
    "k \\mathbf{a} = [k a_1, k a_2, \\dots, k a_n]\n",
    "$$"
   ]
  },
  {
   "cell_type": "markdown",
   "metadata": {},
   "source": [
    "\n",
    "## Iloczyn skalarny\n",
    "\n",
    "Iloczyn skalarny (zwany również iloczynem wewnętrznym) dwóch wektorów to operacja, która zwraca skalarną wartość. Jest definiowany jako suma iloczynów odpowiadających sobie współrzędnych dwóch wektorów.\n",
    "\n",
    "Dla dwóch wektorów $\\mathbf{a}$ i $\\mathbf{b}$ w przestrzeni $\\mathbb{R}^n$, gdzie:\n",
    "\n",
    "$$\n",
    "\\mathbf{a} = [a_1, a_2, \\dots, a_n], \\quad \\mathbf{b} = [b_1, b_2, \\dots, b_n]\n",
    "$$\n",
    "\n",
    "Iloczyn skalarny definiuje się następująco:\n",
    "\n",
    "$$\n",
    "\\mathbf{a} \\cdot \\mathbf{b} = a_1b_1 + a_2b_2 + \\dots + a_nb_n = \\sum_{i=1}^{n} a_i b_i\n",
    "$$\n",
    "\n",
    "Przykład dla przestrzeni trójwymiarowej ($ \\mathbb{R}^3 $):\n",
    "\n",
    "Dla wektorów $\\mathbf{a} = [a_1, a_2, a_3]$ oraz $\\mathbf{b} = [b_1, b_2, b_3]$, iloczyn skalarny to:\n",
    "\n",
    "$$ \n",
    "\\mathbf{a} \\cdot \\mathbf{b} = a_1b_1 + a_2b_2 + a_3b_3\n",
    "$$\n",
    "\n",
    "Iloczyn skalarny zwraca liczbę, która jest miarą \"podobieństwa kierunku\" dwóch wektorów. Jeśli $\\mathbf{a} \\cdot \\mathbf{b} = 0$, to wektory są prostopadłe.\n",
    "\n",
    "Alternatywnie, iloczyn skalarny można zapisać jako:\n",
    "\n",
    "$$\n",
    "\\mathbf{a} \\cdot \\mathbf{b} = \\|\\mathbf{a}\\| \\|\\mathbf{b}\\| \\cos(\\theta),\n",
    "$$\n",
    "czyli iloczyn długości wektorów $\\mathbf{a}$ i $\\mathbf{b}$ pomnożony przez cosinus kąta między nimi."
   ]
  },
  {
   "cell_type": "markdown",
   "metadata": {},
   "source": [
    "## Iloczyn wektorowy\n",
    "\n",
    "Iloczyn wektorowy (zwany również iloczynem zewnętrznym) to operacja, która zwraca nowy wektor prostopadły do dwóch wektorów wyjściowych. Jest zdefiniowany tylko w przestrzeni trójwymiarowej $ \\mathbb{R}^3 $.\n",
    "\n",
    "Dla dwóch wektorów $ \\mathbf{a} = [a_1, a_2, a_3] $ oraz $ \\mathbf{b} = [b_1, b_2, b_3] $, iloczyn wektorowy $ \\mathbf{a} \\times \\mathbf{b} $ definiuje się jako:\n",
    "\n",
    "$$ \\mathbf{a} \\times \\mathbf{b} =\n",
    "\\begin{vmatrix}\n",
    "\\mathbf{i} & \\mathbf{j} & \\mathbf{k} \\\\\n",
    "a_1 & a_2 & a_3 \\\\\n",
    "b_1 & b_2 & b_3\n",
    "\\end{vmatrix}\n",
    "$$\n",
    "\n",
    "Gdzie $ \\mathbf{i}, \\mathbf{j}, \\mathbf{k} $ to wektory jednostkowe wzdłuż osi $ x, y, z $. Dość zabawnie, aby policzyć iloczyny wektorowy i otrzymać finalny wektor używamy wyznacznika (skalara) z macierzy (tensor drugiego rzędu), wierszami której są wektory bazowe (wektory) i składowe wektorów (skalary).\n",
    "\n",
    "Iloczyn wektorowy można zapisać w postaci rozwiniętej:\n",
    "\n",
    "$$ \\mathbf{a} \\times \\mathbf{b} = \\left( a_2b_3 - a_3b_2 \\right)\\mathbf{i} - \\left( a_1b_3 - a_3b_1 \\right)\\mathbf{j} + \\left( a_1b_2 - a_2b_1 \\right)\\mathbf{k} $$\n",
    "\n",
    "Wynikiem iloczynu wektorowego jest nowy wektor:\n",
    "\n",
    "$$ \\mathbf{c} = \\mathbf{a} \\times \\mathbf{b} = [a_2b_3 - a_3b_2, a_3b_1 - a_1b_3, a_1b_2 - a_2b_1] $$\n",
    "\n",
    "Iloczyn wektorowy zwraca wektor $\\mathbf{c}$ prostopadły do płaszczyzny wyznaczonej przez $ \\mathbf{a} $ i $ \\mathbf{b} $, a jego długość jest równa powierzchni równoległoboku, którego boki są wyznaczone przez wektory $ \\mathbf{a} $ i $ \\mathbf{b} $\n",
    "$$\n",
    "|\\mathbf{c}| = |\\mathbf{a}| |\\mathbf{b}| \\sin \\theta\n",
    "$$\n",
    "\n",
    "gdzie $\\theta$ jest kątem między wektorami. Kierunek wektora $\\vec{c}$ określa reguła prawej dłoni."
   ]
  },
  {
   "cell_type": "markdown",
   "metadata": {},
   "source": [
    "## Iloczyn mieszany\n",
    "\n",
    "Iloczyn mieszany trzech wektorów $\\mathbf{a}, \\mathbf{b}, \\mathbf{c}$ jest definiowany jako:\n",
    "\n",
    "$$\n",
    "\\mathbf{a} \\cdot \\left( \\mathbf{b} \\times \\mathbf{c} \\right)\n",
    "$$\n",
    "\n",
    "Jest to równoważne iloczynowi skalarnemu $\\mathbf{a} \\times \\left( \\mathbf{b} \\times \\mathbf{c} \\right)$.\n",
    "\n",
    "Iloczyn mieszany jest równy zero, jeśli wektory $\\mathbf{a}, \\mathbf{b}, \\mathbf{c}$ są współliniowe lub równoległe.\n",
    "\n",
    "Objętość równoległościanu wyznaczonego przez trzy wektory $\\mathbf{a}, \\mathbf{b}, \\mathbf{c}$ jest równa wartości bezwzględnej iloczynu mieszanej tych wektorów."
   ]
  },
  {
   "cell_type": "markdown",
   "metadata": {},
   "source": [
    "## Przykłady"
   ]
  },
  {
   "cell_type": "code",
   "execution_count": 19,
   "metadata": {},
   "outputs": [],
   "source": [
    "import sympy as sp \n",
    "\n",
    "# Definicje wektorów\n",
    "a = sp.Matrix([1, 2, 3])\n",
    "b = sp.Matrix([4, 5, 6])\n",
    "c= sp.Matrix([7, 0, 9])\n",
    "d= sp.Matrix([0, 2, 0])\n"
   ]
  },
  {
   "cell_type": "code",
   "execution_count": 20,
   "metadata": {},
   "outputs": [
    {
     "data": {
      "text/latex": [
       "$\\displaystyle \\left[\\begin{matrix}5\\\\7\\\\9\\end{matrix}\\right]$"
      ],
      "text/plain": [
       "Matrix([\n",
       "[5],\n",
       "[7],\n",
       "[9]])"
      ]
     },
     "execution_count": 20,
     "metadata": {},
     "output_type": "execute_result"
    }
   ],
   "source": [
    "# dodawanie wektorów a i b\n",
    "a+b"
   ]
  },
  {
   "cell_type": "code",
   "execution_count": 21,
   "metadata": {},
   "outputs": [
    {
     "data": {
      "text/plain": [
       "True"
      ]
     },
     "execution_count": 21,
     "metadata": {},
     "output_type": "execute_result"
    }
   ],
   "source": [
    "# iloczyn skalarny a i b\n",
    "(1*4+2*5+3*6)==a.dot(b)"
   ]
  },
  {
   "cell_type": "code",
   "execution_count": 22,
   "metadata": {},
   "outputs": [
    {
     "data": {
      "text/plain": [
       "True"
      ]
     },
     "execution_count": 22,
     "metadata": {},
     "output_type": "execute_result"
    }
   ],
   "source": [
    "#iloczyn wektorowy a i c\n",
    "# a = [1, 2, 3]\n",
    "# c= [7, 0, 9]\n",
    "\n",
    "# Pomocniczo zapiszmy wektory jako macierze 3x3\n",
    "# i, j, k\n",
    "# 1, 2, 3\n",
    "# 7, 0, 9\n",
    "\n",
    "# Teraz\n",
    "comp1 = (2*9-3*0)\n",
    "comp2 = -(1*9-3*7)\n",
    "comp3 = (1*0-2*7)\n",
    "\n",
    "# Wynik\n",
    "sp.Matrix([comp1, comp2, comp3])==a.cross(c)"
   ]
  },
  {
   "cell_type": "code",
   "execution_count": 23,
   "metadata": {},
   "outputs": [
    {
     "data": {
      "text/plain": [
       "True"
      ]
     },
     "execution_count": 23,
     "metadata": {},
     "output_type": "execute_result"
    }
   ],
   "source": [
    "# Prostopadłość wektorów\n",
    "# c= [7, 0, 9]\n",
    "# d= [0, 2, 0]\n",
    "\n",
    "# Jeśli iloczyn skalarny wektorów jest równy 0, to znaczy, że są one prostopadłe\n",
    "iloczyn_skalarny = 7*0+0*2+9*0\n",
    "iloczyn_skalarny==0"
   ]
  },
  {
   "cell_type": "markdown",
   "metadata": {},
   "source": [
    "## Zastosowania\n",
    "\n",
    "### Obliczanie kąta między wektorami\n",
    "\n",
    "$$\n",
    "\\cos \\theta = \\frac{\\mathbf{a} \\cdot \\mathbf{b}}{\\|\\mathbf{a}\\| \\|\\mathbf{b}\\|}\n",
    "$$\n",
    "\n",
    "### Sprawdzanie prostopadłości wektorów\n",
    "\n",
    "Wektory $\\mathbf{a}$ i $\\mathbf{b}$ są prostopadłe, jeśli ich iloczyn skalarny wynosi zero:\n",
    "$$\n",
    "\\mathbf{a} \\cdot \\mathbf{b} = 0 \n",
    "\\quad \\Leftrightarrow \\quad\n",
    " \\mathbf{a} \\perp \\mathbf{b}\n",
    "$$\n",
    "\n",
    "### Znajdowanie rzutów wektorów na inne wektory\n",
    "\n",
    "$$\n",
    "\\text{Rzut} = \\frac{\\mathbf{a} \\cdot \\mathbf{b}}{\\|\\mathbf{b}\\|}\n",
    "$$\n",
    "\n",
    "### Obliczanie pracy wykonanej przez siłę w fizyce\n",
    "\n",
    "Dla siły $\\mathbf{F} = (F_x, F_y, F_z)$ działającej wzdłuż przemieszczenia $\\mathbf{d} = (d_x, d_y, d_z)$, praca obliczana jest zgodnie ze wzorem:\n",
    "\n",
    "$$\n",
    "W = \\mathbf{F} \\cdot \\mathbf{d} = |\\mathbf{F}| |\\mathbf{d}| \\cos \\theta = F_x d_x + F_y d_y + F_z d_z\n",
    "$$"
   ]
  },
  {
   "cell_type": "markdown",
   "metadata": {},
   "source": [
    "### Moment siły\n",
    "\n",
    "W fizyce: moment siły (moment obrotowy) to iloczyn wektorowy wektora siły i ramienia:\n",
    "\n",
    "$$\n",
    "\\mathbf{M} = \\mathbf{r} \\times \\mathbf{F}\n",
    "$$\n",
    "\n",
    "### Obliczanie pola równoległoboku\n",
    "\n",
    "Pole równoległoboku rozpiętego na dwóch wektorach:\n",
    "\n",
    "$$\n",
    "\\text{Area}_{r} = \\mathbf{a} \\times \\mathbf{b} = |\\mathbf{a}| |\\mathbf{b}| \\sin \\theta\n",
    "$$\n",
    "\n",
    "### Obliczanie pola trójkąta\n",
    "\n",
    "Pole trójkąta rozpiętego na dwóch wektorach $\\mathbf{a}$ i $\\mathbf{b}$:\n",
    "\n",
    "$$\n",
    "\\text{Area}_{t} = \\frac{1}{2} |\\mathbf{a} \\times \\mathbf{b}|\n",
    "$$"
   ]
  },
  {
   "cell_type": "markdown",
   "metadata": {},
   "source": [
    "### Obliczanie objętości równoległościanów i czworościanów\n",
    "\n",
    "Iloczyn mieszany wektorów jest używany do obliczania objętości równoległościanów i czworościanów. Dla trzech wektorów **$\\mathbf{a}$**, **$\\mathbf{b}$** i **$\\mathbf{c}$**, objętość równoległościanu jest dana wzorem:\n",
    "\n",
    "$$\n",
    "V = |\\mathbf{a} \\cdot (\\mathbf{b} \\times \\mathbf{c})|\n",
    "$$\n",
    "(Uwaga: **| |** oznacza tutaj wartość bezwzględną, a nie długość!)\n",
    "\n",
    "### Sprawdzanie współpłaszczyznowości trzech wektorów\n",
    "\n",
    "Jeśli iloczyn mieszany trzech wektorów jest równy zeru, oznacza to, że wektory są współpłaszczyznowe. W przeciwnym razie, tworzą one czworościan."
   ]
  },
  {
   "cell_type": "markdown",
   "metadata": {},
   "source": [
    "---\n",
    "## Zadania dla studentów\n",
    "\n",
    "- Pole powierzchni trójkąta i równoległoboku\n",
    "- Objętość równoległościanu\n",
    "- Kąt między wektorami\n",
    "- Prostopadłość wektorów\n",
    "- Równoległość wektorów"
   ]
  },
  {
   "cell_type": "code",
   "execution_count": 24,
   "metadata": {},
   "outputs": [
    {
     "data": {
      "text/latex": [
       "$\\displaystyle \\operatorname{acos}{\\left(\\frac{16 \\sqrt{22}}{77} \\right)}$"
      ],
      "text/plain": [
       "acos(16*sqrt(22)/77)"
      ]
     },
     "execution_count": 24,
     "metadata": {},
     "output_type": "execute_result"
    }
   ],
   "source": [
    "# policz kąt między wektorami a i b, gdzie # kąt = cos^-1(a*b/|a|*|b|)\n",
    "\n",
    "a= sp.Matrix([1, 2, 3])\n",
    "b= sp.Matrix([4, 5, 6])\n",
    "\n",
    "# długości |a| i |b|\n",
    "modul_a = sp.sqrt(1**2+2**2+3**2)\n",
    "modul_b = sp.sqrt(4**2+5**2+6**2)\n",
    "\n",
    "# a*b\n",
    "iloczyn_skalarny = 1*4+2*5+3*6\n",
    "\n",
    "# kąt\n",
    "kat = sp.acos(iloczyn_skalarny/(modul_a*modul_b))\n",
    "kat"
   ]
  },
  {
   "cell_type": "code",
   "execution_count": 25,
   "metadata": {},
   "outputs": [
    {
     "data": {
      "text/plain": [
       "12.93315449189912"
      ]
     },
     "execution_count": 25,
     "metadata": {},
     "output_type": "execute_result"
    }
   ],
   "source": [
    "# By uzyskać wynik w stopniach potrzbujemy numerycznego wyniku \n",
    "\n",
    "import math as math\n",
    "degrees_value = math.degrees(kat)\n",
    "degrees_value"
   ]
  },
  {
   "cell_type": "code",
   "execution_count": null,
   "metadata": {},
   "outputs": [],
   "source": []
  }
 ],
 "metadata": {
  "kernelspec": {
   "display_name": ".venv",
   "language": "python",
   "name": "python3"
  },
  "language_info": {
   "codemirror_mode": {
    "name": "ipython",
    "version": 3
   },
   "file_extension": ".py",
   "mimetype": "text/x-python",
   "name": "python",
   "nbconvert_exporter": "python",
   "pygments_lexer": "ipython3",
   "version": "3.11.9"
  }
 },
 "nbformat": 4,
 "nbformat_minor": 2
}
