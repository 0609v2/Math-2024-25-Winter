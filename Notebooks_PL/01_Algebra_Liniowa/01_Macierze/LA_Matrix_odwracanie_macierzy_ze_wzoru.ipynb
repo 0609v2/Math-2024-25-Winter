{
 "cells": [
  {
   "cell_type": "markdown",
   "metadata": {},
   "source": [
    "# Odwracanie macierzy \n",
    "\n",
    "Macierz odwrotna do macierzy $A$ to taka macierz $A^{-1}$, że $A \\cdot A^{-1} = A^{-1} \\cdot A = I$, gdzie $I$ to macierz jednostkowa."
   ]
  },
  {
   "cell_type": "markdown",
   "metadata": {},
   "source": [
    "**Przykład 1:**"
   ]
  },
  {
   "cell_type": "code",
   "execution_count": null,
   "metadata": {},
   "outputs": [
    {
     "data": {
      "image/png": "[encoded data removed]",
      "text/latex": [
       "$\\displaystyle \\left[\\begin{matrix}2 & 1 & 2\\\\5 & 3 & 1\\\\1 & 1 & 5\\end{matrix}\\right]$"
      ],
      "text/plain": [
       "⎡2  1  2⎤\n",
       "⎢       ⎥\n",
       "⎢5  3  1⎥\n",
       "⎢       ⎥\n",
       "⎣1  1  5⎦"
      ]
     },
     "metadata": {},
     "output_type": "display_data"
    }
   ],
   "source": [
    "k1=sp.Matrix([[2, 1,2], [5, 3,1],[1,1,5]])\n",
    "k1"
   ]
  },
  {
   "cell_type": "code",
   "execution_count": null,
   "metadata": {},
   "outputs": [
    {
     "data": {
      "image/png": "[encoded data removed]",
      "text/latex": [
       "$\\displaystyle \\left[\\begin{matrix}\\frac{7}{4} & - \\frac{3}{8} & - \\frac{5}{8}\\\\-3 & 1 & 1\\\\\\frac{1}{4} & - \\frac{1}{8} & \\frac{1}{8}\\end{matrix}\\right]$"
      ],
      "text/plain": [
       "⎡7/4  -3/8  -5/8⎤\n",
       "⎢               ⎥\n",
       "⎢-3    1     1  ⎥\n",
       "⎢               ⎥\n",
       "⎣1/4  -1/8  1/8 ⎦"
      ]
     },
     "metadata": {},
     "output_type": "display_data"
    }
   ],
   "source": [
    "inverse_k1 = k1.inv()\n",
    "inverse_k1"
   ]
  },
  {
   "cell_type": "code",
   "execution_count": null,
   "metadata": {},
   "outputs": [
    {
     "data": {
      "image/png": "[encoded data removed]",
      "text/latex": [
       "$\\displaystyle \\left[\\begin{matrix}1 & 0 & 0\\\\0 & 1 & 0\\\\0 & 0 & 1\\end{matrix}\\right]$"
      ],
      "text/plain": [
       "⎡1  0  0⎤\n",
       "⎢       ⎥\n",
       "⎢0  1  0⎥\n",
       "⎢       ⎥\n",
       "⎣0  0  1⎦"
      ]
     },
     "metadata": {},
     "output_type": "display_data"
    }
   ],
   "source": [
    "k1*inverse_k1 # sprawdzamy czy mnożenie macierzy przez jej odwrotność daje macierz jednostkową "
   ]
  },
  {
   "cell_type": "markdown",
   "metadata": {},
   "source": [
    "**Przykład 2:**"
   ]
  },
  {
   "cell_type": "code",
   "execution_count": null,
   "metadata": {},
   "outputs": [
    {
     "data": {
      "image/png": "[encoded data removed]",
      "text/latex": [
       "$\\displaystyle \\left[\\begin{matrix}\\frac{e i - f h}{a e i - a f h - b d i + b f g + c d h - c e g} & \\frac{- b i + c h}{a e i - a f h - b d i + b f g + c d h - c e g} & \\frac{b f - c e}{a e i - a f h - b d i + b f g + c d h - c e g}\\\\\\frac{- d i + f g}{a e i - a f h - b d i + b f g + c d h - c e g} & \\frac{a i - c g}{a e i - a f h - b d i + b f g + c d h - c e g} & \\frac{- a f + c d}{a e i - a f h - b d i + b f g + c d h - c e g}\\\\\\frac{d h - e g}{a e i - a f h - b d i + b f g + c d h - c e g} & \\frac{- a h + b g}{a e i - a f h - b d i + b f g + c d h - c e g} & \\frac{a e - b d}{a e i - a f h - b d i + b f g + c d h - c e g}\\end{matrix}\\right]$"
      ],
      "text/plain": [
       "⎡                  e⋅i - f⋅h                                     -b⋅i + c⋅h    ↪\n",
       "⎢─────────────────────────────────────────────  ────────────────────────────── ↪\n",
       "⎢a⋅e⋅i - a⋅f⋅h - b⋅d⋅i + b⋅f⋅g + c⋅d⋅h - c⋅e⋅g  a⋅e⋅i - a⋅f⋅h - b⋅d⋅i + b⋅f⋅g  ↪\n",
       "⎢                                                                              ↪\n",
       "⎢                 -d⋅i + f⋅g                                      a⋅i - c⋅g    ↪\n",
       "⎢─────────────────────────────────────────────  ────────────────────────────── ↪\n",
       "⎢a⋅e⋅i - a⋅f⋅h - b⋅d⋅i + b⋅f⋅g + c⋅d⋅h - c⋅e⋅g  a⋅e⋅i - a⋅f⋅h - b⋅d⋅i + b⋅f⋅g  ↪\n",
       "⎢                                                                              ↪\n",
       "⎢                  d⋅h - e⋅g                                     -a⋅h + b⋅g    ↪\n",
       "⎢─────────────────────────────────────────────  ────────────────────────────── ↪\n",
       "⎣a⋅e⋅i - a⋅f⋅h - b⋅d⋅i + b⋅f⋅g + c⋅d⋅h - c⋅e⋅g  a⋅e⋅i - a⋅f⋅h - b⋅d⋅i + b⋅f⋅g  ↪\n",
       "\n",
       "↪                                    b⋅f - c⋅e                  ⎤\n",
       "↪ ───────────────  ─────────────────────────────────────────────⎥\n",
       "↪ + c⋅d⋅h - c⋅e⋅g  a⋅e⋅i - a⋅f⋅h - b⋅d⋅i + b⋅f⋅g + c⋅d⋅h - c⋅e⋅g⎥\n",
       "↪                                                               ⎥\n",
       "↪                                   -a⋅f + c⋅d                  ⎥\n",
       "↪ ───────────────  ─────────────────────────────────────────────⎥\n",
       "↪ + c⋅d⋅h - c⋅e⋅g  a⋅e⋅i - a⋅f⋅h - b⋅d⋅i + b⋅f⋅g + c⋅d⋅h - c⋅e⋅g⎥\n",
       "↪                                                               ⎥\n",
       "↪                                    a⋅e - b⋅d                  ⎥\n",
       "↪ ───────────────  ─────────────────────────────────────────────⎥\n",
       "↪ + c⋅d⋅h - c⋅e⋅g  a⋅e⋅i - a⋅f⋅h - b⋅d⋅i + b⋅f⋅g + c⋅d⋅h - c⋅e⋅g⎦"
      ]
     },
     "metadata": {},
     "output_type": "display_data"
    }
   ],
   "source": [
    "import sympy as sp\n",
    "a,b,c,d,e,f,g,h,i = sp.symbols('a b c d e f g h i')\n",
    "k=sp.Matrix([[a, b, c], [d, e, f], [g, h, i]])\n",
    "inverse_k = k.inv()\n",
    "inverse_k"
   ]
  },
  {
   "cell_type": "markdown",
   "metadata": {},
   "source": [
    "Ta skomplikowana postać wynika ze wzoru, który pozwala na obliczenie elementów macierzy odwrotnej. Zanim do niego przejdziemy, zdefiniujmy kilka pojęć."
   ]
  },
  {
   "cell_type": "markdown",
   "metadata": {},
   "source": [
    "**Transpozycja macierzy** jest operacją, która zamienia wiersze na kolumny. Transponowana macierz do macierzy $A$ to taka macierz $A^T$, że $A^T_{ij} = A_{ji}$. "
   ]
  },
  {
   "cell_type": "code",
   "execution_count": null,
   "metadata": {},
   "outputs": [
    {
     "data": {
      "text/latex": [
       "$\\displaystyle \\left[\\begin{matrix}a & b & c\\\\d & e & f\\\\g & h & i\\end{matrix}\\right]$"
      ],
      "text/plain": [
       "Matrix([\n",
       "[a, b, c],\n",
       "[d, e, f],\n",
       "[g, h, i]])"
      ]
     },
     "metadata": {},
     "output_type": "display_data"
    }
   ],
   "source": [
    "k"
   ]
  },
  {
   "cell_type": "code",
   "execution_count": null,
   "metadata": {},
   "outputs": [
    {
     "data": {
      "text/latex": [
       "$\\displaystyle \\left[\\begin{matrix}a & d & g\\\\b & e & h\\\\c & f & i\\end{matrix}\\right]$"
      ],
      "text/plain": [
       "Matrix([\n",
       "[a, d, g],\n",
       "[b, e, h],\n",
       "[c, f, i]])"
      ]
     },
     "metadata": {},
     "output_type": "display_data"
    }
   ],
   "source": [
    "k.transpose()"
   ]
  },
  {
   "cell_type": "markdown",
   "metadata": {},
   "source": [
    "**Podwyznacznik** (minor) macierzy $A$ to wyznacznik macierzy, z której usunięto $i$-ty wiersz i $j$-tą kolumnę. Oznaczmy go $M_{ij}$."
   ]
  },
  {
   "cell_type": "code",
   "execution_count": null,
   "metadata": {},
   "outputs": [
    {
     "data": {
      "image/png": "[encoded data removed]",
      "text/latex": [
       "$\\displaystyle \\left[\\begin{matrix}1 & 2 & 3\\\\4 & 5 & 6\\\\7 & 8 & 9\\end{matrix}\\right]$"
      ],
      "text/plain": [
       "⎡1  2  3⎤\n",
       "⎢       ⎥\n",
       "⎢4  5  6⎥\n",
       "⎢       ⎥\n",
       "⎣7  8  9⎦"
      ]
     },
     "metadata": {},
     "output_type": "display_data"
    }
   ],
   "source": [
    "# Podwyznacznik (minor) macierzy $A$ to wyznacznik macierzy, z której usunięto $i$-ty wiersz i $j$-tą kolumnę. Oznaczmy go $M_{ij}$.\n",
    "k2=sp.Matrix([[1, 2, 3], [4, 5, 6], [7, 8, 9]])\n",
    "k2"
   ]
  },
  {
   "cell_type": "code",
   "execution_count": null,
   "metadata": {},
   "outputs": [
    {
     "data": {
      "image/png": "[encoded data removed]",
      "text/latex": [
       "$\\displaystyle \\left[\\begin{matrix}4 & 6\\\\7 & 9\\end{matrix}\\right]$"
      ],
      "text/plain": [
       "⎡4  6⎤\n",
       "⎢    ⎥\n",
       "⎣7  9⎦"
      ]
     },
     "metadata": {},
     "output_type": "display_data"
    }
   ],
   "source": [
    "M01 = k2.minor_submatrix(0, 1)\n",
    "M01"
   ]
  },
  {
   "cell_type": "code",
   "execution_count": null,
   "metadata": {},
   "outputs": [
    {
     "data": {
      "image/png": "[encoded data removed]",
      "text/latex": [
       "$\\displaystyle \\left[\\begin{matrix}1 & 2\\\\4 & 5\\end{matrix}\\right]$"
      ],
      "text/plain": [
       "⎡1  2⎤\n",
       "⎢    ⎥\n",
       "⎣4  5⎦"
      ]
     },
     "metadata": {},
     "output_type": "display_data"
    }
   ],
   "source": [
    "M22 = k2.minor_submatrix(2, 2)\n",
    "M22"
   ]
  },
  {
   "cell_type": "markdown",
   "metadata": {},
   "source": [
    "**Dopełnienie algebraiczne** elementu $a_{ij}= (-1)^{i+j} \\, M_{ij}$, czyli podwyznacznik pomnożony przez $(-1)^{i+j}$."
   ]
  },
  {
   "cell_type": "markdown",
   "metadata": {},
   "source": [
    "### Macierz odwrotna 3x3 \n",
    "\n",
    "Wykorzystanie transpozycji macierzy dopełnień algebraicznych (minorów):\n",
    "\n",
    "$$K^{-1} =\n",
    "\\begin{bmatrix}\n",
    "a & b & c \\\\\n",
    "d & e & f \\\\\n",
    "g & h & i\n",
    "\\end{bmatrix}^{-1} \n",
    "= \\frac{1}{\\det(\\mathbf{K})} \n",
    "\\begin{bmatrix}\n",
    "A & B & C \\\\\n",
    "D & E & F \\\\\n",
    "G & H & I\n",
    "\\end{bmatrix}^T\n",
    "= \\frac{1}{\\det(\\mathbf{A})} \n",
    "\\begin{bmatrix}\n",
    "A & D & G \\\\\n",
    "B & E & H \\\\\n",
    "C & F & I\n",
    "\\end{bmatrix}\n",
    "$$\n",
    "\n",
    "Jeśli wyznacznik jest różny od zera, macierz jest odwracalna, a elementy macierzy pośredniej po prawej stronie powyższego wzoru są określone przez:\n",
    "\n",
    "$$\n",
    "\\begin{aligned}\n",
    "A &= det ( \\begin{bmatrix} e & f \\\\ h & i \\end{bmatrix} ) & B &= - det ( \\begin{bmatrix} d & f \\\\ g & i \\end{bmatrix} ) & C &= det ( \\begin{bmatrix} d & e \\\\ g & h \\end{bmatrix} ) \\\\\n",
    "D &= - det ( \\begin{bmatrix} b & c \\\\ h & i \\end{bmatrix} ) & E &= det ( \\begin{bmatrix} a & c \\\\ g & i \\end{bmatrix} ) & F &= - det ( \\begin{bmatrix} a & b \\\\ g & h \\end{bmatrix} ) \\\\\n",
    "G &= det ( \\begin{bmatrix} b & c \\\\ e & f \\end{bmatrix} ) & H &= - det ( \\begin{bmatrix} a & c \\\\ d & f \\end{bmatrix} ) & I &= det ( \\begin{bmatrix} a & b \\\\ d & e \\end{bmatrix} )\n",
    "\\end{aligned}\n",
    "$$\n",
    "czyli przez wyznaczniki macierzy 2x2, które powstają przez usunięcie odpowiednich wierszy i kolumn oraz przez uwzględnienie znaku $(-1)^{i+j}$."
   ]
  },
  {
   "cell_type": "markdown",
   "metadata": {},
   "source": [
    "### Macierz odwrotna 2x2\n",
    "\n",
    "Analogicznie, dla macierzy 2x2, można obliczyć macierz odwrotną przy użyciu macierzy dopełnień algebraicznych:\n",
    "\n",
    "$$\n",
    "\\mathbf{L}^{-1} = \n",
    "\\begin{bmatrix}\n",
    "a & b \\\\\n",
    "c & d\n",
    "\\end{bmatrix}^{-1} \n",
    "= \\frac{1}{\\det(\\mathbf{L})} \n",
    "\\begin{bmatrix}\n",
    "D & C \\\\\n",
    "B & A\n",
    "\\end{bmatrix}^T\n",
    "= \\frac{1}{\\det(\\mathbf{L})} \n",
    "\\begin{bmatrix}\n",
    "D & B \\\\\n",
    "C & A\n",
    "\\end{bmatrix}\n",
    "$$\n",
    "\n",
    "gdzie $\\det(\\mathbf{L}) = ad - bc$\n",
    "\n",
    "Jeśli wyznacznik jest różny od zera to macierz jest odwracalna, a elementy macierzy pośredniej są określone jako:\n",
    "\n",
    "$$\n",
    "\\begin{aligned}\n",
    "A &= \\det \\begin{bmatrix} d \\end{bmatrix} = d, & B &= -\\det \\begin{bmatrix} b \\end{bmatrix} = -b, & C &= -\\det \\begin{bmatrix} c \\end{bmatrix} = -c, & \n",
    "D &= \\det \\begin{bmatrix} a \\end{bmatrix} = a.\n",
    "\\end{aligned}\n",
    "$$\n",
    "\n",
    "Elementy te powstają przez obliczenie wyznaczników macierzy 1x1, które powstają przez usunięcie odpowiednich wierszy i kolumn z oryginalnej macierzy 2x2 oraz przez zastosowanie odpowiednich znaków \\( (-1)^{i+j} \\)."
   ]
  },
  {
   "cell_type": "markdown",
   "metadata": {},
   "source": [
    "---\n",
    "## Zadanie dla  studentów"
   ]
  },
  {
   "cell_type": "markdown",
   "metadata": {},
   "source": [
    "Wylicz ze wzoru macierz odwrotną do macierzy \n",
    "\n",
    "$$\n",
    "\\begin{bmatrix}\n",
    "2 & 0 & 1 \\\\\n",
    "0 & 1 & 0 \\\\\n",
    "1 & 2 & 0\n",
    "\\end{bmatrix}\n",
    "$$\n",
    "\n",
    "i sprawdź, czy wynik jest poprawny."
   ]
  },
  {
   "cell_type": "markdown",
   "metadata": {},
   "source": []
  }
 ],
 "metadata": {
  "kernelspec": {
   "display_name": "Python 3",
   "language": "python",
   "name": "python3"
  },
  "language_info": {
   "codemirror_mode": {
    "name": "ipython",
    "version": 3
   },
   "file_extension": ".py",
   "mimetype": "text/x-python",
   "name": "python",
   "nbconvert_exporter": "python",
   "pygments_lexer": "ipython3",
   "version": "3.11.9"
  }
 },
 "nbformat": 4,
 "nbformat_minor": 2
}
