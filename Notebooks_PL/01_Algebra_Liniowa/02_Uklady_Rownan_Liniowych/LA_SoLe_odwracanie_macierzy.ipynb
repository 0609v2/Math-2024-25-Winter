{
 "cells": [
  {
   "cell_type": "markdown",
   "metadata": {},
   "source": [
    "## Rozwiązanie układów równań liniowych metodą macierzy odwrotnej\n",
    "\n",
    "Zamiana układu równań liniowych na postać macierzową pozwala na zastosowanie macierzy odwrotnej do znalezienia rozwiązania układu równań.\n",
    "\n",
    "Jak przykład rozważmy $A \\cdot X = B$, gdzie macierz $A_{n \\times n}$ jest kwadratowa i nieosobliwa zaś $X$ i $B$ są macierzami kolumnowymi\n",
    "\n",
    "$X=\\begin{bmatrix} x_1 \\\\ x_2 \\\\ \\vdots \\\\ x_n \\end{bmatrix}, \\qquad B=\\begin{bmatrix} b_1 \\\\ b_2 \\\\ \\vdots \\\\ b_n \\end{bmatrix}$\n",
    "\n",
    "Rozwiązanie układu równań można znaleźć przez pomnożenie po lewej stronie macierzy $A^{-1}$ przez macierz $B$\n",
    "\n",
    "$(A^{-1} \\cdot A) \\cdot X = A^{-1} \\cdot B$\n",
    "\n",
    "$1 \\cdot X = A^{-1} \\cdot B$\n",
    "\n",
    "$X = A^{-1} \\cdot B$"
   ]
  },
  {
   "cell_type": "markdown",
   "metadata": {},
   "source": [
    "**Przykład**\n",
    "\n",
    "$$\n",
    "\\begin{cases}\n",
    "x + 2z = 3, \\\\\n",
    "2x + 3y + z = 0, \\\\\n",
    "x + 3z = 1.\n",
    "\\end{cases}\n",
    "$$\n",
    "\n",
    "$$\n",
    "\\begin{cases}\n",
    "1 \\cdot x + 0 \\cdot y + 2 \\cdot z = 3, \\\\\n",
    "2 \\cdot x + 3 \\cdot y + 1 \\cdot z = 0, \\\\\n",
    "1 \\cdot x + 0 \\cdot y + 3 \\cdot z = 1.\n",
    "\\end{cases}\n",
    "$$\n",
    "\n"
   ]
  },
  {
   "cell_type": "code",
   "execution_count": 9,
   "metadata": {},
   "outputs": [
    {
     "data": {
      "text/latex": [
       "$\\displaystyle \\left[\\begin{matrix}7\\\\-4\\\\-2\\end{matrix}\\right]$"
      ],
      "text/plain": [
       "Matrix([\n",
       "[ 7],\n",
       "[-4],\n",
       "[-2]])"
      ]
     },
     "execution_count": 9,
     "metadata": {},
     "output_type": "execute_result"
    }
   ],
   "source": [
    "# ## Rozwiązanie układów równań liniowych metodą macierzy odwrotnej\n",
    "\n",
    "import sympy as sp\n",
    "\n",
    "# Macierz współczynników\n",
    "A = sp.Matrix([\n",
    "    [1, 0, 2],\n",
    "    [2, 3, 1],\n",
    "    [1, 0, 3]\n",
    "])\n",
    "\n",
    "# Wektor wyrazów wolnych\n",
    "B =  sp.Matrix([\n",
    "    [3],\n",
    "    [0],\n",
    "    [1]\n",
    "])\n",
    "# Macierz odwrotna\n",
    "A_inv = A.inv()\n",
    "\n",
    "# Rozwiązanie układu równań\n",
    "X = A_inv * B\n",
    "X"
   ]
  },
  {
   "cell_type": "markdown",
   "metadata": {},
   "source": [
    "---\n",
    "## Zadanie dla studentów\n",
    "\n",
    "Znajdź $X$ poprzez użycie macierzy odwrotnej:\n",
    "\n",
    "$$\n",
    "\\begin{pmatrix}\n",
    "1 & 2 & 3 \\\\\n",
    "0 & 2 & 3 \\\\\n",
    "0 & 0 & 3 \n",
    "\\end{pmatrix} \\cdot X\n",
    "=\n",
    "\\begin{pmatrix}\n",
    "5 \\\\\n",
    "4 \\\\\n",
    "3\n",
    "\\end{pmatrix}\n",
    "$$"
   ]
  },
  {
   "cell_type": "markdown",
   "metadata": {},
   "source": []
  }
 ],
 "metadata": {
  "kernelspec": {
   "display_name": "Python 3",
   "language": "python",
   "name": "python3"
  },
  "language_info": {
   "codemirror_mode": {
    "name": "ipython",
    "version": 3
   },
   "file_extension": ".py",
   "mimetype": "text/x-python",
   "name": "python",
   "nbconvert_exporter": "python",
   "pygments_lexer": "ipython3",
   "version": "3.11.9"
  }
 },
 "nbformat": 4,
 "nbformat_minor": 2
}
