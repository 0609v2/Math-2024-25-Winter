{
 "cells": [
  {
   "cell_type": "markdown",
   "metadata": {},
   "source": [
    "## Rozwiązanie układów równań liniowych metodą macierzy odwrotnej\n",
    "\n",
    "Załadając, że macierz $A$ jest kwadratowa i nieosobliwa, by znaleźć macierz $B$ spełniającą równanie \n",
    "\n",
    "$A \\cdot B = C$ \n",
    "\n",
    "należy pomnożyć obie strony równania (po lewej stronie) przez macierz odwrotną do macierzy $A$:\n",
    "\n",
    "$B = A^{-1} \\cdot C$\n",
    "\n",
    "Wtedy macierz odwrotna do macierzy $A$ istnieje i jest dana wzorem:"
   ]
  },
  {
   "cell_type": "code",
   "execution_count": 28,
   "metadata": {},
   "outputs": [
    {
     "data": {
      "text/latex": [
       "$\\displaystyle \\left[\\begin{matrix}9 & 1 & -6\\\\-1 & 0 & 1\\\\-3 & 0 & 3\\end{matrix}\\right]$"
      ],
      "text/plain": [
       "Matrix([\n",
       "[ 9, 1, -6],\n",
       "[-1, 0,  1],\n",
       "[-3, 0,  3]])"
      ]
     },
     "execution_count": 28,
     "metadata": {},
     "output_type": "execute_result"
    }
   ],
   "source": [
    "# ## Rozwiązanie układów równań liniowych metodą macierzy odwrotne\n",
    "\n",
    "import sympy as sp\n",
    "\n",
    "# Macierz współczynników\n",
    "A = sp.Matrix([\n",
    "    [1, 0, 2],\n",
    "    [2, 5, 3],\n",
    "    [1, 0, 3]\n",
    "])\n",
    "\n",
    "# Wektor wyrazów wolnych\n",
    "C =  sp.Matrix([\n",
    "    [3, 1, 0],\n",
    "    [4, 2, 2],\n",
    "    [0, 1, 3]\n",
    "])\n",
    "# Macierz odwrotna\n",
    "A_inv = A.inv()\n",
    "\n",
    "# Rozwiązanie układu równań\n",
    "B = A_inv * C\n",
    "B"
   ]
  },
  {
   "cell_type": "markdown",
   "metadata": {},
   "source": [
    "---\n",
    "## Zadanie dla studentów\n",
    "\n",
    "Znajdź macierz $X$ poprzez użycie macierzy odwrotnej, która spełnia równanie:\n",
    "\n",
    "$$\n",
    "\\begin{pmatrix}\n",
    "1 & 2 & 3 \\\\\n",
    "0 & 2 & 3 \\\\\n",
    "0 & 0 & 3 \n",
    "\\end{pmatrix} \\cdot X = \n",
    "\\begin{pmatrix}\n",
    "1 & 4 & 6 \\\\\n",
    "0 & 2 & 6 \\\\\n",
    "0 & 0 & 3 \n",
    "\\end{pmatrix}\n",
    "$$"
   ]
  },
  {
   "cell_type": "markdown",
   "metadata": {},
   "source": []
  }
 ],
 "metadata": {
  "kernelspec": {
   "display_name": "Python 3",
   "language": "python",
   "name": "python3"
  },
  "language_info": {
   "codemirror_mode": {
    "name": "ipython",
    "version": 3
   },
   "file_extension": ".py",
   "mimetype": "text/x-python",
   "name": "python",
   "nbconvert_exporter": "python",
   "pygments_lexer": "ipython3",
   "version": "3.11.9"
  }
 },
 "nbformat": 4,
 "nbformat_minor": 2
}
