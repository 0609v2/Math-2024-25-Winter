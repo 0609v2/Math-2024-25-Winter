{
 "cells": [
  {
   "cell_type": "markdown",
   "metadata": {},
   "source": [
    "# Wektory A\n",
    "\n",
    "**Wektory** są wielkościami, które posiadają zarówno wartość liczbową, jak i kierunek oraz zwrot w przestrzeni. \n",
    "Są one używane do opisu różnych wielkości fizycznych, takich jak prędkość, siła, czy natężenie pola elektrycznego. \n",
    "W przeciwieństwie do skalarów, które mają tylko wartość liczbową (np. masa, temperatura), wektory wymagają określenia kierunku.\n",
    "\n",
    "Wektor oznaczamy strzałką nad symbolem $\\vec{a}$ lub pogrubioną czcionką $\\mathbf{a}$.\n",
    "- Długość wektora można zapisać jako $|\\vec{a}|$ lub $a$.\n",
    "- Wektor o długości 1 nazywa się wektorem jednostkowym (wersorem) i zapisuje się jako $\\hat{\\mathbf{a}}= \\frac{\\vec{a}}{|\\vec{a}|}$.\n",
    "\n",
    "**Przykład:**\n",
    "\n",
    "Wektor $\\mathbf{a}= [3, 4]$ ma długość $a = 5$ i odpowiadający wersor (jednostkowy wektor wzdłuż kierunku wektora $\\mathbf{a}$) wyrażony jest przez $\\hat{\\mathbf{a}} = \\left[\\frac{3}{5}, \\frac{4}{5}\\right]$."
   ]
  },
  {
   "cell_type": "code",
   "execution_count": 14,
   "metadata": {},
   "outputs": [
    {
     "data": {
      "image/png": "[encoded data removed]",
      "text/plain": [
       "<Figure size 640x480 with 1 Axes>"
      ]
     },
     "metadata": {},
     "output_type": "display_data"
    }
   ],
   "source": [
    "import matplotlib.pyplot as plt # import modułu matplotlib.pyplot\n",
    "\n",
    "plt.figure() # utworzenie nowego rysunku\n",
    "plt.quiver(0, 0, 3, 4, angles='xy', scale_units='xy', scale=1, color='r') # szybki sposób na rysowanie wektora quiver(x_początek, y_początek, x_koniec, y_koniec)\n",
    "plt.xlim(0, 5) # ustawienie zakresu osi x\n",
    "plt.ylim(0, 5) # ustawienie zakresu osi y\n",
    "plt.grid(True) # włączenie siatki\n",
    "plt.gca().set_aspect('equal') # ustawienie takiej samej skali na osiach x i y\n",
    "plt.show()\n"
   ]
  },
  {
   "cell_type": "markdown",
   "metadata": {},
   "source": [
    "**Wektory w 2D:**\n",
    "\n",
    "Jeśli $\\mathbf{a} = [a_x, a_y]$, to długość jest dana wzorem $|\\mathbf{a}| = a = \\sqrt{a_x^2 + a_y^2}$\n",
    "\n",
    "**Wektory w 3D:**\n",
    "\n",
    "Jeśli $\\mathbf{a} = [a_x, a_y, a_z]$, to długość wektora wynosi $|\\mathbf{a}| = a = \\sqrt{a_x^2 + a_y^2 + a_z^2}$."
   ]
  },
  {
   "cell_type": "code",
   "execution_count": 27,
   "metadata": {},
   "outputs": [
    {
     "data": {
      "text/latex": [
       "$\\displaystyle \\sqrt{a_{x}^{2} + a_{y}^{2}}$"
      ],
      "text/plain": [
       "sqrt(a_x**2 + a_y**2)"
      ]
     },
     "execution_count": 27,
     "metadata": {},
     "output_type": "execute_result"
    }
   ],
   "source": [
    "import sympy as sp # import modułu sympy\n",
    "\n",
    "# Dla $\\mathbf{a} = [a_x, a_y]$, długość jest dana wzorem $|\\mathbf{a}| = a = \\sqrt{a_x^2 + a_y^2}$\n",
    "\n",
    "a_x, a_y = sp.symbols('a_x a_y') # deklaracja symboli a_x, a_y\n",
    "dlugosc_a = sp.sqrt(a_x**2 + a_y**2) # obliczenie długości wektora a\n",
    "dlugosc_a"
   ]
  },
  {
   "cell_type": "markdown",
   "metadata": {},
   "source": [
    "**Przykład**\n",
    "\n",
    "Dane są wektory $a=[1, 2]$ i $b=[3, 4]$ i chcemy policzyć ich sumę $c=a+b$, czyli $c= a+b = [1+3, 2+4] = [4, 6]$"
   ]
  },
  {
   "cell_type": "code",
   "execution_count": 32,
   "metadata": {},
   "outputs": [
    {
     "data": {
      "text/plain": [
       "[5, 7]"
      ]
     },
     "execution_count": 32,
     "metadata": {},
     "output_type": "execute_result"
    }
   ],
   "source": [
    "a=[2,3] # zapisanie wektora jako listy\n",
    "b=[3,4] # zapisanie wektora jako listy \n",
    "\n",
    "c= [a[0]+b[0], a[1]+b[1]] # dodawanie wektorów\n",
    "c"
   ]
  },
  {
   "cell_type": "code",
   "execution_count": 35,
   "metadata": {},
   "outputs": [
    {
     "data": {
      "text/latex": [
       "$\\displaystyle \\sqrt{74}$"
      ],
      "text/plain": [
       "sqrt(74)"
      ]
     },
     "execution_count": 35,
     "metadata": {},
     "output_type": "execute_result"
    }
   ],
   "source": [
    "dlugosc_c = sp.sqrt(c[0]**2 + c[1]**2) # obliczenie długości wektora c\n",
    "dlugosc_c"
   ]
  },
  {
   "cell_type": "markdown",
   "metadata": {},
   "source": [
    "### Układy współrzędnych na płaszczyźnie i w przestrzeni\n",
    "\n",
    "**Układ współrzędnych kartezjańskich** jest podstawowym układem współrzędnych, w którym punkty w przestrzeni są określane przez ich odległości od ustalonych osi: $x$, $y$ (dla 2D) i $z$ (dla 3D). \n",
    "\n",
    "- W 2D, każdy punkt można zapisać jako $(x, y)$.\n",
    "- W 3D, punkty mają postać $(x, y, z)$.\n",
    "\n",
    "**Układ biegunowy** jest używany w 2D i definiuje punkt poprzez odległość od punktu początkowego (r) oraz kąt (θ) względem osi odniesienia.\n",
    "\n",
    "**Układ sferyczny** jest używany w 3D i definiuje punkt poprzez odległość od punktu początkowego (r), kąt azymutu (θ) i kąt elewacji (φ).\n",
    "\n",
    "Wektory można reprezentować za pomocą składowych w układzie kartezjańskim, gdzie każda składowa odpowiada odległości punktu od odpowiedniej osi współrzędnych.\n",
    "\n",
    "- Dla wektora w przestrzeni dwuwymiarowej: $\\mathbf{a} = [a_x, a_y]= a_x\\hat{\\mathbf{i}} + a_y\\hat{\\mathbf{j}}$\n",
    "- Dla wektora w przestrzeni trójwymiarowej:$\\mathbf{a} = [a_x, a_y, a_z] = a_x\\hat{\\mathbf{i}} + a_y\\hat{\\mathbf{j}} + a_z\\hat{\\mathbf{k}}$\n",
    "\n",
    "### Baza\n",
    "\n",
    "**Baza** wektorów to zbiór wektorów, które rozpięcie tworzy przestrzeń wektorową. W przestrzeni kartezjańskiej standardową bazą są wektory $\\hat{\\mathbf{i}}, \\hat{\\mathbf{j}}, \\hat{\\mathbf{k}}$.\n",
    "\n",
    "Dla 2D:\n",
    "\n",
    "$$\n",
    "\\hat{\\mathbf{i}} = [1, 0], \\quad \\hat{\\mathbf{j}} = [0, 1]\n",
    "$$\n",
    "\n",
    "Dla 3D:\n",
    "\n",
    "$$\n",
    "\\hat{\\mathbf{i}} = [1, 0, 0], \\quad \\hat{\\mathbf{j}} = [0, 1, 0], \\quad \\hat{\\mathbf{k}} = [0, 0, 1]\n",
    "$$\n",
    "\n",
    "Tak zdefiniowane wektory bazowe są jednostkowe i prostopadłe do siebie.\n",
    "\n",
    "### Znajdowanie współrzędnych wektora w nowej bazie\n",
    "\n",
    "Aby znaleźć współrzędne wektora $\\mathbf{v}$ w nowej bazie $\\{\\mathbf{b_1}, \\mathbf{b_2}, \\mathbf{b_3}\\}$, należy wyrazić $\\mathbf{v}$ jako kombinację liniową wektorów bazy.\n",
    "\n",
    "$$\n",
    "\\mathbf{v} = c_1 \\mathbf{b_1} + c_2 \\mathbf{b_2} + c_3 \\mathbf{b_3}\n",
    "$$\n",
    "\n",
    "Współczynniki $c_1, c_2, c_3$ są współrzędnymi wektora $\\mathbf{v}$ w nowej bazie."
   ]
  },
  {
   "cell_type": "markdown",
   "metadata": {},
   "source": [
    "---\n",
    "\n",
    "## Zadania dla studentów\n",
    "\n",
    "A. Przez jaką liczbę należy pomnożyć wektor $\\mathbf{a} = [3, 4]$, aby jego długość była równa 1?\n",
    "\n",
    "B. Policz długość wektora $\\mathbf{b} = [1, 1]$ i znajdź wersor tego wektora. \n",
    "\n",
    "C. Zaprezentuj wektor i wersor z poprzedniego zadania na wykresie.\n",
    "\n",
    "D. Policz długość wektora $\\mathbf{c} = [1, 2, 3]$ i znajdź wersor tego wektora.\n",
    "\n",
    "E. Znajdź współrzędne kartezjańskiego wektora $\\mathbf{v} = [2, 3, 4]$ w bazie $\\{\\mathbf{b_1} = [1, 0, 1], \\mathbf{b_2} = [0, 1, 0], \\mathbf{b_3} = [1, 0, -1]\\}$."
   ]
  },
  {
   "cell_type": "markdown",
   "metadata": {},
   "source": []
  }
 ],
 "metadata": {
  "kernelspec": {
   "display_name": "Python 3",
   "language": "python",
   "name": "python3"
  },
  "language_info": {
   "codemirror_mode": {
    "name": "ipython",
    "version": 3
   },
   "file_extension": ".py",
   "mimetype": "text/x-python",
   "name": "python",
   "nbconvert_exporter": "python",
   "pygments_lexer": "ipython3",
   "version": "3.11.9"
  }
 },
 "nbformat": 4,
 "nbformat_minor": 2
}
