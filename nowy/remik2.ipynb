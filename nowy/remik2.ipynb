{
  "nbformat": 4,
  "nbformat_minor": 0,
  "metadata": {
    "colab": {
      "provenance": [],
      "authorship_tag": "ABX9TyMGGNxHKGXM585lPM9WJhvX",
      "include_colab_link": true
    },
    "kernelspec": {
      "name": "python3",
      "display_name": "Python 3"
    },
    "language_info": {
      "name": "python"
    }
  },
  "cells": [
    {
      "cell_type": "markdown",
      "metadata": {
        "id": "view-in-github",
        "colab_type": "text"
      },
      "source": [
        "<a href=\"https://colab.research.google.com/github/dchorazkiewicz/Math-2024-25-Winter/blob/main/nowy/remik2.ipynb\" target=\"_parent\"><img src=\"https://colab.research.google.com/assets/colab-badge.svg\" alt=\"Open In Colab\"/></a>"
      ]
    },
    {
      "cell_type": "code",
      "execution_count": null,
      "metadata": {
        "colab": {
          "base_uri": "https://localhost:8080/"
        },
        "id": "segf4tvUuSNU",
        "outputId": "10f1333b-fef2-403c-ef18-c50a844ddd4d"
      },
      "outputs": [
        {
          "output_type": "execute_result",
          "data": {
            "text/plain": [
              "3"
            ]
          },
          "metadata": {},
          "execution_count": 1
        }
      ],
      "source": [
        "2+1"
      ]
    },
    {
      "cell_type": "code",
      "source": [
        "# Make random number 1-100 genrator"
      ],
      "metadata": {
        "id": "HPECxI45uUxr"
      },
      "execution_count": 2,
      "outputs": []
    },
    {
      "cell_type": "code",
      "source": [
        "# prompt: # Make random number 1-100 generator\n",
        "\n",
        "import random\n",
        "\n",
        "def generate_random_number():\n",
        "  \"\"\"Generates a random number between 1 and 100.\"\"\"\n",
        "  return random.randint(1, 100)\n",
        "\n",
        "# Example usage:\n",
        "random_number = generate_random_number()\n",
        "print(random_number)\n"
      ],
      "metadata": {
        "id": "ECdlMdDnuwlB",
        "outputId": "e6f8db84-ede7-4a3d-e9f8-70e8a5fc8d2d",
        "colab": {
          "base_uri": "https://localhost:8080/"
        }
      },
      "execution_count": 3,
      "outputs": [
        {
          "output_type": "stream",
          "name": "stdout",
          "text": [
            "81\n"
          ]
        }
      ]
    },
    {
      "cell_type": "code",
      "source": [],
      "metadata": {
        "id": "bW9MPD0IvC6s"
      },
      "execution_count": null,
      "outputs": []
    }
  ]
}